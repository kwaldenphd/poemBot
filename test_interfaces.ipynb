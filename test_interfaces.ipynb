{
  "nbformat": 4,
  "nbformat_minor": 0,
  "metadata": {
    "colab": {
      "provenance": [],
      "mount_file_id": "1zQhl36ph35K-dO_mzTWrme5np804yo0I",
      "authorship_tag": "ABX9TyMUbNIz81S3JqiPn/CfxkUH",
      "include_colab_link": true
    },
    "kernelspec": {
      "name": "python3",
      "display_name": "Python 3"
    },
    "language_info": {
      "name": "python"
    }
  },
  "cells": [
    {
      "cell_type": "markdown",
      "metadata": {
        "id": "view-in-github",
        "colab_type": "text"
      },
      "source": [
        "<a href=\"https://colab.research.google.com/github/kwaldenphd/poemBot/blob/master/test_interfaces.ipynb\" target=\"_parent\"><img src=\"https://colab.research.google.com/assets/colab-badge.svg\" alt=\"Open In Colab\"/></a>"
      ]
    },
    {
      "cell_type": "markdown",
      "source": [
        "# Setup (aka run this first)"
      ],
      "metadata": {
        "id": "FQ83ak_Q1U70"
      }
    },
    {
      "cell_type": "code",
      "source": [
        "! pip install nltk\n",
        "! pip install plotly\n",
        "! pip install textblob\n",
        "! pip install wordcloud"
      ],
      "metadata": {
        "id": "Wfv9dFRP_CyK",
        "colab": {
          "base_uri": "https://localhost:8080/"
        },
        "outputId": "d4a35e76-130e-4b20-af34-67852201eff3"
      },
      "execution_count": 4,
      "outputs": [
        {
          "output_type": "stream",
          "name": "stdout",
          "text": [
            "Looking in indexes: https://pypi.org/simple, https://us-python.pkg.dev/colab-wheels/public/simple/\n",
            "Requirement already satisfied: nltk in /usr/local/lib/python3.9/dist-packages (3.8.1)\n",
            "Requirement already satisfied: tqdm in /usr/local/lib/python3.9/dist-packages (from nltk) (4.65.0)\n",
            "Requirement already satisfied: joblib in /usr/local/lib/python3.9/dist-packages (from nltk) (1.1.1)\n",
            "Requirement already satisfied: click in /usr/local/lib/python3.9/dist-packages (from nltk) (8.1.3)\n",
            "Requirement already satisfied: regex>=2021.8.3 in /usr/local/lib/python3.9/dist-packages (from nltk) (2022.10.31)\n",
            "Looking in indexes: https://pypi.org/simple, https://us-python.pkg.dev/colab-wheels/public/simple/\n",
            "Requirement already satisfied: plotly in /usr/local/lib/python3.9/dist-packages (5.13.1)\n",
            "Requirement already satisfied: tenacity>=6.2.0 in /usr/local/lib/python3.9/dist-packages (from plotly) (8.2.2)\n",
            "Looking in indexes: https://pypi.org/simple, https://us-python.pkg.dev/colab-wheels/public/simple/\n",
            "Requirement already satisfied: textblob in /usr/local/lib/python3.9/dist-packages (0.17.1)\n",
            "Requirement already satisfied: nltk>=3.1 in /usr/local/lib/python3.9/dist-packages (from textblob) (3.8.1)\n",
            "Requirement already satisfied: joblib in /usr/local/lib/python3.9/dist-packages (from nltk>=3.1->textblob) (1.1.1)\n",
            "Requirement already satisfied: regex>=2021.8.3 in /usr/local/lib/python3.9/dist-packages (from nltk>=3.1->textblob) (2022.10.31)\n",
            "Requirement already satisfied: click in /usr/local/lib/python3.9/dist-packages (from nltk>=3.1->textblob) (8.1.3)\n",
            "Requirement already satisfied: tqdm in /usr/local/lib/python3.9/dist-packages (from nltk>=3.1->textblob) (4.65.0)\n",
            "Looking in indexes: https://pypi.org/simple, https://us-python.pkg.dev/colab-wheels/public/simple/\n",
            "Requirement already satisfied: wordcloud in /usr/local/lib/python3.9/dist-packages (1.8.2.2)\n",
            "Requirement already satisfied: matplotlib in /usr/local/lib/python3.9/dist-packages (from wordcloud) (3.7.1)\n",
            "Requirement already satisfied: numpy>=1.6.1 in /usr/local/lib/python3.9/dist-packages (from wordcloud) (1.22.4)\n",
            "Requirement already satisfied: pillow in /usr/local/lib/python3.9/dist-packages (from wordcloud) (8.4.0)\n",
            "Requirement already satisfied: contourpy>=1.0.1 in /usr/local/lib/python3.9/dist-packages (from matplotlib->wordcloud) (1.0.7)\n",
            "Requirement already satisfied: fonttools>=4.22.0 in /usr/local/lib/python3.9/dist-packages (from matplotlib->wordcloud) (4.39.3)\n",
            "Requirement already satisfied: cycler>=0.10 in /usr/local/lib/python3.9/dist-packages (from matplotlib->wordcloud) (0.11.0)\n",
            "Requirement already satisfied: packaging>=20.0 in /usr/local/lib/python3.9/dist-packages (from matplotlib->wordcloud) (23.0)\n",
            "Requirement already satisfied: pyparsing>=2.3.1 in /usr/local/lib/python3.9/dist-packages (from matplotlib->wordcloud) (3.0.9)\n",
            "Requirement already satisfied: importlib-resources>=3.2.0 in /usr/local/lib/python3.9/dist-packages (from matplotlib->wordcloud) (5.12.0)\n",
            "Requirement already satisfied: python-dateutil>=2.7 in /usr/local/lib/python3.9/dist-packages (from matplotlib->wordcloud) (2.8.2)\n",
            "Requirement already satisfied: kiwisolver>=1.0.1 in /usr/local/lib/python3.9/dist-packages (from matplotlib->wordcloud) (1.4.4)\n",
            "Requirement already satisfied: zipp>=3.1.0 in /usr/local/lib/python3.9/dist-packages (from importlib-resources>=3.2.0->matplotlib->wordcloud) (3.15.0)\n",
            "Requirement already satisfied: six>=1.5 in /usr/local/lib/python3.9/dist-packages (from python-dateutil>=2.7->matplotlib->wordcloud) (1.16.0)\n"
          ]
        }
      ]
    },
    {
      "cell_type": "code",
      "source": [
        "# import all the things\n",
        "import sys, pandas as pd, numpy as np, json, random, re, gzip, textwrap, csv, requests\n",
        "from bs4 import BeautifulSoup\n",
        "from datetime import date, datetime\n",
        "\n",
        "# wordcloud/plotly stuff\n",
        "from wordcloud import WordCloud, STOPWORDS\n",
        "import matplotlib.pyplot as plt\n",
        "import plotly.express as px\n",
        "\n",
        "# for centering in a Jupyter Notebook\n",
        "from IPython.display import display, HTML\n",
        "\n",
        "# all the nltk shit\n",
        "import nltk\n",
        "nltk.download('wordnet')\n",
        "nltk.download('stopwords')\n",
        "nltk.download('punkt')\n",
        "nltk.download('averaged_perceptron_tagger')\n",
        "from nltk.corpus import wordnet as wn\n",
        "from nltk.corpus import stopwords\n",
        "from textblob import TextBlob"
      ],
      "metadata": {
        "id": "X7kiCgF6_JAx",
        "colab": {
          "base_uri": "https://localhost:8080/"
        },
        "outputId": "010a11ad-6f17-4d98-ad3e-95384f22282f"
      },
      "execution_count": 5,
      "outputs": [
        {
          "output_type": "stream",
          "name": "stderr",
          "text": [
            "[nltk_data] Downloading package wordnet to /root/nltk_data...\n",
            "[nltk_data]   Package wordnet is already up-to-date!\n",
            "[nltk_data] Downloading package stopwords to /root/nltk_data...\n",
            "[nltk_data]   Package stopwords is already up-to-date!\n",
            "[nltk_data] Downloading package punkt to /root/nltk_data...\n",
            "[nltk_data]   Package punkt is already up-to-date!\n",
            "[nltk_data] Downloading package averaged_perceptron_tagger to\n",
            "[nltk_data]     /root/nltk_data...\n",
            "[nltk_data]   Package averaged_perceptron_tagger is already up-to-\n",
            "[nltk_data]       date!\n"
          ]
        }
      ]
    },
    {
      "cell_type": "code",
      "execution_count": 6,
      "metadata": {
        "id": "cFEo-p9M078B"
      },
      "outputs": [],
      "source": [
        "# load data as df\n",
        "subset = pd.read_csv(\"https://raw.githubusercontent.com/kwaldenphd/interactive-visualization-python/main/data/filtered_subset.csv\")\n",
        "\n",
        "# load data using csv\n",
        "with open('filtered_subset.csv', encoding='utf-8') as csvPoems:\n",
        "  allPoems = list(csv.reader(csvPoems, delimiter=','))"
      ]
    },
    {
      "cell_type": "markdown",
      "source": [
        "# Output Random Poem\n",
        "\n",
        "Randomly selects a poem."
      ],
      "metadata": {
        "id": "oJw3VVDx1YXU"
      }
    },
    {
      "cell_type": "markdown",
      "source": [
        "## Pandas DataFrame Workflow"
      ],
      "metadata": {
        "id": "BMdFjGLST76E"
      }
    },
    {
      "cell_type": "code",
      "source": [
        "# function to output random poem\n",
        "def randPoem():\n",
        "  randPoem = subset.sample().values.tolist()\n",
        "  wrappedTitle = textwrap.fill(randPoem[0][0], width=32)\n",
        "  wrappedAuthor = textwrap.fill(randPoem[0][2], width=32)\n",
        "  wrappedSource = textwrap.fill(randPoem[0][3], width=32)\n",
        "  wrappedPoem = \"\"\n",
        "  for line in randPoem[0][1].splitlines():\n",
        "    wrappedLine = textwrap.fill(line, width=32, subsequent_indent=\"    \")\n",
        "    wrappedPoem += wrappedLine +\"\\n\"\n",
        "  print(wrappedTitle, \"\\n \\n\", wrappedPoem, \"\\n \\n\", wrappedAuthor, \"\\n\", wrappedSource) # printer.println(wrappedTitle)\n",
        "\n",
        "# center in ipynb\n",
        "html_src = \"<div style='text-align:left'>\"\n",
        "html_src += str(randPoem())\n",
        "html_src += \"<div>\"\n",
        "display(HTML(html_src))"
      ],
      "metadata": {
        "id": "OcDWTHDG1ZZE",
        "colab": {
          "base_uri": "https://localhost:8080/",
          "height": 555
        },
        "outputId": "17e556d4-70d8-43fe-fc52-7f0dbac87a65"
      },
      "execution_count": 7,
      "outputs": [
        {
          "output_type": "stream",
          "name": "stdout",
          "text": [
            "Yes, it can be admitted now \n",
            " \n",
            " \n",
            "Yes, it can be admitted now: she\n",
            "    had a secret once\n",
            "\n",
            "carried like a stone in her\n",
            "    pocket until\n",
            "forgotten—\n",
            "\n",
            "(is this how what we are\n",
            "becomes unspeakable.)\n",
            "\n",
            "what if years later running her\n",
            "    hands down her body she\n",
            "    found\n",
            "that stone, worn now,\n",
            "\n",
            "and named it\n",
            "home\n",
            "or God\n",
            "or something\n",
            "\n",
            "equally\n",
            "\n",
            "hard?\n",
            " \n",
            " \n",
            " Kathleen Jesme \n",
            " Poets.Org\n"
          ]
        },
        {
          "output_type": "display_data",
          "data": {
            "text/plain": [
              "<IPython.core.display.HTML object>"
            ],
            "text/html": [
              "<div style='text-align:left'>None<div>"
            ]
          },
          "metadata": {}
        }
      ]
    },
    {
      "cell_type": "markdown",
      "source": [
        "## CSV Workflow"
      ],
      "metadata": {
        "id": "jEsE0ll2T-ew"
      }
    },
    {
      "cell_type": "code",
      "source": [
        "# function\n",
        "def printPoem():\n",
        "  #get a random poem\n",
        "  randPoem = random.choice(allPoems)\n",
        "  wrappedTitle = textwrap.fill(randPoem[0], width=32)\n",
        "  wrappedAuthor = textwrap.fill(randPoem[2], width=32)\n",
        "  wrappedSource = textwrap.fill(randPoem[3], width=32)\n",
        "  wrappedPoem = \"\"\n",
        "  for line in randPoem[1].splitlines():\n",
        "      wrappedLine = textwrap.fill(line, width=32, subsequent_indent=\"    \")\n",
        "      wrappedPoem += wrappedLine +\"\\n\"\n",
        "  print(wrappedTitle, \"\\n \\n\", wrappedPoem, \"\\n \\n\", wrappedAuthor, \"\\n\", wrappedSource) # printer.println(wrappedTitle)\n",
        "\n",
        "printPoem()"
      ],
      "metadata": {
        "id": "nbUCEzuBT_lS",
        "colab": {
          "base_uri": "https://localhost:8080/"
        },
        "outputId": "53e9d0e4-6840-4d5b-f638-2db82a67cbd7"
      },
      "execution_count": 8,
      "outputs": [
        {
          "output_type": "stream",
          "name": "stdout",
          "text": [
            "                    Bewitched\n",
            "Playground \n",
            " \n",
            " \n",
            "Each could picture probably\n",
            "with great care his brother\n",
            "    drawing\n",
            "the corded string of a watered\n",
            "    silk bag\n",
            "and mumbling to Basho above the\n",
            "    keepsake   pay your respects\n",
            "    to mother's white hair\n",
            "now your eyebrows look a little\n",
            "    white too\n",
            " \n",
            " \n",
            " David Rivard \n",
            " Poetry Foundation\n"
          ]
        }
      ]
    },
    {
      "cell_type": "markdown",
      "source": [
        "# Output Random Poem Based on Keyword Input\n",
        "\n",
        "Asks the user for a keyword input and randomly selects a poem that contains that term."
      ],
      "metadata": {
        "id": "_Dxynihs1dKM"
      }
    },
    {
      "cell_type": "code",
      "source": [
        "# function to have user input keyword & output random poem\n",
        "def keyPoem(poems):\n",
        "  keyword = input(\"Enter a search term: \")\n",
        "  randPoem = poems[poems['text'].str.contains(keyword)].sample().values.tolist()\n",
        "  wrappedTitle = textwrap.fill(randPoem[0][0], width=32)\n",
        "  wrappedAuthor = textwrap.fill(randPoem[0][2], width=32)\n",
        "  wrappedSource = textwrap.fill(randPoem[0][3], width=32)\n",
        "  wrappedPoem = \"\"\n",
        "  for line in randPoem[0][1].splitlines():\n",
        "      wrappedLine = textwrap.fill(line, width=32, subsequent_indent=\"    \")\n",
        "      wrappedPoem += wrappedLine +\"\\n\"\n",
        "  print(wrappedTitle, \"\\n \\n\", wrappedPoem, \"\\n \\n\", wrappedAuthor, \"\\n\", wrappedSource) # printer.println(wrappedTitle)\n",
        "\n",
        "keyPoem(subset)"
      ],
      "metadata": {
        "id": "I6EDo-BY1hIX",
        "colab": {
          "base_uri": "https://localhost:8080/"
        },
        "outputId": "c0aa717c-dc47-4ede-ef93-3d296eceb7bf"
      },
      "execution_count": 9,
      "outputs": [
        {
          "output_type": "stream",
          "name": "stdout",
          "text": [
            "Enter a search term: test\n",
            "                    Ignatz\n",
            "Invoked \n",
            " \n",
            " \n",
            "A gauze bandage wraps the land\n",
            "and is unwound, stained orange\n",
            "    with sulfates.\n",
            "A series of slaps molds a\n",
            "    mountain,\n",
            "a fear uncoils itself, testing\n",
            "    its long\n",
            "cool limbs. A passing cloud\n",
            "seizes up like a carburetor\n",
            "and falls to earth, lies broken-\n",
            "backed and lidless in the scree.\n",
            "Acetylene torches now snug\n",
            "in their holsters, shop-vacs\n",
            "trundled back behind the dawn.\n",
            "A mist becomes a murmur, becomes\n",
            "a moan deepening the dust-\n",
            "choked fissures in the rock O\n",
            "    pity us\n",
            "Ignatz O come to us by moonlight\n",
            "O arch your speckled body over\n",
            "    the earth.\n",
            " \n",
            " \n",
            " Monica Youn \n",
            " Poetry Foundation\n"
          ]
        }
      ]
    },
    {
      "cell_type": "markdown",
      "source": [
        "# Output Poem Based on Day of Week\n",
        "\n",
        "Gets the day of the week (as a string) and randomly selects a poem that contains that keyword."
      ],
      "metadata": {
        "id": "7otH0aEAaUAZ"
      }
    },
    {
      "cell_type": "code",
      "source": [
        "# get date\n",
        "date = datetime.now()\n",
        "day = date.strftime('%A')\n",
        "\n",
        "# function to output random poem that includes day of week\n",
        "def dayPoem(poems):\n",
        "  date = datetime.now()\n",
        "  day = date.strftime('%A')\n",
        "  randPoem = poems[poems['text'].str.contains(day)].sample().values.tolist()\n",
        "  wrappedTitle = textwrap.fill(randPoem[0][0], width=32)\n",
        "  wrappedAuthor = textwrap.fill(randPoem[0][2], width=32)\n",
        "  wrappedSource = textwrap.fill(randPoem[0][3], width=32)\n",
        "  wrappedPoem = \"\"\n",
        "  for line in randPoem[0][1].splitlines():\n",
        "      wrappedLine = textwrap.fill(line, width=32, subsequent_indent=\"    \")\n",
        "      wrappedPoem += wrappedLine +\"\\n\"\n",
        "  print(wrappedTitle, \"\\n \\n\", wrappedPoem, \"\\n \\n\", wrappedAuthor, \"\\n\", wrappedSource) # printer.println(wrappedTitle)\n",
        "\n",
        "dayPoem(subset)"
      ],
      "metadata": {
        "id": "vGO4SGamaWej",
        "colab": {
          "base_uri": "https://localhost:8080/"
        },
        "outputId": "23705c5f-36af-4614-d420-dfcf91df8b03"
      },
      "execution_count": 10,
      "outputs": [
        {
          "output_type": "stream",
          "name": "stdout",
          "text": [
            "                    Triolet on a\n",
            "Line Apocryphally Attributed to\n",
            "Martin Luther \n",
            " \n",
            " \n",
            "Why should the Devil get all the\n",
            "    good tunes,\n",
            "The booze and the neon and\n",
            "    Saturday night,\n",
            "The swaying in darkness, the\n",
            "    lovers like spoons?\n",
            "Why should the Devil get all the\n",
            "    good tunes?\n",
            "Does he hum them to while away\n",
            "    sad afternoons\n",
            "And the long, lonesome Sundays?\n",
            "    Or sing them for spite?\n",
            "Why should the Devil get all the\n",
            "    good tunes,\n",
            "The booze and the neon and\n",
            "    Saturday night?\n",
            " \n",
            " \n",
            " A. E. Stallings \n",
            " Poetry Foundation\n"
          ]
        }
      ]
    },
    {
      "cell_type": "markdown",
      "source": [
        "# Output Poem Based on Weather\n",
        "\n",
        "Uses a weather API to get a description of the current weather for `46556` zip code, converts to list of strings. Uses `nltk` to get synonyms for the weather descriptive terms. Selects a random term from the synonym list and randomly selects a poem that contains that keyword."
      ],
      "metadata": {
        "id": "LA5cIyLCb5-n"
      }
    },
    {
      "cell_type": "markdown",
      "source": [
        "## Get Weather\n",
        "\n",
        "- [OpenWeatherMap API](https://openweathermap.org/api)\n",
        "- [GeeksForGeeks tutorial](https://www.geeksforgeeks.org/python-find-current-weather-of-any-city-using-openweathermap-api/)"
      ],
      "metadata": {
        "id": "CBWwYBf0sqT3"
      }
    },
    {
      "cell_type": "code",
      "source": [
        "# api key\n",
        "api_key = \"50574b5b7d941583dd781ca893a6a194\"\n",
        "\n",
        "def getWeather(api_key):\n",
        "  # url\n",
        "  url = \"https://api.openweathermap.org/data/2.5/weather?lat=41.7002&lon=-86.2379&appid=\" + api_key\n",
        "\n",
        "  # get response\n",
        "  response = requests.get(url)\n",
        "  \n",
        "  # store response\n",
        "  x = response.json()\n",
        "\n",
        "  # get weather key terms as list of strings\n",
        "  weather = x['weather'][0]['main']\n",
        "  weather += \" \"\n",
        "  weather += x['weather'][0]['description']\n",
        "  weather = weather.split()\n",
        "  return weather\n",
        "\n",
        "getWeather(api_key)"
      ],
      "metadata": {
        "id": "8UfDlvJidBUr",
        "colab": {
          "base_uri": "https://localhost:8080/"
        },
        "outputId": "35c177a4-87c8-4452-a892-580163778db2"
      },
      "execution_count": 30,
      "outputs": [
        {
          "output_type": "execute_result",
          "data": {
            "text/plain": [
              "['Clouds', 'overcast', 'clouds']"
            ]
          },
          "metadata": {},
          "execution_count": 30
        }
      ]
    },
    {
      "cell_type": "markdown",
      "source": [
        "## Get synonyms\n",
        "\n",
        "- [NLTK documentation](https://www.nltk.org/howto/wordnet.html)\n",
        "- [GeeksForGeeks tutorial](https://www.geeksforgeeks.org/get-synonymsantonyms-nltk-wordnet-python/)"
      ],
      "metadata": {
        "id": "XlANP4c3iOJE"
      }
    },
    {
      "cell_type": "code",
      "source": [
        "# function definition\n",
        "def getSyn(weather):\n",
        "  # empty list\n",
        "  synonyms = []\n",
        "  \n",
        "  # for loop\n",
        "  for w in weather:\n",
        "    synonyms.append(w)\n",
        "    for syn in wn.synsets(w):\n",
        "      for l in syn.lemmas():\n",
        "        synonyms.append(l.name())\n",
        "  \n",
        "  # remove duplicates\n",
        "  synonyms = list(set(synonyms))\n",
        "  return synonyms\n",
        "  \n",
        "getSyn(weather)"
      ],
      "metadata": {
        "id": "-7D_qYryh47T",
        "colab": {
          "base_uri": "https://localhost:8080/",
          "height": 201
        },
        "outputId": "cd46f4b2-4e1e-4f29-d8bf-42d84487a2aa"
      },
      "execution_count": 31,
      "outputs": [
        {
          "output_type": "error",
          "ename": "NameError",
          "evalue": "ignored",
          "traceback": [
            "\u001b[0;31m---------------------------------------------------------------------------\u001b[0m",
            "\u001b[0;31mNameError\u001b[0m                                 Traceback (most recent call last)",
            "\u001b[0;32m<ipython-input-31-73ea729ee84f>\u001b[0m in \u001b[0;36m<cell line: 17>\u001b[0;34m()\u001b[0m\n\u001b[1;32m     15\u001b[0m   \u001b[0;32mreturn\u001b[0m \u001b[0msynonyms\u001b[0m\u001b[0;34m\u001b[0m\u001b[0;34m\u001b[0m\u001b[0m\n\u001b[1;32m     16\u001b[0m \u001b[0;34m\u001b[0m\u001b[0m\n\u001b[0;32m---> 17\u001b[0;31m \u001b[0mgetSyn\u001b[0m\u001b[0;34m(\u001b[0m\u001b[0mweather\u001b[0m\u001b[0;34m)\u001b[0m\u001b[0;34m\u001b[0m\u001b[0;34m\u001b[0m\u001b[0m\n\u001b[0m",
            "\u001b[0;31mNameError\u001b[0m: name 'weather' is not defined"
          ]
        }
      ]
    },
    {
      "cell_type": "markdown",
      "source": [
        "## Get Poem"
      ],
      "metadata": {
        "id": "gvpaiVCbsuDa"
      }
    },
    {
      "cell_type": "code",
      "source": [
        "# get random poem that includes synonym words\n",
        "def weatherPoem(poems, weather):\n",
        "  keyword = random.choice(weather)\n",
        "  randPoem = poems[poems['text'].str.contains(keyword)].sample().values.tolist()\n",
        "  wrappedTitle = textwrap.fill(randPoem[0][0], width=32)\n",
        "  wrappedAuthor = textwrap.fill(randPoem[0][2], width=32)\n",
        "  wrappedSource = textwrap.fill(randPoem[0][3], width=32)\n",
        "  wrappedPoem = \"\"\n",
        "  for line in randPoem[0][1].splitlines():\n",
        "      wrappedLine = textwrap.fill(line, width=32, subsequent_indent=\"    \")\n",
        "      wrappedPoem += wrappedLine +\"\\n\"\n",
        "  print(wrappedTitle, \"\\n \\n\", wrappedPoem, \"\\n \\n\", wrappedAuthor, \"\\n\", wrappedSource) # printer.println(wrappedTitle)\n",
        "\n",
        "weatherPoem(subset, weather)"
      ],
      "metadata": {
        "colab": {
          "base_uri": "https://localhost:8080/",
          "height": 201
        },
        "id": "9dUDoQYNk3kr",
        "outputId": "25d19412-a990-49eb-fb89-4c6c4c4f8891"
      },
      "execution_count": 32,
      "outputs": [
        {
          "output_type": "error",
          "ename": "NameError",
          "evalue": "ignored",
          "traceback": [
            "\u001b[0;31m---------------------------------------------------------------------------\u001b[0m",
            "\u001b[0;31mNameError\u001b[0m                                 Traceback (most recent call last)",
            "\u001b[0;32m<ipython-input-32-9b2d5a69a810>\u001b[0m in \u001b[0;36m<cell line: 14>\u001b[0;34m()\u001b[0m\n\u001b[1;32m     12\u001b[0m   \u001b[0mprint\u001b[0m\u001b[0;34m(\u001b[0m\u001b[0mwrappedTitle\u001b[0m\u001b[0;34m,\u001b[0m \u001b[0;34m\"\\n \\n\"\u001b[0m\u001b[0;34m,\u001b[0m \u001b[0mwrappedPoem\u001b[0m\u001b[0;34m,\u001b[0m \u001b[0;34m\"\\n \\n\"\u001b[0m\u001b[0;34m,\u001b[0m \u001b[0mwrappedAuthor\u001b[0m\u001b[0;34m,\u001b[0m \u001b[0;34m\"\\n\"\u001b[0m\u001b[0;34m,\u001b[0m \u001b[0mwrappedSource\u001b[0m\u001b[0;34m)\u001b[0m \u001b[0;31m# printer.println(wrappedTitle)\u001b[0m\u001b[0;34m\u001b[0m\u001b[0;34m\u001b[0m\u001b[0m\n\u001b[1;32m     13\u001b[0m \u001b[0;34m\u001b[0m\u001b[0m\n\u001b[0;32m---> 14\u001b[0;31m \u001b[0mweatherPoem\u001b[0m\u001b[0;34m(\u001b[0m\u001b[0msubset\u001b[0m\u001b[0;34m,\u001b[0m \u001b[0mweather\u001b[0m\u001b[0;34m)\u001b[0m\u001b[0;34m\u001b[0m\u001b[0;34m\u001b[0m\u001b[0m\n\u001b[0m",
            "\u001b[0;31mNameError\u001b[0m: name 'weather' is not defined"
          ]
        }
      ]
    },
    {
      "cell_type": "markdown",
      "source": [
        "# Term Frequency Visualization"
      ],
      "metadata": {
        "id": "V9qK55uKsvfJ"
      }
    },
    {
      "cell_type": "markdown",
      "source": [
        "## Data Wrangling Experiments"
      ],
      "metadata": {
        "id": "UTZITQ_fvKdq"
      }
    },
    {
      "cell_type": "markdown",
      "source": [
        "### Convert to Lowercase"
      ],
      "metadata": {
        "id": "BJ43G1wbB6FX"
      }
    },
    {
      "cell_type": "code",
      "source": [
        "# convert to lowercase\n",
        "subset[\"poem_lowercase\"] = subset['text'].str.lower().str.replace('[^\\w\\s]','')\n",
        "\n",
        "# get term frequency, make new df\n",
        "termFreq = subset.poem_lowercase.str.split(expand=True).stack().value_counts().reset_index()\n",
        "termFreq.columns = ['Word', 'Frequency']  \n",
        "termFreq.head(20)"
      ],
      "metadata": {
        "id": "yt2YEN_DtGJy",
        "colab": {
          "base_uri": "https://localhost:8080/",
          "height": 711
        },
        "outputId": "5bbfff34-ffd8-4f35-e59f-7af221515f6f"
      },
      "execution_count": 24,
      "outputs": [
        {
          "output_type": "stream",
          "name": "stderr",
          "text": [
            "<ipython-input-24-49b1470e4b83>:2: FutureWarning: The default value of regex will change from True to False in a future version.\n",
            "  subset[\"poem_lowercase\"] = subset['text'].str.lower().str.replace('[^\\w\\s]','')\n"
          ]
        },
        {
          "output_type": "execute_result",
          "data": {
            "text/plain": [
              "    Word  Frequency\n",
              "0    the      18248\n",
              "1    and       9104\n",
              "2      a       7435\n",
              "3     of       7046\n",
              "4     to       5883\n",
              "5      i       5299\n",
              "6     in       5264\n",
              "7     is       3089\n",
              "8     my       3005\n",
              "9   that       2751\n",
              "10    it       2629\n",
              "11   you       2604\n",
              "12  with       2227\n",
              "13   for       2057\n",
              "14    on       2046\n",
              "15    as       1789\n",
              "16    me       1679\n",
              "17   not       1637\n",
              "18   but       1599\n",
              "19  from       1420"
            ],
            "text/html": [
              "\n",
              "  <div id=\"df-05608ba6-9c79-4778-bb46-e024c5169663\">\n",
              "    <div class=\"colab-df-container\">\n",
              "      <div>\n",
              "<style scoped>\n",
              "    .dataframe tbody tr th:only-of-type {\n",
              "        vertical-align: middle;\n",
              "    }\n",
              "\n",
              "    .dataframe tbody tr th {\n",
              "        vertical-align: top;\n",
              "    }\n",
              "\n",
              "    .dataframe thead th {\n",
              "        text-align: right;\n",
              "    }\n",
              "</style>\n",
              "<table border=\"1\" class=\"dataframe\">\n",
              "  <thead>\n",
              "    <tr style=\"text-align: right;\">\n",
              "      <th></th>\n",
              "      <th>Word</th>\n",
              "      <th>Frequency</th>\n",
              "    </tr>\n",
              "  </thead>\n",
              "  <tbody>\n",
              "    <tr>\n",
              "      <th>0</th>\n",
              "      <td>the</td>\n",
              "      <td>18248</td>\n",
              "    </tr>\n",
              "    <tr>\n",
              "      <th>1</th>\n",
              "      <td>and</td>\n",
              "      <td>9104</td>\n",
              "    </tr>\n",
              "    <tr>\n",
              "      <th>2</th>\n",
              "      <td>a</td>\n",
              "      <td>7435</td>\n",
              "    </tr>\n",
              "    <tr>\n",
              "      <th>3</th>\n",
              "      <td>of</td>\n",
              "      <td>7046</td>\n",
              "    </tr>\n",
              "    <tr>\n",
              "      <th>4</th>\n",
              "      <td>to</td>\n",
              "      <td>5883</td>\n",
              "    </tr>\n",
              "    <tr>\n",
              "      <th>5</th>\n",
              "      <td>i</td>\n",
              "      <td>5299</td>\n",
              "    </tr>\n",
              "    <tr>\n",
              "      <th>6</th>\n",
              "      <td>in</td>\n",
              "      <td>5264</td>\n",
              "    </tr>\n",
              "    <tr>\n",
              "      <th>7</th>\n",
              "      <td>is</td>\n",
              "      <td>3089</td>\n",
              "    </tr>\n",
              "    <tr>\n",
              "      <th>8</th>\n",
              "      <td>my</td>\n",
              "      <td>3005</td>\n",
              "    </tr>\n",
              "    <tr>\n",
              "      <th>9</th>\n",
              "      <td>that</td>\n",
              "      <td>2751</td>\n",
              "    </tr>\n",
              "    <tr>\n",
              "      <th>10</th>\n",
              "      <td>it</td>\n",
              "      <td>2629</td>\n",
              "    </tr>\n",
              "    <tr>\n",
              "      <th>11</th>\n",
              "      <td>you</td>\n",
              "      <td>2604</td>\n",
              "    </tr>\n",
              "    <tr>\n",
              "      <th>12</th>\n",
              "      <td>with</td>\n",
              "      <td>2227</td>\n",
              "    </tr>\n",
              "    <tr>\n",
              "      <th>13</th>\n",
              "      <td>for</td>\n",
              "      <td>2057</td>\n",
              "    </tr>\n",
              "    <tr>\n",
              "      <th>14</th>\n",
              "      <td>on</td>\n",
              "      <td>2046</td>\n",
              "    </tr>\n",
              "    <tr>\n",
              "      <th>15</th>\n",
              "      <td>as</td>\n",
              "      <td>1789</td>\n",
              "    </tr>\n",
              "    <tr>\n",
              "      <th>16</th>\n",
              "      <td>me</td>\n",
              "      <td>1679</td>\n",
              "    </tr>\n",
              "    <tr>\n",
              "      <th>17</th>\n",
              "      <td>not</td>\n",
              "      <td>1637</td>\n",
              "    </tr>\n",
              "    <tr>\n",
              "      <th>18</th>\n",
              "      <td>but</td>\n",
              "      <td>1599</td>\n",
              "    </tr>\n",
              "    <tr>\n",
              "      <th>19</th>\n",
              "      <td>from</td>\n",
              "      <td>1420</td>\n",
              "    </tr>\n",
              "  </tbody>\n",
              "</table>\n",
              "</div>\n",
              "      <button class=\"colab-df-convert\" onclick=\"convertToInteractive('df-05608ba6-9c79-4778-bb46-e024c5169663')\"\n",
              "              title=\"Convert this dataframe to an interactive table.\"\n",
              "              style=\"display:none;\">\n",
              "        \n",
              "  <svg xmlns=\"http://www.w3.org/2000/svg\" height=\"24px\"viewBox=\"0 0 24 24\"\n",
              "       width=\"24px\">\n",
              "    <path d=\"M0 0h24v24H0V0z\" fill=\"none\"/>\n",
              "    <path d=\"M18.56 5.44l.94 2.06.94-2.06 2.06-.94-2.06-.94-.94-2.06-.94 2.06-2.06.94zm-11 1L8.5 8.5l.94-2.06 2.06-.94-2.06-.94L8.5 2.5l-.94 2.06-2.06.94zm10 10l.94 2.06.94-2.06 2.06-.94-2.06-.94-.94-2.06-.94 2.06-2.06.94z\"/><path d=\"M17.41 7.96l-1.37-1.37c-.4-.4-.92-.59-1.43-.59-.52 0-1.04.2-1.43.59L10.3 9.45l-7.72 7.72c-.78.78-.78 2.05 0 2.83L4 21.41c.39.39.9.59 1.41.59.51 0 1.02-.2 1.41-.59l7.78-7.78 2.81-2.81c.8-.78.8-2.07 0-2.86zM5.41 20L4 18.59l7.72-7.72 1.47 1.35L5.41 20z\"/>\n",
              "  </svg>\n",
              "      </button>\n",
              "      \n",
              "  <style>\n",
              "    .colab-df-container {\n",
              "      display:flex;\n",
              "      flex-wrap:wrap;\n",
              "      gap: 12px;\n",
              "    }\n",
              "\n",
              "    .colab-df-convert {\n",
              "      background-color: #E8F0FE;\n",
              "      border: none;\n",
              "      border-radius: 50%;\n",
              "      cursor: pointer;\n",
              "      display: none;\n",
              "      fill: #1967D2;\n",
              "      height: 32px;\n",
              "      padding: 0 0 0 0;\n",
              "      width: 32px;\n",
              "    }\n",
              "\n",
              "    .colab-df-convert:hover {\n",
              "      background-color: #E2EBFA;\n",
              "      box-shadow: 0px 1px 2px rgba(60, 64, 67, 0.3), 0px 1px 3px 1px rgba(60, 64, 67, 0.15);\n",
              "      fill: #174EA6;\n",
              "    }\n",
              "\n",
              "    [theme=dark] .colab-df-convert {\n",
              "      background-color: #3B4455;\n",
              "      fill: #D2E3FC;\n",
              "    }\n",
              "\n",
              "    [theme=dark] .colab-df-convert:hover {\n",
              "      background-color: #434B5C;\n",
              "      box-shadow: 0px 1px 3px 1px rgba(0, 0, 0, 0.15);\n",
              "      filter: drop-shadow(0px 1px 2px rgba(0, 0, 0, 0.3));\n",
              "      fill: #FFFFFF;\n",
              "    }\n",
              "  </style>\n",
              "\n",
              "      <script>\n",
              "        const buttonEl =\n",
              "          document.querySelector('#df-05608ba6-9c79-4778-bb46-e024c5169663 button.colab-df-convert');\n",
              "        buttonEl.style.display =\n",
              "          google.colab.kernel.accessAllowed ? 'block' : 'none';\n",
              "\n",
              "        async function convertToInteractive(key) {\n",
              "          const element = document.querySelector('#df-05608ba6-9c79-4778-bb46-e024c5169663');\n",
              "          const dataTable =\n",
              "            await google.colab.kernel.invokeFunction('convertToInteractive',\n",
              "                                                     [key], {});\n",
              "          if (!dataTable) return;\n",
              "\n",
              "          const docLinkHtml = 'Like what you see? Visit the ' +\n",
              "            '<a target=\"_blank\" href=https://colab.research.google.com/notebooks/data_table.ipynb>data table notebook</a>'\n",
              "            + ' to learn more about interactive tables.';\n",
              "          element.innerHTML = '';\n",
              "          dataTable['output_type'] = 'display_data';\n",
              "          await google.colab.output.renderOutput(dataTable, element);\n",
              "          const docLink = document.createElement('div');\n",
              "          docLink.innerHTML = docLinkHtml;\n",
              "          element.appendChild(docLink);\n",
              "        }\n",
              "      </script>\n",
              "    </div>\n",
              "  </div>\n",
              "  "
            ]
          },
          "metadata": {},
          "execution_count": 24
        }
      ]
    },
    {
      "cell_type": "markdown",
      "source": [
        "### Remove Stopwords"
      ],
      "metadata": {
        "id": "idTxFMWBB82Y"
      }
    },
    {
      "cell_type": "code",
      "source": [
        "# load stopwords from nltk\n",
        "stop = stopwords.words('english')\n",
        "\n",
        "# remove stopwords from lowercase poem column\n",
        "subset['poem_no_stop'] = subset['poem_lowercase'].apply(lambda x: ' '.join([word for word in x.split() if word not in (stop)]))\n",
        "\n",
        "# get term frequency (sans stopwords)\n",
        "termFreq = subset.poem_no_stop.str.split(expand=True).stack().value_counts().reset_index() \n",
        "termFreq.columns = ['Word', 'Frequency'] \n",
        "termFreq.head(40)"
      ],
      "metadata": {
        "id": "vVUV5TA-tnu1"
      },
      "execution_count": null,
      "outputs": []
    },
    {
      "cell_type": "markdown",
      "source": [
        "### Filter Parts of Speech\n",
        "\n",
        "- [StackOverflow](https://stackoverflow.com/questions/56980515/how-to-extract-all-adjectives-from-a-strings-of-text-in-a-pandas-dataframe)\n",
        "\n",
        "Uses `nltk` to filter terms for specific parts of speech (adjectives, nouns, adverbs, verbs)."
      ],
      "metadata": {
        "id": "bj4f0BCAvRuT"
      }
    },
    {
      "cell_type": "code",
      "source": [
        "# get term positions\n",
        "data = []\n",
        "\n",
        "for item in subset['poem_no_stop']:\n",
        "  wordsList = nltk.word_tokenize(thing)\n",
        "  tagged = nltk.pos_tag(wordsList)\n",
        "  for i in tagged:\n",
        "    term = i[0]\n",
        "    pos = i[1]\n",
        "    sublist = [term, pos]\n",
        "    data.append(sublist)\n",
        "\n",
        "# create df\n",
        "termPos = pd.DataFrame(data, columns=[\"term\", \"pos\"])\n",
        "\n",
        "# filter based on term type\n",
        "termPosSub = termPos[termPos['pos'].str.startswith(('JJ', 'NN', 'RB', 'VB'))]\n",
        "termPosSub"
      ],
      "metadata": {
        "colab": {
          "base_uri": "https://localhost:8080/",
          "height": 424
        },
        "id": "UNGc98mkzuUw",
        "outputId": "796d3771-54a9-4bff-ae03-fe2d9bb5a93b"
      },
      "execution_count": 45,
      "outputs": [
        {
          "output_type": "execute_result",
          "data": {
            "text/plain": [
              "             term  pos\n",
              "0            spun   JJ\n",
              "1            line   NN\n",
              "2            knew  VBD\n",
              "3       listening  VBG\n",
              "4            spun   NN\n",
              "...           ...  ...\n",
              "271226        lay  VBD\n",
              "271227       open   JJ\n",
              "271229      mouth   NN\n",
              "271230  disbelief   NN\n",
              "271231   believed  VBD\n",
              "\n",
              "[245804 rows x 2 columns]"
            ],
            "text/html": [
              "\n",
              "  <div id=\"df-1a786c15-a331-41dd-a85e-3ea138fb30f7\">\n",
              "    <div class=\"colab-df-container\">\n",
              "      <div>\n",
              "<style scoped>\n",
              "    .dataframe tbody tr th:only-of-type {\n",
              "        vertical-align: middle;\n",
              "    }\n",
              "\n",
              "    .dataframe tbody tr th {\n",
              "        vertical-align: top;\n",
              "    }\n",
              "\n",
              "    .dataframe thead th {\n",
              "        text-align: right;\n",
              "    }\n",
              "</style>\n",
              "<table border=\"1\" class=\"dataframe\">\n",
              "  <thead>\n",
              "    <tr style=\"text-align: right;\">\n",
              "      <th></th>\n",
              "      <th>term</th>\n",
              "      <th>pos</th>\n",
              "    </tr>\n",
              "  </thead>\n",
              "  <tbody>\n",
              "    <tr>\n",
              "      <th>0</th>\n",
              "      <td>spun</td>\n",
              "      <td>JJ</td>\n",
              "    </tr>\n",
              "    <tr>\n",
              "      <th>1</th>\n",
              "      <td>line</td>\n",
              "      <td>NN</td>\n",
              "    </tr>\n",
              "    <tr>\n",
              "      <th>2</th>\n",
              "      <td>knew</td>\n",
              "      <td>VBD</td>\n",
              "    </tr>\n",
              "    <tr>\n",
              "      <th>3</th>\n",
              "      <td>listening</td>\n",
              "      <td>VBG</td>\n",
              "    </tr>\n",
              "    <tr>\n",
              "      <th>4</th>\n",
              "      <td>spun</td>\n",
              "      <td>NN</td>\n",
              "    </tr>\n",
              "    <tr>\n",
              "      <th>...</th>\n",
              "      <td>...</td>\n",
              "      <td>...</td>\n",
              "    </tr>\n",
              "    <tr>\n",
              "      <th>271226</th>\n",
              "      <td>lay</td>\n",
              "      <td>VBD</td>\n",
              "    </tr>\n",
              "    <tr>\n",
              "      <th>271227</th>\n",
              "      <td>open</td>\n",
              "      <td>JJ</td>\n",
              "    </tr>\n",
              "    <tr>\n",
              "      <th>271229</th>\n",
              "      <td>mouth</td>\n",
              "      <td>NN</td>\n",
              "    </tr>\n",
              "    <tr>\n",
              "      <th>271230</th>\n",
              "      <td>disbelief</td>\n",
              "      <td>NN</td>\n",
              "    </tr>\n",
              "    <tr>\n",
              "      <th>271231</th>\n",
              "      <td>believed</td>\n",
              "      <td>VBD</td>\n",
              "    </tr>\n",
              "  </tbody>\n",
              "</table>\n",
              "<p>245804 rows × 2 columns</p>\n",
              "</div>\n",
              "      <button class=\"colab-df-convert\" onclick=\"convertToInteractive('df-1a786c15-a331-41dd-a85e-3ea138fb30f7')\"\n",
              "              title=\"Convert this dataframe to an interactive table.\"\n",
              "              style=\"display:none;\">\n",
              "        \n",
              "  <svg xmlns=\"http://www.w3.org/2000/svg\" height=\"24px\"viewBox=\"0 0 24 24\"\n",
              "       width=\"24px\">\n",
              "    <path d=\"M0 0h24v24H0V0z\" fill=\"none\"/>\n",
              "    <path d=\"M18.56 5.44l.94 2.06.94-2.06 2.06-.94-2.06-.94-.94-2.06-.94 2.06-2.06.94zm-11 1L8.5 8.5l.94-2.06 2.06-.94-2.06-.94L8.5 2.5l-.94 2.06-2.06.94zm10 10l.94 2.06.94-2.06 2.06-.94-2.06-.94-.94-2.06-.94 2.06-2.06.94z\"/><path d=\"M17.41 7.96l-1.37-1.37c-.4-.4-.92-.59-1.43-.59-.52 0-1.04.2-1.43.59L10.3 9.45l-7.72 7.72c-.78.78-.78 2.05 0 2.83L4 21.41c.39.39.9.59 1.41.59.51 0 1.02-.2 1.41-.59l7.78-7.78 2.81-2.81c.8-.78.8-2.07 0-2.86zM5.41 20L4 18.59l7.72-7.72 1.47 1.35L5.41 20z\"/>\n",
              "  </svg>\n",
              "      </button>\n",
              "      \n",
              "  <style>\n",
              "    .colab-df-container {\n",
              "      display:flex;\n",
              "      flex-wrap:wrap;\n",
              "      gap: 12px;\n",
              "    }\n",
              "\n",
              "    .colab-df-convert {\n",
              "      background-color: #E8F0FE;\n",
              "      border: none;\n",
              "      border-radius: 50%;\n",
              "      cursor: pointer;\n",
              "      display: none;\n",
              "      fill: #1967D2;\n",
              "      height: 32px;\n",
              "      padding: 0 0 0 0;\n",
              "      width: 32px;\n",
              "    }\n",
              "\n",
              "    .colab-df-convert:hover {\n",
              "      background-color: #E2EBFA;\n",
              "      box-shadow: 0px 1px 2px rgba(60, 64, 67, 0.3), 0px 1px 3px 1px rgba(60, 64, 67, 0.15);\n",
              "      fill: #174EA6;\n",
              "    }\n",
              "\n",
              "    [theme=dark] .colab-df-convert {\n",
              "      background-color: #3B4455;\n",
              "      fill: #D2E3FC;\n",
              "    }\n",
              "\n",
              "    [theme=dark] .colab-df-convert:hover {\n",
              "      background-color: #434B5C;\n",
              "      box-shadow: 0px 1px 3px 1px rgba(0, 0, 0, 0.15);\n",
              "      filter: drop-shadow(0px 1px 2px rgba(0, 0, 0, 0.3));\n",
              "      fill: #FFFFFF;\n",
              "    }\n",
              "  </style>\n",
              "\n",
              "      <script>\n",
              "        const buttonEl =\n",
              "          document.querySelector('#df-1a786c15-a331-41dd-a85e-3ea138fb30f7 button.colab-df-convert');\n",
              "        buttonEl.style.display =\n",
              "          google.colab.kernel.accessAllowed ? 'block' : 'none';\n",
              "\n",
              "        async function convertToInteractive(key) {\n",
              "          const element = document.querySelector('#df-1a786c15-a331-41dd-a85e-3ea138fb30f7');\n",
              "          const dataTable =\n",
              "            await google.colab.kernel.invokeFunction('convertToInteractive',\n",
              "                                                     [key], {});\n",
              "          if (!dataTable) return;\n",
              "\n",
              "          const docLinkHtml = 'Like what you see? Visit the ' +\n",
              "            '<a target=\"_blank\" href=https://colab.research.google.com/notebooks/data_table.ipynb>data table notebook</a>'\n",
              "            + ' to learn more about interactive tables.';\n",
              "          element.innerHTML = '';\n",
              "          dataTable['output_type'] = 'display_data';\n",
              "          await google.colab.output.renderOutput(dataTable, element);\n",
              "          const docLink = document.createElement('div');\n",
              "          docLink.innerHTML = docLinkHtml;\n",
              "          element.appendChild(docLink);\n",
              "        }\n",
              "      </script>\n",
              "    </div>\n",
              "  </div>\n",
              "  "
            ]
          },
          "metadata": {},
          "execution_count": 45
        }
      ]
    },
    {
      "cell_type": "code",
      "source": [
        "# get term frequency\n",
        "termFreq = termPosSub.term.value_counts().reset_index() \n",
        "termFreq.columns = ['Term', 'Frequency'] \n",
        "\n",
        "# write to csv\n",
        "termFreq.to_csv(\"/content/drive/Shareddrives/Kaneb Center Course Design Academy/Corpus_Adventures/Data/term_frequency.csv\", index=False)\n",
        "\n",
        "# filter based on frequency value\n",
        "freqSubset = termFreq[termFreq['Frequency'] > 1300]\n",
        "\n",
        "# write to csv\n",
        "freqSubset.to_csv(\"/content/drive/Shareddrives/Kaneb Center Course Design Academy/Corpus_Adventures/Data/frequency_subset.csv\", index=False)\n",
        "freqSubset"
      ],
      "metadata": {
        "id": "WMPoMpPbyZF0",
        "colab": {
          "base_uri": "https://localhost:8080/",
          "height": 1000
        },
        "outputId": "bfcbb210-a92f-4e7e-c125-4f053730f748"
      },
      "execution_count": 47,
      "outputs": [
        {
          "output_type": "execute_result",
          "data": {
            "text/plain": [
              "          Term  Frequency\n",
              "0         spun      12714\n",
              "1         took      12714\n",
              "2         line      12714\n",
              "3         knew       8476\n",
              "4         lips       8476\n",
              "5       cotton       8476\n",
              "6       thread       8476\n",
              "7         gold       8476\n",
              "8         silk       8476\n",
              "9         back       4238\n",
              "10       wound       4238\n",
              "11       right       4238\n",
              "12        held       4238\n",
              "13       blade       4238\n",
              "14       still       4238\n",
              "15        hand       4238\n",
              "16    steaming       4238\n",
              "17    dripping       4238\n",
              "18        take       4238\n",
              "19        left       4238\n",
              "20         arm       4238\n",
              "21        gash       4238\n",
              "22         lay       4238\n",
              "23        open       4238\n",
              "24       mouth       4238\n",
              "25   disbelief       4238\n",
              "26         sew       4238\n",
              "27   ravelling       4238\n",
              "28      wanted       4238\n",
              "29     watched       4238\n",
              "30   listening       4238\n",
              "31     fraying       4238\n",
              "32        ends       4238\n",
              "33      saying       4238\n",
              "34      rolled       4238\n",
              "35  forefinger       4238\n",
              "36       thumb       4238\n",
              "37      turned       4238\n",
              "38      needle       4238\n",
              "39      became       4238\n",
              "40        thin       4238\n",
              "41      finest       4238\n",
              "42     believe       4238\n",
              "43    spinning       4238\n",
              "44       truth       4238\n",
              "45    believed       4238"
            ],
            "text/html": [
              "\n",
              "  <div id=\"df-9f072063-50e9-48f3-99a4-5d56297e4683\">\n",
              "    <div class=\"colab-df-container\">\n",
              "      <div>\n",
              "<style scoped>\n",
              "    .dataframe tbody tr th:only-of-type {\n",
              "        vertical-align: middle;\n",
              "    }\n",
              "\n",
              "    .dataframe tbody tr th {\n",
              "        vertical-align: top;\n",
              "    }\n",
              "\n",
              "    .dataframe thead th {\n",
              "        text-align: right;\n",
              "    }\n",
              "</style>\n",
              "<table border=\"1\" class=\"dataframe\">\n",
              "  <thead>\n",
              "    <tr style=\"text-align: right;\">\n",
              "      <th></th>\n",
              "      <th>Term</th>\n",
              "      <th>Frequency</th>\n",
              "    </tr>\n",
              "  </thead>\n",
              "  <tbody>\n",
              "    <tr>\n",
              "      <th>0</th>\n",
              "      <td>spun</td>\n",
              "      <td>12714</td>\n",
              "    </tr>\n",
              "    <tr>\n",
              "      <th>1</th>\n",
              "      <td>took</td>\n",
              "      <td>12714</td>\n",
              "    </tr>\n",
              "    <tr>\n",
              "      <th>2</th>\n",
              "      <td>line</td>\n",
              "      <td>12714</td>\n",
              "    </tr>\n",
              "    <tr>\n",
              "      <th>3</th>\n",
              "      <td>knew</td>\n",
              "      <td>8476</td>\n",
              "    </tr>\n",
              "    <tr>\n",
              "      <th>4</th>\n",
              "      <td>lips</td>\n",
              "      <td>8476</td>\n",
              "    </tr>\n",
              "    <tr>\n",
              "      <th>5</th>\n",
              "      <td>cotton</td>\n",
              "      <td>8476</td>\n",
              "    </tr>\n",
              "    <tr>\n",
              "      <th>6</th>\n",
              "      <td>thread</td>\n",
              "      <td>8476</td>\n",
              "    </tr>\n",
              "    <tr>\n",
              "      <th>7</th>\n",
              "      <td>gold</td>\n",
              "      <td>8476</td>\n",
              "    </tr>\n",
              "    <tr>\n",
              "      <th>8</th>\n",
              "      <td>silk</td>\n",
              "      <td>8476</td>\n",
              "    </tr>\n",
              "    <tr>\n",
              "      <th>9</th>\n",
              "      <td>back</td>\n",
              "      <td>4238</td>\n",
              "    </tr>\n",
              "    <tr>\n",
              "      <th>10</th>\n",
              "      <td>wound</td>\n",
              "      <td>4238</td>\n",
              "    </tr>\n",
              "    <tr>\n",
              "      <th>11</th>\n",
              "      <td>right</td>\n",
              "      <td>4238</td>\n",
              "    </tr>\n",
              "    <tr>\n",
              "      <th>12</th>\n",
              "      <td>held</td>\n",
              "      <td>4238</td>\n",
              "    </tr>\n",
              "    <tr>\n",
              "      <th>13</th>\n",
              "      <td>blade</td>\n",
              "      <td>4238</td>\n",
              "    </tr>\n",
              "    <tr>\n",
              "      <th>14</th>\n",
              "      <td>still</td>\n",
              "      <td>4238</td>\n",
              "    </tr>\n",
              "    <tr>\n",
              "      <th>15</th>\n",
              "      <td>hand</td>\n",
              "      <td>4238</td>\n",
              "    </tr>\n",
              "    <tr>\n",
              "      <th>16</th>\n",
              "      <td>steaming</td>\n",
              "      <td>4238</td>\n",
              "    </tr>\n",
              "    <tr>\n",
              "      <th>17</th>\n",
              "      <td>dripping</td>\n",
              "      <td>4238</td>\n",
              "    </tr>\n",
              "    <tr>\n",
              "      <th>18</th>\n",
              "      <td>take</td>\n",
              "      <td>4238</td>\n",
              "    </tr>\n",
              "    <tr>\n",
              "      <th>19</th>\n",
              "      <td>left</td>\n",
              "      <td>4238</td>\n",
              "    </tr>\n",
              "    <tr>\n",
              "      <th>20</th>\n",
              "      <td>arm</td>\n",
              "      <td>4238</td>\n",
              "    </tr>\n",
              "    <tr>\n",
              "      <th>21</th>\n",
              "      <td>gash</td>\n",
              "      <td>4238</td>\n",
              "    </tr>\n",
              "    <tr>\n",
              "      <th>22</th>\n",
              "      <td>lay</td>\n",
              "      <td>4238</td>\n",
              "    </tr>\n",
              "    <tr>\n",
              "      <th>23</th>\n",
              "      <td>open</td>\n",
              "      <td>4238</td>\n",
              "    </tr>\n",
              "    <tr>\n",
              "      <th>24</th>\n",
              "      <td>mouth</td>\n",
              "      <td>4238</td>\n",
              "    </tr>\n",
              "    <tr>\n",
              "      <th>25</th>\n",
              "      <td>disbelief</td>\n",
              "      <td>4238</td>\n",
              "    </tr>\n",
              "    <tr>\n",
              "      <th>26</th>\n",
              "      <td>sew</td>\n",
              "      <td>4238</td>\n",
              "    </tr>\n",
              "    <tr>\n",
              "      <th>27</th>\n",
              "      <td>ravelling</td>\n",
              "      <td>4238</td>\n",
              "    </tr>\n",
              "    <tr>\n",
              "      <th>28</th>\n",
              "      <td>wanted</td>\n",
              "      <td>4238</td>\n",
              "    </tr>\n",
              "    <tr>\n",
              "      <th>29</th>\n",
              "      <td>watched</td>\n",
              "      <td>4238</td>\n",
              "    </tr>\n",
              "    <tr>\n",
              "      <th>30</th>\n",
              "      <td>listening</td>\n",
              "      <td>4238</td>\n",
              "    </tr>\n",
              "    <tr>\n",
              "      <th>31</th>\n",
              "      <td>fraying</td>\n",
              "      <td>4238</td>\n",
              "    </tr>\n",
              "    <tr>\n",
              "      <th>32</th>\n",
              "      <td>ends</td>\n",
              "      <td>4238</td>\n",
              "    </tr>\n",
              "    <tr>\n",
              "      <th>33</th>\n",
              "      <td>saying</td>\n",
              "      <td>4238</td>\n",
              "    </tr>\n",
              "    <tr>\n",
              "      <th>34</th>\n",
              "      <td>rolled</td>\n",
              "      <td>4238</td>\n",
              "    </tr>\n",
              "    <tr>\n",
              "      <th>35</th>\n",
              "      <td>forefinger</td>\n",
              "      <td>4238</td>\n",
              "    </tr>\n",
              "    <tr>\n",
              "      <th>36</th>\n",
              "      <td>thumb</td>\n",
              "      <td>4238</td>\n",
              "    </tr>\n",
              "    <tr>\n",
              "      <th>37</th>\n",
              "      <td>turned</td>\n",
              "      <td>4238</td>\n",
              "    </tr>\n",
              "    <tr>\n",
              "      <th>38</th>\n",
              "      <td>needle</td>\n",
              "      <td>4238</td>\n",
              "    </tr>\n",
              "    <tr>\n",
              "      <th>39</th>\n",
              "      <td>became</td>\n",
              "      <td>4238</td>\n",
              "    </tr>\n",
              "    <tr>\n",
              "      <th>40</th>\n",
              "      <td>thin</td>\n",
              "      <td>4238</td>\n",
              "    </tr>\n",
              "    <tr>\n",
              "      <th>41</th>\n",
              "      <td>finest</td>\n",
              "      <td>4238</td>\n",
              "    </tr>\n",
              "    <tr>\n",
              "      <th>42</th>\n",
              "      <td>believe</td>\n",
              "      <td>4238</td>\n",
              "    </tr>\n",
              "    <tr>\n",
              "      <th>43</th>\n",
              "      <td>spinning</td>\n",
              "      <td>4238</td>\n",
              "    </tr>\n",
              "    <tr>\n",
              "      <th>44</th>\n",
              "      <td>truth</td>\n",
              "      <td>4238</td>\n",
              "    </tr>\n",
              "    <tr>\n",
              "      <th>45</th>\n",
              "      <td>believed</td>\n",
              "      <td>4238</td>\n",
              "    </tr>\n",
              "  </tbody>\n",
              "</table>\n",
              "</div>\n",
              "      <button class=\"colab-df-convert\" onclick=\"convertToInteractive('df-9f072063-50e9-48f3-99a4-5d56297e4683')\"\n",
              "              title=\"Convert this dataframe to an interactive table.\"\n",
              "              style=\"display:none;\">\n",
              "        \n",
              "  <svg xmlns=\"http://www.w3.org/2000/svg\" height=\"24px\"viewBox=\"0 0 24 24\"\n",
              "       width=\"24px\">\n",
              "    <path d=\"M0 0h24v24H0V0z\" fill=\"none\"/>\n",
              "    <path d=\"M18.56 5.44l.94 2.06.94-2.06 2.06-.94-2.06-.94-.94-2.06-.94 2.06-2.06.94zm-11 1L8.5 8.5l.94-2.06 2.06-.94-2.06-.94L8.5 2.5l-.94 2.06-2.06.94zm10 10l.94 2.06.94-2.06 2.06-.94-2.06-.94-.94-2.06-.94 2.06-2.06.94z\"/><path d=\"M17.41 7.96l-1.37-1.37c-.4-.4-.92-.59-1.43-.59-.52 0-1.04.2-1.43.59L10.3 9.45l-7.72 7.72c-.78.78-.78 2.05 0 2.83L4 21.41c.39.39.9.59 1.41.59.51 0 1.02-.2 1.41-.59l7.78-7.78 2.81-2.81c.8-.78.8-2.07 0-2.86zM5.41 20L4 18.59l7.72-7.72 1.47 1.35L5.41 20z\"/>\n",
              "  </svg>\n",
              "      </button>\n",
              "      \n",
              "  <style>\n",
              "    .colab-df-container {\n",
              "      display:flex;\n",
              "      flex-wrap:wrap;\n",
              "      gap: 12px;\n",
              "    }\n",
              "\n",
              "    .colab-df-convert {\n",
              "      background-color: #E8F0FE;\n",
              "      border: none;\n",
              "      border-radius: 50%;\n",
              "      cursor: pointer;\n",
              "      display: none;\n",
              "      fill: #1967D2;\n",
              "      height: 32px;\n",
              "      padding: 0 0 0 0;\n",
              "      width: 32px;\n",
              "    }\n",
              "\n",
              "    .colab-df-convert:hover {\n",
              "      background-color: #E2EBFA;\n",
              "      box-shadow: 0px 1px 2px rgba(60, 64, 67, 0.3), 0px 1px 3px 1px rgba(60, 64, 67, 0.15);\n",
              "      fill: #174EA6;\n",
              "    }\n",
              "\n",
              "    [theme=dark] .colab-df-convert {\n",
              "      background-color: #3B4455;\n",
              "      fill: #D2E3FC;\n",
              "    }\n",
              "\n",
              "    [theme=dark] .colab-df-convert:hover {\n",
              "      background-color: #434B5C;\n",
              "      box-shadow: 0px 1px 3px 1px rgba(0, 0, 0, 0.15);\n",
              "      filter: drop-shadow(0px 1px 2px rgba(0, 0, 0, 0.3));\n",
              "      fill: #FFFFFF;\n",
              "    }\n",
              "  </style>\n",
              "\n",
              "      <script>\n",
              "        const buttonEl =\n",
              "          document.querySelector('#df-9f072063-50e9-48f3-99a4-5d56297e4683 button.colab-df-convert');\n",
              "        buttonEl.style.display =\n",
              "          google.colab.kernel.accessAllowed ? 'block' : 'none';\n",
              "\n",
              "        async function convertToInteractive(key) {\n",
              "          const element = document.querySelector('#df-9f072063-50e9-48f3-99a4-5d56297e4683');\n",
              "          const dataTable =\n",
              "            await google.colab.kernel.invokeFunction('convertToInteractive',\n",
              "                                                     [key], {});\n",
              "          if (!dataTable) return;\n",
              "\n",
              "          const docLinkHtml = 'Like what you see? Visit the ' +\n",
              "            '<a target=\"_blank\" href=https://colab.research.google.com/notebooks/data_table.ipynb>data table notebook</a>'\n",
              "            + ' to learn more about interactive tables.';\n",
              "          element.innerHTML = '';\n",
              "          dataTable['output_type'] = 'display_data';\n",
              "          await google.colab.output.renderOutput(dataTable, element);\n",
              "          const docLink = document.createElement('div');\n",
              "          docLink.innerHTML = docLinkHtml;\n",
              "          element.appendChild(docLink);\n",
              "        }\n",
              "      </script>\n",
              "    </div>\n",
              "  </div>\n",
              "  "
            ]
          },
          "metadata": {},
          "execution_count": 47
        }
      ]
    },
    {
      "cell_type": "markdown",
      "source": [
        "## Visualizations"
      ],
      "metadata": {
        "id": "p1szBXXsCO8z"
      }
    },
    {
      "cell_type": "markdown",
      "source": [
        "### Static Wordcloud"
      ],
      "metadata": {
        "id": "bA_5hJMh5Qex"
      }
    },
    {
      "cell_type": "code",
      "source": [
        "# get tuples\n",
        "tuples = [tuple(x) for x in freqSubset.values]\n",
        "\n",
        "# generate wordcloud\n",
        "wordcloud = WordCloud()\n",
        "wordcloud.generate_from_frequencies(dict(tuples))\n",
        "\n",
        "# show figure\n",
        "plt.figure()\n",
        "plt.imshow(wordcloud, interpolation=\"bilinear\")\n",
        "plt.axis(\"off\")\n",
        "plt.show()"
      ],
      "metadata": {
        "id": "w_e6D-8l5Utx"
      },
      "execution_count": null,
      "outputs": []
    },
    {
      "cell_type": "markdown",
      "source": [
        "### Interactive Scatterplot"
      ],
      "metadata": {
        "id": "s6znsG5e7gka"
      }
    },
    {
      "cell_type": "code",
      "source": [
        "# generate scatterplot\n",
        "fig = px.scatter(freqSubset, x='Term', y='Frequency', color = 'Term')\n",
        "fig.show()"
      ],
      "metadata": {
        "id": "fVzWuJsJ7iC8"
      },
      "execution_count": null,
      "outputs": []
    }
  ]
}