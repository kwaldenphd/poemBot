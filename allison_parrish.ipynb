{
  "nbformat": 4,
  "nbformat_minor": 0,
  "metadata": {
    "colab": {
      "provenance": [],
      "toc_visible": true,
      "authorship_tag": "ABX9TyMnLT4ikxHCHLUHiDxfUn4L",
      "include_colab_link": true
    },
    "kernelspec": {
      "name": "python3",
      "display_name": "Python 3"
    },
    "language_info": {
      "name": "python"
    },
    "widgets": {
      "application/vnd.jupyter.widget-state+json": {
        "28d6eb7424ec4cb8bf27d7128acf7f30": {
          "model_module": "@jupyter-widgets/controls",
          "model_name": "HBoxModel",
          "model_module_version": "1.5.0",
          "state": {
            "_dom_classes": [],
            "_model_module": "@jupyter-widgets/controls",
            "_model_module_version": "1.5.0",
            "_model_name": "HBoxModel",
            "_view_count": null,
            "_view_module": "@jupyter-widgets/controls",
            "_view_module_version": "1.5.0",
            "_view_name": "HBoxView",
            "box_style": "",
            "children": [
              "IPY_MODEL_abf7ae04bd994618b0f2e093240c41c2",
              "IPY_MODEL_3b399f0a92fb438e873eb2f1c67621d1",
              "IPY_MODEL_71cad8bc1eb34228a2fc877e9ebab0bd"
            ],
            "layout": "IPY_MODEL_65d8e3ae393944fc9e14b12a916669af"
          }
        },
        "abf7ae04bd994618b0f2e093240c41c2": {
          "model_module": "@jupyter-widgets/controls",
          "model_name": "HTMLModel",
          "model_module_version": "1.5.0",
          "state": {
            "_dom_classes": [],
            "_model_module": "@jupyter-widgets/controls",
            "_model_module_version": "1.5.0",
            "_model_name": "HTMLModel",
            "_view_count": null,
            "_view_module": "@jupyter-widgets/controls",
            "_view_module_version": "1.5.0",
            "_view_name": "HTMLView",
            "description": "",
            "description_tooltip": null,
            "layout": "IPY_MODEL_921fcb94218144668537a90d1103766d",
            "placeholder": "​",
            "style": "IPY_MODEL_10e5e491e82d4c488c44fbe4ae962db9",
            "value": "Downloading (…)lve/main/config.json: 100%"
          }
        },
        "3b399f0a92fb438e873eb2f1c67621d1": {
          "model_module": "@jupyter-widgets/controls",
          "model_name": "FloatProgressModel",
          "model_module_version": "1.5.0",
          "state": {
            "_dom_classes": [],
            "_model_module": "@jupyter-widgets/controls",
            "_model_module_version": "1.5.0",
            "_model_name": "FloatProgressModel",
            "_view_count": null,
            "_view_module": "@jupyter-widgets/controls",
            "_view_module_version": "1.5.0",
            "_view_name": "ProgressView",
            "bar_style": "success",
            "description": "",
            "description_tooltip": null,
            "layout": "IPY_MODEL_bced4228fc8b467d9eba3c02a9361d9a",
            "max": 762,
            "min": 0,
            "orientation": "horizontal",
            "style": "IPY_MODEL_5a4f3c2445e64dce8b896a2fb331b599",
            "value": 762
          }
        },
        "71cad8bc1eb34228a2fc877e9ebab0bd": {
          "model_module": "@jupyter-widgets/controls",
          "model_name": "HTMLModel",
          "model_module_version": "1.5.0",
          "state": {
            "_dom_classes": [],
            "_model_module": "@jupyter-widgets/controls",
            "_model_module_version": "1.5.0",
            "_model_name": "HTMLModel",
            "_view_count": null,
            "_view_module": "@jupyter-widgets/controls",
            "_view_module_version": "1.5.0",
            "_view_name": "HTMLView",
            "description": "",
            "description_tooltip": null,
            "layout": "IPY_MODEL_58210be384374c59ac5aeb0b3974b9c4",
            "placeholder": "​",
            "style": "IPY_MODEL_fbfc8af7455748eaaf18095479394612",
            "value": " 762/762 [00:00&lt;00:00, 15.8kB/s]"
          }
        },
        "65d8e3ae393944fc9e14b12a916669af": {
          "model_module": "@jupyter-widgets/base",
          "model_name": "LayoutModel",
          "model_module_version": "1.2.0",
          "state": {
            "_model_module": "@jupyter-widgets/base",
            "_model_module_version": "1.2.0",
            "_model_name": "LayoutModel",
            "_view_count": null,
            "_view_module": "@jupyter-widgets/base",
            "_view_module_version": "1.2.0",
            "_view_name": "LayoutView",
            "align_content": null,
            "align_items": null,
            "align_self": null,
            "border": null,
            "bottom": null,
            "display": null,
            "flex": null,
            "flex_flow": null,
            "grid_area": null,
            "grid_auto_columns": null,
            "grid_auto_flow": null,
            "grid_auto_rows": null,
            "grid_column": null,
            "grid_gap": null,
            "grid_row": null,
            "grid_template_areas": null,
            "grid_template_columns": null,
            "grid_template_rows": null,
            "height": null,
            "justify_content": null,
            "justify_items": null,
            "left": null,
            "margin": null,
            "max_height": null,
            "max_width": null,
            "min_height": null,
            "min_width": null,
            "object_fit": null,
            "object_position": null,
            "order": null,
            "overflow": null,
            "overflow_x": null,
            "overflow_y": null,
            "padding": null,
            "right": null,
            "top": null,
            "visibility": null,
            "width": null
          }
        },
        "921fcb94218144668537a90d1103766d": {
          "model_module": "@jupyter-widgets/base",
          "model_name": "LayoutModel",
          "model_module_version": "1.2.0",
          "state": {
            "_model_module": "@jupyter-widgets/base",
            "_model_module_version": "1.2.0",
            "_model_name": "LayoutModel",
            "_view_count": null,
            "_view_module": "@jupyter-widgets/base",
            "_view_module_version": "1.2.0",
            "_view_name": "LayoutView",
            "align_content": null,
            "align_items": null,
            "align_self": null,
            "border": null,
            "bottom": null,
            "display": null,
            "flex": null,
            "flex_flow": null,
            "grid_area": null,
            "grid_auto_columns": null,
            "grid_auto_flow": null,
            "grid_auto_rows": null,
            "grid_column": null,
            "grid_gap": null,
            "grid_row": null,
            "grid_template_areas": null,
            "grid_template_columns": null,
            "grid_template_rows": null,
            "height": null,
            "justify_content": null,
            "justify_items": null,
            "left": null,
            "margin": null,
            "max_height": null,
            "max_width": null,
            "min_height": null,
            "min_width": null,
            "object_fit": null,
            "object_position": null,
            "order": null,
            "overflow": null,
            "overflow_x": null,
            "overflow_y": null,
            "padding": null,
            "right": null,
            "top": null,
            "visibility": null,
            "width": null
          }
        },
        "10e5e491e82d4c488c44fbe4ae962db9": {
          "model_module": "@jupyter-widgets/controls",
          "model_name": "DescriptionStyleModel",
          "model_module_version": "1.5.0",
          "state": {
            "_model_module": "@jupyter-widgets/controls",
            "_model_module_version": "1.5.0",
            "_model_name": "DescriptionStyleModel",
            "_view_count": null,
            "_view_module": "@jupyter-widgets/base",
            "_view_module_version": "1.2.0",
            "_view_name": "StyleView",
            "description_width": ""
          }
        },
        "bced4228fc8b467d9eba3c02a9361d9a": {
          "model_module": "@jupyter-widgets/base",
          "model_name": "LayoutModel",
          "model_module_version": "1.2.0",
          "state": {
            "_model_module": "@jupyter-widgets/base",
            "_model_module_version": "1.2.0",
            "_model_name": "LayoutModel",
            "_view_count": null,
            "_view_module": "@jupyter-widgets/base",
            "_view_module_version": "1.2.0",
            "_view_name": "LayoutView",
            "align_content": null,
            "align_items": null,
            "align_self": null,
            "border": null,
            "bottom": null,
            "display": null,
            "flex": null,
            "flex_flow": null,
            "grid_area": null,
            "grid_auto_columns": null,
            "grid_auto_flow": null,
            "grid_auto_rows": null,
            "grid_column": null,
            "grid_gap": null,
            "grid_row": null,
            "grid_template_areas": null,
            "grid_template_columns": null,
            "grid_template_rows": null,
            "height": null,
            "justify_content": null,
            "justify_items": null,
            "left": null,
            "margin": null,
            "max_height": null,
            "max_width": null,
            "min_height": null,
            "min_width": null,
            "object_fit": null,
            "object_position": null,
            "order": null,
            "overflow": null,
            "overflow_x": null,
            "overflow_y": null,
            "padding": null,
            "right": null,
            "top": null,
            "visibility": null,
            "width": null
          }
        },
        "5a4f3c2445e64dce8b896a2fb331b599": {
          "model_module": "@jupyter-widgets/controls",
          "model_name": "ProgressStyleModel",
          "model_module_version": "1.5.0",
          "state": {
            "_model_module": "@jupyter-widgets/controls",
            "_model_module_version": "1.5.0",
            "_model_name": "ProgressStyleModel",
            "_view_count": null,
            "_view_module": "@jupyter-widgets/base",
            "_view_module_version": "1.2.0",
            "_view_name": "StyleView",
            "bar_color": null,
            "description_width": ""
          }
        },
        "58210be384374c59ac5aeb0b3974b9c4": {
          "model_module": "@jupyter-widgets/base",
          "model_name": "LayoutModel",
          "model_module_version": "1.2.0",
          "state": {
            "_model_module": "@jupyter-widgets/base",
            "_model_module_version": "1.2.0",
            "_model_name": "LayoutModel",
            "_view_count": null,
            "_view_module": "@jupyter-widgets/base",
            "_view_module_version": "1.2.0",
            "_view_name": "LayoutView",
            "align_content": null,
            "align_items": null,
            "align_self": null,
            "border": null,
            "bottom": null,
            "display": null,
            "flex": null,
            "flex_flow": null,
            "grid_area": null,
            "grid_auto_columns": null,
            "grid_auto_flow": null,
            "grid_auto_rows": null,
            "grid_column": null,
            "grid_gap": null,
            "grid_row": null,
            "grid_template_areas": null,
            "grid_template_columns": null,
            "grid_template_rows": null,
            "height": null,
            "justify_content": null,
            "justify_items": null,
            "left": null,
            "margin": null,
            "max_height": null,
            "max_width": null,
            "min_height": null,
            "min_width": null,
            "object_fit": null,
            "object_position": null,
            "order": null,
            "overflow": null,
            "overflow_x": null,
            "overflow_y": null,
            "padding": null,
            "right": null,
            "top": null,
            "visibility": null,
            "width": null
          }
        },
        "fbfc8af7455748eaaf18095479394612": {
          "model_module": "@jupyter-widgets/controls",
          "model_name": "DescriptionStyleModel",
          "model_module_version": "1.5.0",
          "state": {
            "_model_module": "@jupyter-widgets/controls",
            "_model_module_version": "1.5.0",
            "_model_name": "DescriptionStyleModel",
            "_view_count": null,
            "_view_module": "@jupyter-widgets/base",
            "_view_module_version": "1.2.0",
            "_view_name": "StyleView",
            "description_width": ""
          }
        },
        "43169d436037474b86445b92880cea74": {
          "model_module": "@jupyter-widgets/controls",
          "model_name": "HBoxModel",
          "model_module_version": "1.5.0",
          "state": {
            "_dom_classes": [],
            "_model_module": "@jupyter-widgets/controls",
            "_model_module_version": "1.5.0",
            "_model_name": "HBoxModel",
            "_view_count": null,
            "_view_module": "@jupyter-widgets/controls",
            "_view_module_version": "1.5.0",
            "_view_name": "HBoxView",
            "box_style": "",
            "children": [
              "IPY_MODEL_8e8fefdfabf0485db32a2822e729003d",
              "IPY_MODEL_4df71ffe9ea44d27bbcd40533712cd3e",
              "IPY_MODEL_024a64099b514801a3d37bf79f27ef3e"
            ],
            "layout": "IPY_MODEL_ad182c01895b475a8fddcbf199f967b5"
          }
        },
        "8e8fefdfabf0485db32a2822e729003d": {
          "model_module": "@jupyter-widgets/controls",
          "model_name": "HTMLModel",
          "model_module_version": "1.5.0",
          "state": {
            "_dom_classes": [],
            "_model_module": "@jupyter-widgets/controls",
            "_model_module_version": "1.5.0",
            "_model_name": "HTMLModel",
            "_view_count": null,
            "_view_module": "@jupyter-widgets/controls",
            "_view_module_version": "1.5.0",
            "_view_name": "HTMLView",
            "description": "",
            "description_tooltip": null,
            "layout": "IPY_MODEL_4aaf1ed628ee40b3b1f062ebaf295d65",
            "placeholder": "​",
            "style": "IPY_MODEL_0e846e110a0049febf9ed0458285ddf0",
            "value": "Downloading (…)olve/main/vocab.json: 100%"
          }
        },
        "4df71ffe9ea44d27bbcd40533712cd3e": {
          "model_module": "@jupyter-widgets/controls",
          "model_name": "FloatProgressModel",
          "model_module_version": "1.5.0",
          "state": {
            "_dom_classes": [],
            "_model_module": "@jupyter-widgets/controls",
            "_model_module_version": "1.5.0",
            "_model_name": "FloatProgressModel",
            "_view_count": null,
            "_view_module": "@jupyter-widgets/controls",
            "_view_module_version": "1.5.0",
            "_view_name": "ProgressView",
            "bar_style": "success",
            "description": "",
            "description_tooltip": null,
            "layout": "IPY_MODEL_ec524b50c73a4878aac943fbffbdf509",
            "max": 1042301,
            "min": 0,
            "orientation": "horizontal",
            "style": "IPY_MODEL_adfb8bc8722d4d13a23409b0ebbb7310",
            "value": 1042301
          }
        },
        "024a64099b514801a3d37bf79f27ef3e": {
          "model_module": "@jupyter-widgets/controls",
          "model_name": "HTMLModel",
          "model_module_version": "1.5.0",
          "state": {
            "_dom_classes": [],
            "_model_module": "@jupyter-widgets/controls",
            "_model_module_version": "1.5.0",
            "_model_name": "HTMLModel",
            "_view_count": null,
            "_view_module": "@jupyter-widgets/controls",
            "_view_module_version": "1.5.0",
            "_view_name": "HTMLView",
            "description": "",
            "description_tooltip": null,
            "layout": "IPY_MODEL_ccd4fbd659164a978457335a6975ea23",
            "placeholder": "​",
            "style": "IPY_MODEL_f0d7a42afb0247539fa0a5933b197bcf",
            "value": " 1.04M/1.04M [00:00&lt;00:00, 10.5MB/s]"
          }
        },
        "ad182c01895b475a8fddcbf199f967b5": {
          "model_module": "@jupyter-widgets/base",
          "model_name": "LayoutModel",
          "model_module_version": "1.2.0",
          "state": {
            "_model_module": "@jupyter-widgets/base",
            "_model_module_version": "1.2.0",
            "_model_name": "LayoutModel",
            "_view_count": null,
            "_view_module": "@jupyter-widgets/base",
            "_view_module_version": "1.2.0",
            "_view_name": "LayoutView",
            "align_content": null,
            "align_items": null,
            "align_self": null,
            "border": null,
            "bottom": null,
            "display": null,
            "flex": null,
            "flex_flow": null,
            "grid_area": null,
            "grid_auto_columns": null,
            "grid_auto_flow": null,
            "grid_auto_rows": null,
            "grid_column": null,
            "grid_gap": null,
            "grid_row": null,
            "grid_template_areas": null,
            "grid_template_columns": null,
            "grid_template_rows": null,
            "height": null,
            "justify_content": null,
            "justify_items": null,
            "left": null,
            "margin": null,
            "max_height": null,
            "max_width": null,
            "min_height": null,
            "min_width": null,
            "object_fit": null,
            "object_position": null,
            "order": null,
            "overflow": null,
            "overflow_x": null,
            "overflow_y": null,
            "padding": null,
            "right": null,
            "top": null,
            "visibility": null,
            "width": null
          }
        },
        "4aaf1ed628ee40b3b1f062ebaf295d65": {
          "model_module": "@jupyter-widgets/base",
          "model_name": "LayoutModel",
          "model_module_version": "1.2.0",
          "state": {
            "_model_module": "@jupyter-widgets/base",
            "_model_module_version": "1.2.0",
            "_model_name": "LayoutModel",
            "_view_count": null,
            "_view_module": "@jupyter-widgets/base",
            "_view_module_version": "1.2.0",
            "_view_name": "LayoutView",
            "align_content": null,
            "align_items": null,
            "align_self": null,
            "border": null,
            "bottom": null,
            "display": null,
            "flex": null,
            "flex_flow": null,
            "grid_area": null,
            "grid_auto_columns": null,
            "grid_auto_flow": null,
            "grid_auto_rows": null,
            "grid_column": null,
            "grid_gap": null,
            "grid_row": null,
            "grid_template_areas": null,
            "grid_template_columns": null,
            "grid_template_rows": null,
            "height": null,
            "justify_content": null,
            "justify_items": null,
            "left": null,
            "margin": null,
            "max_height": null,
            "max_width": null,
            "min_height": null,
            "min_width": null,
            "object_fit": null,
            "object_position": null,
            "order": null,
            "overflow": null,
            "overflow_x": null,
            "overflow_y": null,
            "padding": null,
            "right": null,
            "top": null,
            "visibility": null,
            "width": null
          }
        },
        "0e846e110a0049febf9ed0458285ddf0": {
          "model_module": "@jupyter-widgets/controls",
          "model_name": "DescriptionStyleModel",
          "model_module_version": "1.5.0",
          "state": {
            "_model_module": "@jupyter-widgets/controls",
            "_model_module_version": "1.5.0",
            "_model_name": "DescriptionStyleModel",
            "_view_count": null,
            "_view_module": "@jupyter-widgets/base",
            "_view_module_version": "1.2.0",
            "_view_name": "StyleView",
            "description_width": ""
          }
        },
        "ec524b50c73a4878aac943fbffbdf509": {
          "model_module": "@jupyter-widgets/base",
          "model_name": "LayoutModel",
          "model_module_version": "1.2.0",
          "state": {
            "_model_module": "@jupyter-widgets/base",
            "_model_module_version": "1.2.0",
            "_model_name": "LayoutModel",
            "_view_count": null,
            "_view_module": "@jupyter-widgets/base",
            "_view_module_version": "1.2.0",
            "_view_name": "LayoutView",
            "align_content": null,
            "align_items": null,
            "align_self": null,
            "border": null,
            "bottom": null,
            "display": null,
            "flex": null,
            "flex_flow": null,
            "grid_area": null,
            "grid_auto_columns": null,
            "grid_auto_flow": null,
            "grid_auto_rows": null,
            "grid_column": null,
            "grid_gap": null,
            "grid_row": null,
            "grid_template_areas": null,
            "grid_template_columns": null,
            "grid_template_rows": null,
            "height": null,
            "justify_content": null,
            "justify_items": null,
            "left": null,
            "margin": null,
            "max_height": null,
            "max_width": null,
            "min_height": null,
            "min_width": null,
            "object_fit": null,
            "object_position": null,
            "order": null,
            "overflow": null,
            "overflow_x": null,
            "overflow_y": null,
            "padding": null,
            "right": null,
            "top": null,
            "visibility": null,
            "width": null
          }
        },
        "adfb8bc8722d4d13a23409b0ebbb7310": {
          "model_module": "@jupyter-widgets/controls",
          "model_name": "ProgressStyleModel",
          "model_module_version": "1.5.0",
          "state": {
            "_model_module": "@jupyter-widgets/controls",
            "_model_module_version": "1.5.0",
            "_model_name": "ProgressStyleModel",
            "_view_count": null,
            "_view_module": "@jupyter-widgets/base",
            "_view_module_version": "1.2.0",
            "_view_name": "StyleView",
            "bar_color": null,
            "description_width": ""
          }
        },
        "ccd4fbd659164a978457335a6975ea23": {
          "model_module": "@jupyter-widgets/base",
          "model_name": "LayoutModel",
          "model_module_version": "1.2.0",
          "state": {
            "_model_module": "@jupyter-widgets/base",
            "_model_module_version": "1.2.0",
            "_model_name": "LayoutModel",
            "_view_count": null,
            "_view_module": "@jupyter-widgets/base",
            "_view_module_version": "1.2.0",
            "_view_name": "LayoutView",
            "align_content": null,
            "align_items": null,
            "align_self": null,
            "border": null,
            "bottom": null,
            "display": null,
            "flex": null,
            "flex_flow": null,
            "grid_area": null,
            "grid_auto_columns": null,
            "grid_auto_flow": null,
            "grid_auto_rows": null,
            "grid_column": null,
            "grid_gap": null,
            "grid_row": null,
            "grid_template_areas": null,
            "grid_template_columns": null,
            "grid_template_rows": null,
            "height": null,
            "justify_content": null,
            "justify_items": null,
            "left": null,
            "margin": null,
            "max_height": null,
            "max_width": null,
            "min_height": null,
            "min_width": null,
            "object_fit": null,
            "object_position": null,
            "order": null,
            "overflow": null,
            "overflow_x": null,
            "overflow_y": null,
            "padding": null,
            "right": null,
            "top": null,
            "visibility": null,
            "width": null
          }
        },
        "f0d7a42afb0247539fa0a5933b197bcf": {
          "model_module": "@jupyter-widgets/controls",
          "model_name": "DescriptionStyleModel",
          "model_module_version": "1.5.0",
          "state": {
            "_model_module": "@jupyter-widgets/controls",
            "_model_module_version": "1.5.0",
            "_model_name": "DescriptionStyleModel",
            "_view_count": null,
            "_view_module": "@jupyter-widgets/base",
            "_view_module_version": "1.2.0",
            "_view_name": "StyleView",
            "description_width": ""
          }
        },
        "cba53621820345d192ec47d4e10f8695": {
          "model_module": "@jupyter-widgets/controls",
          "model_name": "HBoxModel",
          "model_module_version": "1.5.0",
          "state": {
            "_dom_classes": [],
            "_model_module": "@jupyter-widgets/controls",
            "_model_module_version": "1.5.0",
            "_model_name": "HBoxModel",
            "_view_count": null,
            "_view_module": "@jupyter-widgets/controls",
            "_view_module_version": "1.5.0",
            "_view_name": "HBoxView",
            "box_style": "",
            "children": [
              "IPY_MODEL_7b69fc3812e54d539c378b4af717568c",
              "IPY_MODEL_bb2356ba8a664e598d2f6acd74050973",
              "IPY_MODEL_1858e8ad35a0405f9cc9a81429610e76"
            ],
            "layout": "IPY_MODEL_6328e18968164f72bfdf43eeaf3c5cb9"
          }
        },
        "7b69fc3812e54d539c378b4af717568c": {
          "model_module": "@jupyter-widgets/controls",
          "model_name": "HTMLModel",
          "model_module_version": "1.5.0",
          "state": {
            "_dom_classes": [],
            "_model_module": "@jupyter-widgets/controls",
            "_model_module_version": "1.5.0",
            "_model_name": "HTMLModel",
            "_view_count": null,
            "_view_module": "@jupyter-widgets/controls",
            "_view_module_version": "1.5.0",
            "_view_name": "HTMLView",
            "description": "",
            "description_tooltip": null,
            "layout": "IPY_MODEL_d7318126655e4448932ac93c838a0d3c",
            "placeholder": "​",
            "style": "IPY_MODEL_138da60120a949ac9ca3cc73c0372628",
            "value": "Downloading (…)olve/main/merges.txt: 100%"
          }
        },
        "bb2356ba8a664e598d2f6acd74050973": {
          "model_module": "@jupyter-widgets/controls",
          "model_name": "FloatProgressModel",
          "model_module_version": "1.5.0",
          "state": {
            "_dom_classes": [],
            "_model_module": "@jupyter-widgets/controls",
            "_model_module_version": "1.5.0",
            "_model_name": "FloatProgressModel",
            "_view_count": null,
            "_view_module": "@jupyter-widgets/controls",
            "_view_module_version": "1.5.0",
            "_view_name": "ProgressView",
            "bar_style": "success",
            "description": "",
            "description_tooltip": null,
            "layout": "IPY_MODEL_40d137029308446d921b284eaf38a965",
            "max": 456318,
            "min": 0,
            "orientation": "horizontal",
            "style": "IPY_MODEL_903dbfe002f143f6be306f5efd30a2ef",
            "value": 456318
          }
        },
        "1858e8ad35a0405f9cc9a81429610e76": {
          "model_module": "@jupyter-widgets/controls",
          "model_name": "HTMLModel",
          "model_module_version": "1.5.0",
          "state": {
            "_dom_classes": [],
            "_model_module": "@jupyter-widgets/controls",
            "_model_module_version": "1.5.0",
            "_model_name": "HTMLModel",
            "_view_count": null,
            "_view_module": "@jupyter-widgets/controls",
            "_view_module_version": "1.5.0",
            "_view_name": "HTMLView",
            "description": "",
            "description_tooltip": null,
            "layout": "IPY_MODEL_d0dd73e0ea1545a8a7b76df68ba1a8c6",
            "placeholder": "​",
            "style": "IPY_MODEL_ab92b7f7cdb9476288025d2d5d2fd227",
            "value": " 456k/456k [00:00&lt;00:00, 4.27MB/s]"
          }
        },
        "6328e18968164f72bfdf43eeaf3c5cb9": {
          "model_module": "@jupyter-widgets/base",
          "model_name": "LayoutModel",
          "model_module_version": "1.2.0",
          "state": {
            "_model_module": "@jupyter-widgets/base",
            "_model_module_version": "1.2.0",
            "_model_name": "LayoutModel",
            "_view_count": null,
            "_view_module": "@jupyter-widgets/base",
            "_view_module_version": "1.2.0",
            "_view_name": "LayoutView",
            "align_content": null,
            "align_items": null,
            "align_self": null,
            "border": null,
            "bottom": null,
            "display": null,
            "flex": null,
            "flex_flow": null,
            "grid_area": null,
            "grid_auto_columns": null,
            "grid_auto_flow": null,
            "grid_auto_rows": null,
            "grid_column": null,
            "grid_gap": null,
            "grid_row": null,
            "grid_template_areas": null,
            "grid_template_columns": null,
            "grid_template_rows": null,
            "height": null,
            "justify_content": null,
            "justify_items": null,
            "left": null,
            "margin": null,
            "max_height": null,
            "max_width": null,
            "min_height": null,
            "min_width": null,
            "object_fit": null,
            "object_position": null,
            "order": null,
            "overflow": null,
            "overflow_x": null,
            "overflow_y": null,
            "padding": null,
            "right": null,
            "top": null,
            "visibility": null,
            "width": null
          }
        },
        "d7318126655e4448932ac93c838a0d3c": {
          "model_module": "@jupyter-widgets/base",
          "model_name": "LayoutModel",
          "model_module_version": "1.2.0",
          "state": {
            "_model_module": "@jupyter-widgets/base",
            "_model_module_version": "1.2.0",
            "_model_name": "LayoutModel",
            "_view_count": null,
            "_view_module": "@jupyter-widgets/base",
            "_view_module_version": "1.2.0",
            "_view_name": "LayoutView",
            "align_content": null,
            "align_items": null,
            "align_self": null,
            "border": null,
            "bottom": null,
            "display": null,
            "flex": null,
            "flex_flow": null,
            "grid_area": null,
            "grid_auto_columns": null,
            "grid_auto_flow": null,
            "grid_auto_rows": null,
            "grid_column": null,
            "grid_gap": null,
            "grid_row": null,
            "grid_template_areas": null,
            "grid_template_columns": null,
            "grid_template_rows": null,
            "height": null,
            "justify_content": null,
            "justify_items": null,
            "left": null,
            "margin": null,
            "max_height": null,
            "max_width": null,
            "min_height": null,
            "min_width": null,
            "object_fit": null,
            "object_position": null,
            "order": null,
            "overflow": null,
            "overflow_x": null,
            "overflow_y": null,
            "padding": null,
            "right": null,
            "top": null,
            "visibility": null,
            "width": null
          }
        },
        "138da60120a949ac9ca3cc73c0372628": {
          "model_module": "@jupyter-widgets/controls",
          "model_name": "DescriptionStyleModel",
          "model_module_version": "1.5.0",
          "state": {
            "_model_module": "@jupyter-widgets/controls",
            "_model_module_version": "1.5.0",
            "_model_name": "DescriptionStyleModel",
            "_view_count": null,
            "_view_module": "@jupyter-widgets/base",
            "_view_module_version": "1.2.0",
            "_view_name": "StyleView",
            "description_width": ""
          }
        },
        "40d137029308446d921b284eaf38a965": {
          "model_module": "@jupyter-widgets/base",
          "model_name": "LayoutModel",
          "model_module_version": "1.2.0",
          "state": {
            "_model_module": "@jupyter-widgets/base",
            "_model_module_version": "1.2.0",
            "_model_name": "LayoutModel",
            "_view_count": null,
            "_view_module": "@jupyter-widgets/base",
            "_view_module_version": "1.2.0",
            "_view_name": "LayoutView",
            "align_content": null,
            "align_items": null,
            "align_self": null,
            "border": null,
            "bottom": null,
            "display": null,
            "flex": null,
            "flex_flow": null,
            "grid_area": null,
            "grid_auto_columns": null,
            "grid_auto_flow": null,
            "grid_auto_rows": null,
            "grid_column": null,
            "grid_gap": null,
            "grid_row": null,
            "grid_template_areas": null,
            "grid_template_columns": null,
            "grid_template_rows": null,
            "height": null,
            "justify_content": null,
            "justify_items": null,
            "left": null,
            "margin": null,
            "max_height": null,
            "max_width": null,
            "min_height": null,
            "min_width": null,
            "object_fit": null,
            "object_position": null,
            "order": null,
            "overflow": null,
            "overflow_x": null,
            "overflow_y": null,
            "padding": null,
            "right": null,
            "top": null,
            "visibility": null,
            "width": null
          }
        },
        "903dbfe002f143f6be306f5efd30a2ef": {
          "model_module": "@jupyter-widgets/controls",
          "model_name": "ProgressStyleModel",
          "model_module_version": "1.5.0",
          "state": {
            "_model_module": "@jupyter-widgets/controls",
            "_model_module_version": "1.5.0",
            "_model_name": "ProgressStyleModel",
            "_view_count": null,
            "_view_module": "@jupyter-widgets/base",
            "_view_module_version": "1.2.0",
            "_view_name": "StyleView",
            "bar_color": null,
            "description_width": ""
          }
        },
        "d0dd73e0ea1545a8a7b76df68ba1a8c6": {
          "model_module": "@jupyter-widgets/base",
          "model_name": "LayoutModel",
          "model_module_version": "1.2.0",
          "state": {
            "_model_module": "@jupyter-widgets/base",
            "_model_module_version": "1.2.0",
            "_model_name": "LayoutModel",
            "_view_count": null,
            "_view_module": "@jupyter-widgets/base",
            "_view_module_version": "1.2.0",
            "_view_name": "LayoutView",
            "align_content": null,
            "align_items": null,
            "align_self": null,
            "border": null,
            "bottom": null,
            "display": null,
            "flex": null,
            "flex_flow": null,
            "grid_area": null,
            "grid_auto_columns": null,
            "grid_auto_flow": null,
            "grid_auto_rows": null,
            "grid_column": null,
            "grid_gap": null,
            "grid_row": null,
            "grid_template_areas": null,
            "grid_template_columns": null,
            "grid_template_rows": null,
            "height": null,
            "justify_content": null,
            "justify_items": null,
            "left": null,
            "margin": null,
            "max_height": null,
            "max_width": null,
            "min_height": null,
            "min_width": null,
            "object_fit": null,
            "object_position": null,
            "order": null,
            "overflow": null,
            "overflow_x": null,
            "overflow_y": null,
            "padding": null,
            "right": null,
            "top": null,
            "visibility": null,
            "width": null
          }
        },
        "ab92b7f7cdb9476288025d2d5d2fd227": {
          "model_module": "@jupyter-widgets/controls",
          "model_name": "DescriptionStyleModel",
          "model_module_version": "1.5.0",
          "state": {
            "_model_module": "@jupyter-widgets/controls",
            "_model_module_version": "1.5.0",
            "_model_name": "DescriptionStyleModel",
            "_view_count": null,
            "_view_module": "@jupyter-widgets/base",
            "_view_module_version": "1.2.0",
            "_view_name": "StyleView",
            "description_width": ""
          }
        },
        "d4fda083a32f4e1484bed49c442fd114": {
          "model_module": "@jupyter-widgets/controls",
          "model_name": "HBoxModel",
          "model_module_version": "1.5.0",
          "state": {
            "_dom_classes": [],
            "_model_module": "@jupyter-widgets/controls",
            "_model_module_version": "1.5.0",
            "_model_name": "HBoxModel",
            "_view_count": null,
            "_view_module": "@jupyter-widgets/controls",
            "_view_module_version": "1.5.0",
            "_view_name": "HBoxView",
            "box_style": "",
            "children": [
              "IPY_MODEL_711e0edb718d4247a273d68997154ed5",
              "IPY_MODEL_2ca92d7b185b47b8b38af36a46d017ae",
              "IPY_MODEL_4e4cacd9a0f94540a53b2b8b9401c020"
            ],
            "layout": "IPY_MODEL_f0f22184d9fe4bd5a4098701e41aa30f"
          }
        },
        "711e0edb718d4247a273d68997154ed5": {
          "model_module": "@jupyter-widgets/controls",
          "model_name": "HTMLModel",
          "model_module_version": "1.5.0",
          "state": {
            "_dom_classes": [],
            "_model_module": "@jupyter-widgets/controls",
            "_model_module_version": "1.5.0",
            "_model_name": "HTMLModel",
            "_view_count": null,
            "_view_module": "@jupyter-widgets/controls",
            "_view_module_version": "1.5.0",
            "_view_name": "HTMLView",
            "description": "",
            "description_tooltip": null,
            "layout": "IPY_MODEL_3b8410006eba406893b39752ab170f2a",
            "placeholder": "​",
            "style": "IPY_MODEL_7ab8b5b81e334c23a5134e3c92f713ca",
            "value": "Downloading (…)/main/tokenizer.json: 100%"
          }
        },
        "2ca92d7b185b47b8b38af36a46d017ae": {
          "model_module": "@jupyter-widgets/controls",
          "model_name": "FloatProgressModel",
          "model_module_version": "1.5.0",
          "state": {
            "_dom_classes": [],
            "_model_module": "@jupyter-widgets/controls",
            "_model_module_version": "1.5.0",
            "_model_name": "FloatProgressModel",
            "_view_count": null,
            "_view_module": "@jupyter-widgets/controls",
            "_view_module_version": "1.5.0",
            "_view_name": "ProgressView",
            "bar_style": "success",
            "description": "",
            "description_tooltip": null,
            "layout": "IPY_MODEL_4e596bf7480542ffbd6f97d6065de6e5",
            "max": 1355256,
            "min": 0,
            "orientation": "horizontal",
            "style": "IPY_MODEL_05696b85676d4d20832c810df5aef67b",
            "value": 1355256
          }
        },
        "4e4cacd9a0f94540a53b2b8b9401c020": {
          "model_module": "@jupyter-widgets/controls",
          "model_name": "HTMLModel",
          "model_module_version": "1.5.0",
          "state": {
            "_dom_classes": [],
            "_model_module": "@jupyter-widgets/controls",
            "_model_module_version": "1.5.0",
            "_model_name": "HTMLModel",
            "_view_count": null,
            "_view_module": "@jupyter-widgets/controls",
            "_view_module_version": "1.5.0",
            "_view_name": "HTMLView",
            "description": "",
            "description_tooltip": null,
            "layout": "IPY_MODEL_f6d453e04cb34d55be77da72969162c1",
            "placeholder": "​",
            "style": "IPY_MODEL_c99087ebadff49cd9580966ae1f756aa",
            "value": " 1.36M/1.36M [00:00&lt;00:00, 8.30MB/s]"
          }
        },
        "f0f22184d9fe4bd5a4098701e41aa30f": {
          "model_module": "@jupyter-widgets/base",
          "model_name": "LayoutModel",
          "model_module_version": "1.2.0",
          "state": {
            "_model_module": "@jupyter-widgets/base",
            "_model_module_version": "1.2.0",
            "_model_name": "LayoutModel",
            "_view_count": null,
            "_view_module": "@jupyter-widgets/base",
            "_view_module_version": "1.2.0",
            "_view_name": "LayoutView",
            "align_content": null,
            "align_items": null,
            "align_self": null,
            "border": null,
            "bottom": null,
            "display": null,
            "flex": null,
            "flex_flow": null,
            "grid_area": null,
            "grid_auto_columns": null,
            "grid_auto_flow": null,
            "grid_auto_rows": null,
            "grid_column": null,
            "grid_gap": null,
            "grid_row": null,
            "grid_template_areas": null,
            "grid_template_columns": null,
            "grid_template_rows": null,
            "height": null,
            "justify_content": null,
            "justify_items": null,
            "left": null,
            "margin": null,
            "max_height": null,
            "max_width": null,
            "min_height": null,
            "min_width": null,
            "object_fit": null,
            "object_position": null,
            "order": null,
            "overflow": null,
            "overflow_x": null,
            "overflow_y": null,
            "padding": null,
            "right": null,
            "top": null,
            "visibility": null,
            "width": null
          }
        },
        "3b8410006eba406893b39752ab170f2a": {
          "model_module": "@jupyter-widgets/base",
          "model_name": "LayoutModel",
          "model_module_version": "1.2.0",
          "state": {
            "_model_module": "@jupyter-widgets/base",
            "_model_module_version": "1.2.0",
            "_model_name": "LayoutModel",
            "_view_count": null,
            "_view_module": "@jupyter-widgets/base",
            "_view_module_version": "1.2.0",
            "_view_name": "LayoutView",
            "align_content": null,
            "align_items": null,
            "align_self": null,
            "border": null,
            "bottom": null,
            "display": null,
            "flex": null,
            "flex_flow": null,
            "grid_area": null,
            "grid_auto_columns": null,
            "grid_auto_flow": null,
            "grid_auto_rows": null,
            "grid_column": null,
            "grid_gap": null,
            "grid_row": null,
            "grid_template_areas": null,
            "grid_template_columns": null,
            "grid_template_rows": null,
            "height": null,
            "justify_content": null,
            "justify_items": null,
            "left": null,
            "margin": null,
            "max_height": null,
            "max_width": null,
            "min_height": null,
            "min_width": null,
            "object_fit": null,
            "object_position": null,
            "order": null,
            "overflow": null,
            "overflow_x": null,
            "overflow_y": null,
            "padding": null,
            "right": null,
            "top": null,
            "visibility": null,
            "width": null
          }
        },
        "7ab8b5b81e334c23a5134e3c92f713ca": {
          "model_module": "@jupyter-widgets/controls",
          "model_name": "DescriptionStyleModel",
          "model_module_version": "1.5.0",
          "state": {
            "_model_module": "@jupyter-widgets/controls",
            "_model_module_version": "1.5.0",
            "_model_name": "DescriptionStyleModel",
            "_view_count": null,
            "_view_module": "@jupyter-widgets/base",
            "_view_module_version": "1.2.0",
            "_view_name": "StyleView",
            "description_width": ""
          }
        },
        "4e596bf7480542ffbd6f97d6065de6e5": {
          "model_module": "@jupyter-widgets/base",
          "model_name": "LayoutModel",
          "model_module_version": "1.2.0",
          "state": {
            "_model_module": "@jupyter-widgets/base",
            "_model_module_version": "1.2.0",
            "_model_name": "LayoutModel",
            "_view_count": null,
            "_view_module": "@jupyter-widgets/base",
            "_view_module_version": "1.2.0",
            "_view_name": "LayoutView",
            "align_content": null,
            "align_items": null,
            "align_self": null,
            "border": null,
            "bottom": null,
            "display": null,
            "flex": null,
            "flex_flow": null,
            "grid_area": null,
            "grid_auto_columns": null,
            "grid_auto_flow": null,
            "grid_auto_rows": null,
            "grid_column": null,
            "grid_gap": null,
            "grid_row": null,
            "grid_template_areas": null,
            "grid_template_columns": null,
            "grid_template_rows": null,
            "height": null,
            "justify_content": null,
            "justify_items": null,
            "left": null,
            "margin": null,
            "max_height": null,
            "max_width": null,
            "min_height": null,
            "min_width": null,
            "object_fit": null,
            "object_position": null,
            "order": null,
            "overflow": null,
            "overflow_x": null,
            "overflow_y": null,
            "padding": null,
            "right": null,
            "top": null,
            "visibility": null,
            "width": null
          }
        },
        "05696b85676d4d20832c810df5aef67b": {
          "model_module": "@jupyter-widgets/controls",
          "model_name": "ProgressStyleModel",
          "model_module_version": "1.5.0",
          "state": {
            "_model_module": "@jupyter-widgets/controls",
            "_model_module_version": "1.5.0",
            "_model_name": "ProgressStyleModel",
            "_view_count": null,
            "_view_module": "@jupyter-widgets/base",
            "_view_module_version": "1.2.0",
            "_view_name": "StyleView",
            "bar_color": null,
            "description_width": ""
          }
        },
        "f6d453e04cb34d55be77da72969162c1": {
          "model_module": "@jupyter-widgets/base",
          "model_name": "LayoutModel",
          "model_module_version": "1.2.0",
          "state": {
            "_model_module": "@jupyter-widgets/base",
            "_model_module_version": "1.2.0",
            "_model_name": "LayoutModel",
            "_view_count": null,
            "_view_module": "@jupyter-widgets/base",
            "_view_module_version": "1.2.0",
            "_view_name": "LayoutView",
            "align_content": null,
            "align_items": null,
            "align_self": null,
            "border": null,
            "bottom": null,
            "display": null,
            "flex": null,
            "flex_flow": null,
            "grid_area": null,
            "grid_auto_columns": null,
            "grid_auto_flow": null,
            "grid_auto_rows": null,
            "grid_column": null,
            "grid_gap": null,
            "grid_row": null,
            "grid_template_areas": null,
            "grid_template_columns": null,
            "grid_template_rows": null,
            "height": null,
            "justify_content": null,
            "justify_items": null,
            "left": null,
            "margin": null,
            "max_height": null,
            "max_width": null,
            "min_height": null,
            "min_width": null,
            "object_fit": null,
            "object_position": null,
            "order": null,
            "overflow": null,
            "overflow_x": null,
            "overflow_y": null,
            "padding": null,
            "right": null,
            "top": null,
            "visibility": null,
            "width": null
          }
        },
        "c99087ebadff49cd9580966ae1f756aa": {
          "model_module": "@jupyter-widgets/controls",
          "model_name": "DescriptionStyleModel",
          "model_module_version": "1.5.0",
          "state": {
            "_model_module": "@jupyter-widgets/controls",
            "_model_module_version": "1.5.0",
            "_model_name": "DescriptionStyleModel",
            "_view_count": null,
            "_view_module": "@jupyter-widgets/base",
            "_view_module_version": "1.2.0",
            "_view_name": "StyleView",
            "description_width": ""
          }
        },
        "b2851fa8fb5e4221a04e00ec43c7ce80": {
          "model_module": "@jupyter-widgets/controls",
          "model_name": "HBoxModel",
          "model_module_version": "1.5.0",
          "state": {
            "_dom_classes": [],
            "_model_module": "@jupyter-widgets/controls",
            "_model_module_version": "1.5.0",
            "_model_name": "HBoxModel",
            "_view_count": null,
            "_view_module": "@jupyter-widgets/controls",
            "_view_module_version": "1.5.0",
            "_view_name": "HBoxView",
            "box_style": "",
            "children": [
              "IPY_MODEL_29e5abff5a6f4bf7b80e994fea14dbfa",
              "IPY_MODEL_0001f60293124622a5597529d51623c2",
              "IPY_MODEL_2d05537b33cf48f4b4860ea83e87dc30"
            ],
            "layout": "IPY_MODEL_e79a6cb8c3c143e6b6b9d1d38d96ecd2"
          }
        },
        "29e5abff5a6f4bf7b80e994fea14dbfa": {
          "model_module": "@jupyter-widgets/controls",
          "model_name": "HTMLModel",
          "model_module_version": "1.5.0",
          "state": {
            "_dom_classes": [],
            "_model_module": "@jupyter-widgets/controls",
            "_model_module_version": "1.5.0",
            "_model_name": "HTMLModel",
            "_view_count": null,
            "_view_module": "@jupyter-widgets/controls",
            "_view_module_version": "1.5.0",
            "_view_name": "HTMLView",
            "description": "",
            "description_tooltip": null,
            "layout": "IPY_MODEL_f0ee9e6b89894175a647a7f267427c1a",
            "placeholder": "​",
            "style": "IPY_MODEL_d78cdbee3959435388344526260a1a22",
            "value": "Downloading (…)&quot;pytorch_model.bin&quot;;: 100%"
          }
        },
        "0001f60293124622a5597529d51623c2": {
          "model_module": "@jupyter-widgets/controls",
          "model_name": "FloatProgressModel",
          "model_module_version": "1.5.0",
          "state": {
            "_dom_classes": [],
            "_model_module": "@jupyter-widgets/controls",
            "_model_module_version": "1.5.0",
            "_model_name": "FloatProgressModel",
            "_view_count": null,
            "_view_module": "@jupyter-widgets/controls",
            "_view_module_version": "1.5.0",
            "_view_name": "ProgressView",
            "bar_style": "success",
            "description": "",
            "description_tooltip": null,
            "layout": "IPY_MODEL_23791b9aa53f4e3b9d3f415c6f9b28ff",
            "max": 352833716,
            "min": 0,
            "orientation": "horizontal",
            "style": "IPY_MODEL_7bd053debc784912bf0a45a2484ee68f",
            "value": 352833716
          }
        },
        "2d05537b33cf48f4b4860ea83e87dc30": {
          "model_module": "@jupyter-widgets/controls",
          "model_name": "HTMLModel",
          "model_module_version": "1.5.0",
          "state": {
            "_dom_classes": [],
            "_model_module": "@jupyter-widgets/controls",
            "_model_module_version": "1.5.0",
            "_model_name": "HTMLModel",
            "_view_count": null,
            "_view_module": "@jupyter-widgets/controls",
            "_view_module_version": "1.5.0",
            "_view_name": "HTMLView",
            "description": "",
            "description_tooltip": null,
            "layout": "IPY_MODEL_fdb2c02a823d455e93dd473ef1c82844",
            "placeholder": "​",
            "style": "IPY_MODEL_4035ddad2a454b7e873f8f83ec316b5f",
            "value": " 353M/353M [00:03&lt;00:00, 107MB/s]"
          }
        },
        "e79a6cb8c3c143e6b6b9d1d38d96ecd2": {
          "model_module": "@jupyter-widgets/base",
          "model_name": "LayoutModel",
          "model_module_version": "1.2.0",
          "state": {
            "_model_module": "@jupyter-widgets/base",
            "_model_module_version": "1.2.0",
            "_model_name": "LayoutModel",
            "_view_count": null,
            "_view_module": "@jupyter-widgets/base",
            "_view_module_version": "1.2.0",
            "_view_name": "LayoutView",
            "align_content": null,
            "align_items": null,
            "align_self": null,
            "border": null,
            "bottom": null,
            "display": null,
            "flex": null,
            "flex_flow": null,
            "grid_area": null,
            "grid_auto_columns": null,
            "grid_auto_flow": null,
            "grid_auto_rows": null,
            "grid_column": null,
            "grid_gap": null,
            "grid_row": null,
            "grid_template_areas": null,
            "grid_template_columns": null,
            "grid_template_rows": null,
            "height": null,
            "justify_content": null,
            "justify_items": null,
            "left": null,
            "margin": null,
            "max_height": null,
            "max_width": null,
            "min_height": null,
            "min_width": null,
            "object_fit": null,
            "object_position": null,
            "order": null,
            "overflow": null,
            "overflow_x": null,
            "overflow_y": null,
            "padding": null,
            "right": null,
            "top": null,
            "visibility": null,
            "width": null
          }
        },
        "f0ee9e6b89894175a647a7f267427c1a": {
          "model_module": "@jupyter-widgets/base",
          "model_name": "LayoutModel",
          "model_module_version": "1.2.0",
          "state": {
            "_model_module": "@jupyter-widgets/base",
            "_model_module_version": "1.2.0",
            "_model_name": "LayoutModel",
            "_view_count": null,
            "_view_module": "@jupyter-widgets/base",
            "_view_module_version": "1.2.0",
            "_view_name": "LayoutView",
            "align_content": null,
            "align_items": null,
            "align_self": null,
            "border": null,
            "bottom": null,
            "display": null,
            "flex": null,
            "flex_flow": null,
            "grid_area": null,
            "grid_auto_columns": null,
            "grid_auto_flow": null,
            "grid_auto_rows": null,
            "grid_column": null,
            "grid_gap": null,
            "grid_row": null,
            "grid_template_areas": null,
            "grid_template_columns": null,
            "grid_template_rows": null,
            "height": null,
            "justify_content": null,
            "justify_items": null,
            "left": null,
            "margin": null,
            "max_height": null,
            "max_width": null,
            "min_height": null,
            "min_width": null,
            "object_fit": null,
            "object_position": null,
            "order": null,
            "overflow": null,
            "overflow_x": null,
            "overflow_y": null,
            "padding": null,
            "right": null,
            "top": null,
            "visibility": null,
            "width": null
          }
        },
        "d78cdbee3959435388344526260a1a22": {
          "model_module": "@jupyter-widgets/controls",
          "model_name": "DescriptionStyleModel",
          "model_module_version": "1.5.0",
          "state": {
            "_model_module": "@jupyter-widgets/controls",
            "_model_module_version": "1.5.0",
            "_model_name": "DescriptionStyleModel",
            "_view_count": null,
            "_view_module": "@jupyter-widgets/base",
            "_view_module_version": "1.2.0",
            "_view_name": "StyleView",
            "description_width": ""
          }
        },
        "23791b9aa53f4e3b9d3f415c6f9b28ff": {
          "model_module": "@jupyter-widgets/base",
          "model_name": "LayoutModel",
          "model_module_version": "1.2.0",
          "state": {
            "_model_module": "@jupyter-widgets/base",
            "_model_module_version": "1.2.0",
            "_model_name": "LayoutModel",
            "_view_count": null,
            "_view_module": "@jupyter-widgets/base",
            "_view_module_version": "1.2.0",
            "_view_name": "LayoutView",
            "align_content": null,
            "align_items": null,
            "align_self": null,
            "border": null,
            "bottom": null,
            "display": null,
            "flex": null,
            "flex_flow": null,
            "grid_area": null,
            "grid_auto_columns": null,
            "grid_auto_flow": null,
            "grid_auto_rows": null,
            "grid_column": null,
            "grid_gap": null,
            "grid_row": null,
            "grid_template_areas": null,
            "grid_template_columns": null,
            "grid_template_rows": null,
            "height": null,
            "justify_content": null,
            "justify_items": null,
            "left": null,
            "margin": null,
            "max_height": null,
            "max_width": null,
            "min_height": null,
            "min_width": null,
            "object_fit": null,
            "object_position": null,
            "order": null,
            "overflow": null,
            "overflow_x": null,
            "overflow_y": null,
            "padding": null,
            "right": null,
            "top": null,
            "visibility": null,
            "width": null
          }
        },
        "7bd053debc784912bf0a45a2484ee68f": {
          "model_module": "@jupyter-widgets/controls",
          "model_name": "ProgressStyleModel",
          "model_module_version": "1.5.0",
          "state": {
            "_model_module": "@jupyter-widgets/controls",
            "_model_module_version": "1.5.0",
            "_model_name": "ProgressStyleModel",
            "_view_count": null,
            "_view_module": "@jupyter-widgets/base",
            "_view_module_version": "1.2.0",
            "_view_name": "StyleView",
            "bar_color": null,
            "description_width": ""
          }
        },
        "fdb2c02a823d455e93dd473ef1c82844": {
          "model_module": "@jupyter-widgets/base",
          "model_name": "LayoutModel",
          "model_module_version": "1.2.0",
          "state": {
            "_model_module": "@jupyter-widgets/base",
            "_model_module_version": "1.2.0",
            "_model_name": "LayoutModel",
            "_view_count": null,
            "_view_module": "@jupyter-widgets/base",
            "_view_module_version": "1.2.0",
            "_view_name": "LayoutView",
            "align_content": null,
            "align_items": null,
            "align_self": null,
            "border": null,
            "bottom": null,
            "display": null,
            "flex": null,
            "flex_flow": null,
            "grid_area": null,
            "grid_auto_columns": null,
            "grid_auto_flow": null,
            "grid_auto_rows": null,
            "grid_column": null,
            "grid_gap": null,
            "grid_row": null,
            "grid_template_areas": null,
            "grid_template_columns": null,
            "grid_template_rows": null,
            "height": null,
            "justify_content": null,
            "justify_items": null,
            "left": null,
            "margin": null,
            "max_height": null,
            "max_width": null,
            "min_height": null,
            "min_width": null,
            "object_fit": null,
            "object_position": null,
            "order": null,
            "overflow": null,
            "overflow_x": null,
            "overflow_y": null,
            "padding": null,
            "right": null,
            "top": null,
            "visibility": null,
            "width": null
          }
        },
        "4035ddad2a454b7e873f8f83ec316b5f": {
          "model_module": "@jupyter-widgets/controls",
          "model_name": "DescriptionStyleModel",
          "model_module_version": "1.5.0",
          "state": {
            "_model_module": "@jupyter-widgets/controls",
            "_model_module_version": "1.5.0",
            "_model_name": "DescriptionStyleModel",
            "_view_count": null,
            "_view_module": "@jupyter-widgets/base",
            "_view_module_version": "1.2.0",
            "_view_name": "StyleView",
            "description_width": ""
          }
        },
        "27c8e6c8a196424189c23ed0499e45e1": {
          "model_module": "@jupyter-widgets/controls",
          "model_name": "HBoxModel",
          "model_module_version": "1.5.0",
          "state": {
            "_dom_classes": [],
            "_model_module": "@jupyter-widgets/controls",
            "_model_module_version": "1.5.0",
            "_model_name": "HBoxModel",
            "_view_count": null,
            "_view_module": "@jupyter-widgets/controls",
            "_view_module_version": "1.5.0",
            "_view_name": "HBoxView",
            "box_style": "",
            "children": [
              "IPY_MODEL_93f984df7d2847ff9561078c784cb094",
              "IPY_MODEL_5347120fc020479a870fe7c21df4e6ed",
              "IPY_MODEL_d2e0d4a565d8452c870a3d51b2ed234f"
            ],
            "layout": "IPY_MODEL_c7ae171ac2734d4986d8a5c7ae96eb2a"
          }
        },
        "93f984df7d2847ff9561078c784cb094": {
          "model_module": "@jupyter-widgets/controls",
          "model_name": "HTMLModel",
          "model_module_version": "1.5.0",
          "state": {
            "_dom_classes": [],
            "_model_module": "@jupyter-widgets/controls",
            "_model_module_version": "1.5.0",
            "_model_name": "HTMLModel",
            "_view_count": null,
            "_view_module": "@jupyter-widgets/controls",
            "_view_module_version": "1.5.0",
            "_view_name": "HTMLView",
            "description": "",
            "description_tooltip": null,
            "layout": "IPY_MODEL_304b9be3db4c4060b95e745d321d703c",
            "placeholder": "​",
            "style": "IPY_MODEL_6c05b6fb899b4bba9ba9441c33b1ede5",
            "value": "Downloading (…)neration_config.json: 100%"
          }
        },
        "5347120fc020479a870fe7c21df4e6ed": {
          "model_module": "@jupyter-widgets/controls",
          "model_name": "FloatProgressModel",
          "model_module_version": "1.5.0",
          "state": {
            "_dom_classes": [],
            "_model_module": "@jupyter-widgets/controls",
            "_model_module_version": "1.5.0",
            "_model_name": "FloatProgressModel",
            "_view_count": null,
            "_view_module": "@jupyter-widgets/controls",
            "_view_module_version": "1.5.0",
            "_view_name": "ProgressView",
            "bar_style": "success",
            "description": "",
            "description_tooltip": null,
            "layout": "IPY_MODEL_fcac0d1c7bcf463f86ceb8a5cbe573ca",
            "max": 124,
            "min": 0,
            "orientation": "horizontal",
            "style": "IPY_MODEL_24ad0f7ce6164e8b89975d725694df94",
            "value": 124
          }
        },
        "d2e0d4a565d8452c870a3d51b2ed234f": {
          "model_module": "@jupyter-widgets/controls",
          "model_name": "HTMLModel",
          "model_module_version": "1.5.0",
          "state": {
            "_dom_classes": [],
            "_model_module": "@jupyter-widgets/controls",
            "_model_module_version": "1.5.0",
            "_model_name": "HTMLModel",
            "_view_count": null,
            "_view_module": "@jupyter-widgets/controls",
            "_view_module_version": "1.5.0",
            "_view_name": "HTMLView",
            "description": "",
            "description_tooltip": null,
            "layout": "IPY_MODEL_c1b19a8b12af4fe2b4763a3df0bbed65",
            "placeholder": "​",
            "style": "IPY_MODEL_85b930a93ce345b1a164df8cc3a0d51a",
            "value": " 124/124 [00:00&lt;00:00, 3.07kB/s]"
          }
        },
        "c7ae171ac2734d4986d8a5c7ae96eb2a": {
          "model_module": "@jupyter-widgets/base",
          "model_name": "LayoutModel",
          "model_module_version": "1.2.0",
          "state": {
            "_model_module": "@jupyter-widgets/base",
            "_model_module_version": "1.2.0",
            "_model_name": "LayoutModel",
            "_view_count": null,
            "_view_module": "@jupyter-widgets/base",
            "_view_module_version": "1.2.0",
            "_view_name": "LayoutView",
            "align_content": null,
            "align_items": null,
            "align_self": null,
            "border": null,
            "bottom": null,
            "display": null,
            "flex": null,
            "flex_flow": null,
            "grid_area": null,
            "grid_auto_columns": null,
            "grid_auto_flow": null,
            "grid_auto_rows": null,
            "grid_column": null,
            "grid_gap": null,
            "grid_row": null,
            "grid_template_areas": null,
            "grid_template_columns": null,
            "grid_template_rows": null,
            "height": null,
            "justify_content": null,
            "justify_items": null,
            "left": null,
            "margin": null,
            "max_height": null,
            "max_width": null,
            "min_height": null,
            "min_width": null,
            "object_fit": null,
            "object_position": null,
            "order": null,
            "overflow": null,
            "overflow_x": null,
            "overflow_y": null,
            "padding": null,
            "right": null,
            "top": null,
            "visibility": null,
            "width": null
          }
        },
        "304b9be3db4c4060b95e745d321d703c": {
          "model_module": "@jupyter-widgets/base",
          "model_name": "LayoutModel",
          "model_module_version": "1.2.0",
          "state": {
            "_model_module": "@jupyter-widgets/base",
            "_model_module_version": "1.2.0",
            "_model_name": "LayoutModel",
            "_view_count": null,
            "_view_module": "@jupyter-widgets/base",
            "_view_module_version": "1.2.0",
            "_view_name": "LayoutView",
            "align_content": null,
            "align_items": null,
            "align_self": null,
            "border": null,
            "bottom": null,
            "display": null,
            "flex": null,
            "flex_flow": null,
            "grid_area": null,
            "grid_auto_columns": null,
            "grid_auto_flow": null,
            "grid_auto_rows": null,
            "grid_column": null,
            "grid_gap": null,
            "grid_row": null,
            "grid_template_areas": null,
            "grid_template_columns": null,
            "grid_template_rows": null,
            "height": null,
            "justify_content": null,
            "justify_items": null,
            "left": null,
            "margin": null,
            "max_height": null,
            "max_width": null,
            "min_height": null,
            "min_width": null,
            "object_fit": null,
            "object_position": null,
            "order": null,
            "overflow": null,
            "overflow_x": null,
            "overflow_y": null,
            "padding": null,
            "right": null,
            "top": null,
            "visibility": null,
            "width": null
          }
        },
        "6c05b6fb899b4bba9ba9441c33b1ede5": {
          "model_module": "@jupyter-widgets/controls",
          "model_name": "DescriptionStyleModel",
          "model_module_version": "1.5.0",
          "state": {
            "_model_module": "@jupyter-widgets/controls",
            "_model_module_version": "1.5.0",
            "_model_name": "DescriptionStyleModel",
            "_view_count": null,
            "_view_module": "@jupyter-widgets/base",
            "_view_module_version": "1.2.0",
            "_view_name": "StyleView",
            "description_width": ""
          }
        },
        "fcac0d1c7bcf463f86ceb8a5cbe573ca": {
          "model_module": "@jupyter-widgets/base",
          "model_name": "LayoutModel",
          "model_module_version": "1.2.0",
          "state": {
            "_model_module": "@jupyter-widgets/base",
            "_model_module_version": "1.2.0",
            "_model_name": "LayoutModel",
            "_view_count": null,
            "_view_module": "@jupyter-widgets/base",
            "_view_module_version": "1.2.0",
            "_view_name": "LayoutView",
            "align_content": null,
            "align_items": null,
            "align_self": null,
            "border": null,
            "bottom": null,
            "display": null,
            "flex": null,
            "flex_flow": null,
            "grid_area": null,
            "grid_auto_columns": null,
            "grid_auto_flow": null,
            "grid_auto_rows": null,
            "grid_column": null,
            "grid_gap": null,
            "grid_row": null,
            "grid_template_areas": null,
            "grid_template_columns": null,
            "grid_template_rows": null,
            "height": null,
            "justify_content": null,
            "justify_items": null,
            "left": null,
            "margin": null,
            "max_height": null,
            "max_width": null,
            "min_height": null,
            "min_width": null,
            "object_fit": null,
            "object_position": null,
            "order": null,
            "overflow": null,
            "overflow_x": null,
            "overflow_y": null,
            "padding": null,
            "right": null,
            "top": null,
            "visibility": null,
            "width": null
          }
        },
        "24ad0f7ce6164e8b89975d725694df94": {
          "model_module": "@jupyter-widgets/controls",
          "model_name": "ProgressStyleModel",
          "model_module_version": "1.5.0",
          "state": {
            "_model_module": "@jupyter-widgets/controls",
            "_model_module_version": "1.5.0",
            "_model_name": "ProgressStyleModel",
            "_view_count": null,
            "_view_module": "@jupyter-widgets/base",
            "_view_module_version": "1.2.0",
            "_view_name": "StyleView",
            "bar_color": null,
            "description_width": ""
          }
        },
        "c1b19a8b12af4fe2b4763a3df0bbed65": {
          "model_module": "@jupyter-widgets/base",
          "model_name": "LayoutModel",
          "model_module_version": "1.2.0",
          "state": {
            "_model_module": "@jupyter-widgets/base",
            "_model_module_version": "1.2.0",
            "_model_name": "LayoutModel",
            "_view_count": null,
            "_view_module": "@jupyter-widgets/base",
            "_view_module_version": "1.2.0",
            "_view_name": "LayoutView",
            "align_content": null,
            "align_items": null,
            "align_self": null,
            "border": null,
            "bottom": null,
            "display": null,
            "flex": null,
            "flex_flow": null,
            "grid_area": null,
            "grid_auto_columns": null,
            "grid_auto_flow": null,
            "grid_auto_rows": null,
            "grid_column": null,
            "grid_gap": null,
            "grid_row": null,
            "grid_template_areas": null,
            "grid_template_columns": null,
            "grid_template_rows": null,
            "height": null,
            "justify_content": null,
            "justify_items": null,
            "left": null,
            "margin": null,
            "max_height": null,
            "max_width": null,
            "min_height": null,
            "min_width": null,
            "object_fit": null,
            "object_position": null,
            "order": null,
            "overflow": null,
            "overflow_x": null,
            "overflow_y": null,
            "padding": null,
            "right": null,
            "top": null,
            "visibility": null,
            "width": null
          }
        },
        "85b930a93ce345b1a164df8cc3a0d51a": {
          "model_module": "@jupyter-widgets/controls",
          "model_name": "DescriptionStyleModel",
          "model_module_version": "1.5.0",
          "state": {
            "_model_module": "@jupyter-widgets/controls",
            "_model_module_version": "1.5.0",
            "_model_name": "DescriptionStyleModel",
            "_view_count": null,
            "_view_module": "@jupyter-widgets/base",
            "_view_module_version": "1.2.0",
            "_view_name": "StyleView",
            "description_width": ""
          }
        },
        "94e759bbe974435c8dc2f7145169adca": {
          "model_module": "@jupyter-widgets/controls",
          "model_name": "HBoxModel",
          "model_module_version": "1.5.0",
          "state": {
            "_dom_classes": [],
            "_model_module": "@jupyter-widgets/controls",
            "_model_module_version": "1.5.0",
            "_model_name": "HBoxModel",
            "_view_count": null,
            "_view_module": "@jupyter-widgets/controls",
            "_view_module_version": "1.5.0",
            "_view_name": "HBoxView",
            "box_style": "",
            "children": [
              "IPY_MODEL_2ee04fce996f42dbaa687bcc9d841369",
              "IPY_MODEL_9b4f49356e0d46c7a24f62e1c34761da",
              "IPY_MODEL_b03d2c7bef724ac0a111a63698dc431a"
            ],
            "layout": "IPY_MODEL_0f6b7cd95e604f229af0800b6832754c"
          }
        },
        "2ee04fce996f42dbaa687bcc9d841369": {
          "model_module": "@jupyter-widgets/controls",
          "model_name": "HTMLModel",
          "model_module_version": "1.5.0",
          "state": {
            "_dom_classes": [],
            "_model_module": "@jupyter-widgets/controls",
            "_model_module_version": "1.5.0",
            "_model_name": "HTMLModel",
            "_view_count": null,
            "_view_module": "@jupyter-widgets/controls",
            "_view_module_version": "1.5.0",
            "_view_name": "HTMLView",
            "description": "",
            "description_tooltip": null,
            "layout": "IPY_MODEL_b726928f038648aca8b08fcc5ae9df7e",
            "placeholder": "​",
            "style": "IPY_MODEL_7b7cfd78c35a4a8ea8f270aa3c8e96cc",
            "value": "Downloading data files: 100%"
          }
        },
        "9b4f49356e0d46c7a24f62e1c34761da": {
          "model_module": "@jupyter-widgets/controls",
          "model_name": "FloatProgressModel",
          "model_module_version": "1.5.0",
          "state": {
            "_dom_classes": [],
            "_model_module": "@jupyter-widgets/controls",
            "_model_module_version": "1.5.0",
            "_model_name": "FloatProgressModel",
            "_view_count": null,
            "_view_module": "@jupyter-widgets/controls",
            "_view_module_version": "1.5.0",
            "_view_name": "ProgressView",
            "bar_style": "success",
            "description": "",
            "description_tooltip": null,
            "layout": "IPY_MODEL_fa96f840f28141db95a4ed5a1ef33ea6",
            "max": 1,
            "min": 0,
            "orientation": "horizontal",
            "style": "IPY_MODEL_4849b1e82a5e42e99613e3624b9c11e6",
            "value": 1
          }
        },
        "b03d2c7bef724ac0a111a63698dc431a": {
          "model_module": "@jupyter-widgets/controls",
          "model_name": "HTMLModel",
          "model_module_version": "1.5.0",
          "state": {
            "_dom_classes": [],
            "_model_module": "@jupyter-widgets/controls",
            "_model_module_version": "1.5.0",
            "_model_name": "HTMLModel",
            "_view_count": null,
            "_view_module": "@jupyter-widgets/controls",
            "_view_module_version": "1.5.0",
            "_view_name": "HTMLView",
            "description": "",
            "description_tooltip": null,
            "layout": "IPY_MODEL_e75d0dfd513d4512a997d3a862828bdf",
            "placeholder": "​",
            "style": "IPY_MODEL_b917133a69fd49e693422ad1a39d51fc",
            "value": " 1/1 [00:00&lt;00:00, 18.93it/s]"
          }
        },
        "0f6b7cd95e604f229af0800b6832754c": {
          "model_module": "@jupyter-widgets/base",
          "model_name": "LayoutModel",
          "model_module_version": "1.2.0",
          "state": {
            "_model_module": "@jupyter-widgets/base",
            "_model_module_version": "1.2.0",
            "_model_name": "LayoutModel",
            "_view_count": null,
            "_view_module": "@jupyter-widgets/base",
            "_view_module_version": "1.2.0",
            "_view_name": "LayoutView",
            "align_content": null,
            "align_items": null,
            "align_self": null,
            "border": null,
            "bottom": null,
            "display": null,
            "flex": null,
            "flex_flow": null,
            "grid_area": null,
            "grid_auto_columns": null,
            "grid_auto_flow": null,
            "grid_auto_rows": null,
            "grid_column": null,
            "grid_gap": null,
            "grid_row": null,
            "grid_template_areas": null,
            "grid_template_columns": null,
            "grid_template_rows": null,
            "height": null,
            "justify_content": null,
            "justify_items": null,
            "left": null,
            "margin": null,
            "max_height": null,
            "max_width": null,
            "min_height": null,
            "min_width": null,
            "object_fit": null,
            "object_position": null,
            "order": null,
            "overflow": null,
            "overflow_x": null,
            "overflow_y": null,
            "padding": null,
            "right": null,
            "top": null,
            "visibility": null,
            "width": null
          }
        },
        "b726928f038648aca8b08fcc5ae9df7e": {
          "model_module": "@jupyter-widgets/base",
          "model_name": "LayoutModel",
          "model_module_version": "1.2.0",
          "state": {
            "_model_module": "@jupyter-widgets/base",
            "_model_module_version": "1.2.0",
            "_model_name": "LayoutModel",
            "_view_count": null,
            "_view_module": "@jupyter-widgets/base",
            "_view_module_version": "1.2.0",
            "_view_name": "LayoutView",
            "align_content": null,
            "align_items": null,
            "align_self": null,
            "border": null,
            "bottom": null,
            "display": null,
            "flex": null,
            "flex_flow": null,
            "grid_area": null,
            "grid_auto_columns": null,
            "grid_auto_flow": null,
            "grid_auto_rows": null,
            "grid_column": null,
            "grid_gap": null,
            "grid_row": null,
            "grid_template_areas": null,
            "grid_template_columns": null,
            "grid_template_rows": null,
            "height": null,
            "justify_content": null,
            "justify_items": null,
            "left": null,
            "margin": null,
            "max_height": null,
            "max_width": null,
            "min_height": null,
            "min_width": null,
            "object_fit": null,
            "object_position": null,
            "order": null,
            "overflow": null,
            "overflow_x": null,
            "overflow_y": null,
            "padding": null,
            "right": null,
            "top": null,
            "visibility": null,
            "width": null
          }
        },
        "7b7cfd78c35a4a8ea8f270aa3c8e96cc": {
          "model_module": "@jupyter-widgets/controls",
          "model_name": "DescriptionStyleModel",
          "model_module_version": "1.5.0",
          "state": {
            "_model_module": "@jupyter-widgets/controls",
            "_model_module_version": "1.5.0",
            "_model_name": "DescriptionStyleModel",
            "_view_count": null,
            "_view_module": "@jupyter-widgets/base",
            "_view_module_version": "1.2.0",
            "_view_name": "StyleView",
            "description_width": ""
          }
        },
        "fa96f840f28141db95a4ed5a1ef33ea6": {
          "model_module": "@jupyter-widgets/base",
          "model_name": "LayoutModel",
          "model_module_version": "1.2.0",
          "state": {
            "_model_module": "@jupyter-widgets/base",
            "_model_module_version": "1.2.0",
            "_model_name": "LayoutModel",
            "_view_count": null,
            "_view_module": "@jupyter-widgets/base",
            "_view_module_version": "1.2.0",
            "_view_name": "LayoutView",
            "align_content": null,
            "align_items": null,
            "align_self": null,
            "border": null,
            "bottom": null,
            "display": null,
            "flex": null,
            "flex_flow": null,
            "grid_area": null,
            "grid_auto_columns": null,
            "grid_auto_flow": null,
            "grid_auto_rows": null,
            "grid_column": null,
            "grid_gap": null,
            "grid_row": null,
            "grid_template_areas": null,
            "grid_template_columns": null,
            "grid_template_rows": null,
            "height": null,
            "justify_content": null,
            "justify_items": null,
            "left": null,
            "margin": null,
            "max_height": null,
            "max_width": null,
            "min_height": null,
            "min_width": null,
            "object_fit": null,
            "object_position": null,
            "order": null,
            "overflow": null,
            "overflow_x": null,
            "overflow_y": null,
            "padding": null,
            "right": null,
            "top": null,
            "visibility": null,
            "width": null
          }
        },
        "4849b1e82a5e42e99613e3624b9c11e6": {
          "model_module": "@jupyter-widgets/controls",
          "model_name": "ProgressStyleModel",
          "model_module_version": "1.5.0",
          "state": {
            "_model_module": "@jupyter-widgets/controls",
            "_model_module_version": "1.5.0",
            "_model_name": "ProgressStyleModel",
            "_view_count": null,
            "_view_module": "@jupyter-widgets/base",
            "_view_module_version": "1.2.0",
            "_view_name": "StyleView",
            "bar_color": null,
            "description_width": ""
          }
        },
        "e75d0dfd513d4512a997d3a862828bdf": {
          "model_module": "@jupyter-widgets/base",
          "model_name": "LayoutModel",
          "model_module_version": "1.2.0",
          "state": {
            "_model_module": "@jupyter-widgets/base",
            "_model_module_version": "1.2.0",
            "_model_name": "LayoutModel",
            "_view_count": null,
            "_view_module": "@jupyter-widgets/base",
            "_view_module_version": "1.2.0",
            "_view_name": "LayoutView",
            "align_content": null,
            "align_items": null,
            "align_self": null,
            "border": null,
            "bottom": null,
            "display": null,
            "flex": null,
            "flex_flow": null,
            "grid_area": null,
            "grid_auto_columns": null,
            "grid_auto_flow": null,
            "grid_auto_rows": null,
            "grid_column": null,
            "grid_gap": null,
            "grid_row": null,
            "grid_template_areas": null,
            "grid_template_columns": null,
            "grid_template_rows": null,
            "height": null,
            "justify_content": null,
            "justify_items": null,
            "left": null,
            "margin": null,
            "max_height": null,
            "max_width": null,
            "min_height": null,
            "min_width": null,
            "object_fit": null,
            "object_position": null,
            "order": null,
            "overflow": null,
            "overflow_x": null,
            "overflow_y": null,
            "padding": null,
            "right": null,
            "top": null,
            "visibility": null,
            "width": null
          }
        },
        "b917133a69fd49e693422ad1a39d51fc": {
          "model_module": "@jupyter-widgets/controls",
          "model_name": "DescriptionStyleModel",
          "model_module_version": "1.5.0",
          "state": {
            "_model_module": "@jupyter-widgets/controls",
            "_model_module_version": "1.5.0",
            "_model_name": "DescriptionStyleModel",
            "_view_count": null,
            "_view_module": "@jupyter-widgets/base",
            "_view_module_version": "1.2.0",
            "_view_name": "StyleView",
            "description_width": ""
          }
        },
        "b5c44cc659164a9d9dc4528b82480054": {
          "model_module": "@jupyter-widgets/controls",
          "model_name": "HBoxModel",
          "model_module_version": "1.5.0",
          "state": {
            "_dom_classes": [],
            "_model_module": "@jupyter-widgets/controls",
            "_model_module_version": "1.5.0",
            "_model_name": "HBoxModel",
            "_view_count": null,
            "_view_module": "@jupyter-widgets/controls",
            "_view_module_version": "1.5.0",
            "_view_name": "HBoxView",
            "box_style": "",
            "children": [
              "IPY_MODEL_821e1bdf34794dcdad2169cf6c262962",
              "IPY_MODEL_4c57fbb2a72f4133ab32f35ee2b4a6d6",
              "IPY_MODEL_219a2fafd4da47b49a3b3446c5d4c6ca"
            ],
            "layout": "IPY_MODEL_101260400afd4e32ab2411b4f3e2bc3a"
          }
        },
        "821e1bdf34794dcdad2169cf6c262962": {
          "model_module": "@jupyter-widgets/controls",
          "model_name": "HTMLModel",
          "model_module_version": "1.5.0",
          "state": {
            "_dom_classes": [],
            "_model_module": "@jupyter-widgets/controls",
            "_model_module_version": "1.5.0",
            "_model_name": "HTMLModel",
            "_view_count": null,
            "_view_module": "@jupyter-widgets/controls",
            "_view_module_version": "1.5.0",
            "_view_name": "HTMLView",
            "description": "",
            "description_tooltip": null,
            "layout": "IPY_MODEL_8e7927dd89a94111bc43a9e9f14e1ebe",
            "placeholder": "​",
            "style": "IPY_MODEL_d30bd7e2e4874069a7c5304ab4e79ab6",
            "value": "Extracting data files: 100%"
          }
        },
        "4c57fbb2a72f4133ab32f35ee2b4a6d6": {
          "model_module": "@jupyter-widgets/controls",
          "model_name": "FloatProgressModel",
          "model_module_version": "1.5.0",
          "state": {
            "_dom_classes": [],
            "_model_module": "@jupyter-widgets/controls",
            "_model_module_version": "1.5.0",
            "_model_name": "FloatProgressModel",
            "_view_count": null,
            "_view_module": "@jupyter-widgets/controls",
            "_view_module_version": "1.5.0",
            "_view_name": "ProgressView",
            "bar_style": "success",
            "description": "",
            "description_tooltip": null,
            "layout": "IPY_MODEL_64c6780fce5d430e98f6ea4f5abc8520",
            "max": 1,
            "min": 0,
            "orientation": "horizontal",
            "style": "IPY_MODEL_dfbd791e84a54bd3908c17ca9e9310a7",
            "value": 1
          }
        },
        "219a2fafd4da47b49a3b3446c5d4c6ca": {
          "model_module": "@jupyter-widgets/controls",
          "model_name": "HTMLModel",
          "model_module_version": "1.5.0",
          "state": {
            "_dom_classes": [],
            "_model_module": "@jupyter-widgets/controls",
            "_model_module_version": "1.5.0",
            "_model_name": "HTMLModel",
            "_view_count": null,
            "_view_module": "@jupyter-widgets/controls",
            "_view_module_version": "1.5.0",
            "_view_name": "HTMLView",
            "description": "",
            "description_tooltip": null,
            "layout": "IPY_MODEL_6393e337cd6745bf87725ce55b7ecf80",
            "placeholder": "​",
            "style": "IPY_MODEL_f93f26b463fb4922ac983c72c035ae68",
            "value": " 1/1 [00:00&lt;00:00, 13.06it/s]"
          }
        },
        "101260400afd4e32ab2411b4f3e2bc3a": {
          "model_module": "@jupyter-widgets/base",
          "model_name": "LayoutModel",
          "model_module_version": "1.2.0",
          "state": {
            "_model_module": "@jupyter-widgets/base",
            "_model_module_version": "1.2.0",
            "_model_name": "LayoutModel",
            "_view_count": null,
            "_view_module": "@jupyter-widgets/base",
            "_view_module_version": "1.2.0",
            "_view_name": "LayoutView",
            "align_content": null,
            "align_items": null,
            "align_self": null,
            "border": null,
            "bottom": null,
            "display": null,
            "flex": null,
            "flex_flow": null,
            "grid_area": null,
            "grid_auto_columns": null,
            "grid_auto_flow": null,
            "grid_auto_rows": null,
            "grid_column": null,
            "grid_gap": null,
            "grid_row": null,
            "grid_template_areas": null,
            "grid_template_columns": null,
            "grid_template_rows": null,
            "height": null,
            "justify_content": null,
            "justify_items": null,
            "left": null,
            "margin": null,
            "max_height": null,
            "max_width": null,
            "min_height": null,
            "min_width": null,
            "object_fit": null,
            "object_position": null,
            "order": null,
            "overflow": null,
            "overflow_x": null,
            "overflow_y": null,
            "padding": null,
            "right": null,
            "top": null,
            "visibility": null,
            "width": null
          }
        },
        "8e7927dd89a94111bc43a9e9f14e1ebe": {
          "model_module": "@jupyter-widgets/base",
          "model_name": "LayoutModel",
          "model_module_version": "1.2.0",
          "state": {
            "_model_module": "@jupyter-widgets/base",
            "_model_module_version": "1.2.0",
            "_model_name": "LayoutModel",
            "_view_count": null,
            "_view_module": "@jupyter-widgets/base",
            "_view_module_version": "1.2.0",
            "_view_name": "LayoutView",
            "align_content": null,
            "align_items": null,
            "align_self": null,
            "border": null,
            "bottom": null,
            "display": null,
            "flex": null,
            "flex_flow": null,
            "grid_area": null,
            "grid_auto_columns": null,
            "grid_auto_flow": null,
            "grid_auto_rows": null,
            "grid_column": null,
            "grid_gap": null,
            "grid_row": null,
            "grid_template_areas": null,
            "grid_template_columns": null,
            "grid_template_rows": null,
            "height": null,
            "justify_content": null,
            "justify_items": null,
            "left": null,
            "margin": null,
            "max_height": null,
            "max_width": null,
            "min_height": null,
            "min_width": null,
            "object_fit": null,
            "object_position": null,
            "order": null,
            "overflow": null,
            "overflow_x": null,
            "overflow_y": null,
            "padding": null,
            "right": null,
            "top": null,
            "visibility": null,
            "width": null
          }
        },
        "d30bd7e2e4874069a7c5304ab4e79ab6": {
          "model_module": "@jupyter-widgets/controls",
          "model_name": "DescriptionStyleModel",
          "model_module_version": "1.5.0",
          "state": {
            "_model_module": "@jupyter-widgets/controls",
            "_model_module_version": "1.5.0",
            "_model_name": "DescriptionStyleModel",
            "_view_count": null,
            "_view_module": "@jupyter-widgets/base",
            "_view_module_version": "1.2.0",
            "_view_name": "StyleView",
            "description_width": ""
          }
        },
        "64c6780fce5d430e98f6ea4f5abc8520": {
          "model_module": "@jupyter-widgets/base",
          "model_name": "LayoutModel",
          "model_module_version": "1.2.0",
          "state": {
            "_model_module": "@jupyter-widgets/base",
            "_model_module_version": "1.2.0",
            "_model_name": "LayoutModel",
            "_view_count": null,
            "_view_module": "@jupyter-widgets/base",
            "_view_module_version": "1.2.0",
            "_view_name": "LayoutView",
            "align_content": null,
            "align_items": null,
            "align_self": null,
            "border": null,
            "bottom": null,
            "display": null,
            "flex": null,
            "flex_flow": null,
            "grid_area": null,
            "grid_auto_columns": null,
            "grid_auto_flow": null,
            "grid_auto_rows": null,
            "grid_column": null,
            "grid_gap": null,
            "grid_row": null,
            "grid_template_areas": null,
            "grid_template_columns": null,
            "grid_template_rows": null,
            "height": null,
            "justify_content": null,
            "justify_items": null,
            "left": null,
            "margin": null,
            "max_height": null,
            "max_width": null,
            "min_height": null,
            "min_width": null,
            "object_fit": null,
            "object_position": null,
            "order": null,
            "overflow": null,
            "overflow_x": null,
            "overflow_y": null,
            "padding": null,
            "right": null,
            "top": null,
            "visibility": null,
            "width": null
          }
        },
        "dfbd791e84a54bd3908c17ca9e9310a7": {
          "model_module": "@jupyter-widgets/controls",
          "model_name": "ProgressStyleModel",
          "model_module_version": "1.5.0",
          "state": {
            "_model_module": "@jupyter-widgets/controls",
            "_model_module_version": "1.5.0",
            "_model_name": "ProgressStyleModel",
            "_view_count": null,
            "_view_module": "@jupyter-widgets/base",
            "_view_module_version": "1.2.0",
            "_view_name": "StyleView",
            "bar_color": null,
            "description_width": ""
          }
        },
        "6393e337cd6745bf87725ce55b7ecf80": {
          "model_module": "@jupyter-widgets/base",
          "model_name": "LayoutModel",
          "model_module_version": "1.2.0",
          "state": {
            "_model_module": "@jupyter-widgets/base",
            "_model_module_version": "1.2.0",
            "_model_name": "LayoutModel",
            "_view_count": null,
            "_view_module": "@jupyter-widgets/base",
            "_view_module_version": "1.2.0",
            "_view_name": "LayoutView",
            "align_content": null,
            "align_items": null,
            "align_self": null,
            "border": null,
            "bottom": null,
            "display": null,
            "flex": null,
            "flex_flow": null,
            "grid_area": null,
            "grid_auto_columns": null,
            "grid_auto_flow": null,
            "grid_auto_rows": null,
            "grid_column": null,
            "grid_gap": null,
            "grid_row": null,
            "grid_template_areas": null,
            "grid_template_columns": null,
            "grid_template_rows": null,
            "height": null,
            "justify_content": null,
            "justify_items": null,
            "left": null,
            "margin": null,
            "max_height": null,
            "max_width": null,
            "min_height": null,
            "min_width": null,
            "object_fit": null,
            "object_position": null,
            "order": null,
            "overflow": null,
            "overflow_x": null,
            "overflow_y": null,
            "padding": null,
            "right": null,
            "top": null,
            "visibility": null,
            "width": null
          }
        },
        "f93f26b463fb4922ac983c72c035ae68": {
          "model_module": "@jupyter-widgets/controls",
          "model_name": "DescriptionStyleModel",
          "model_module_version": "1.5.0",
          "state": {
            "_model_module": "@jupyter-widgets/controls",
            "_model_module_version": "1.5.0",
            "_model_name": "DescriptionStyleModel",
            "_view_count": null,
            "_view_module": "@jupyter-widgets/base",
            "_view_module_version": "1.2.0",
            "_view_name": "StyleView",
            "description_width": ""
          }
        },
        "cc233cbf1eb941af8477cbdeaaa6fb99": {
          "model_module": "@jupyter-widgets/controls",
          "model_name": "HBoxModel",
          "model_module_version": "1.5.0",
          "state": {
            "_dom_classes": [],
            "_model_module": "@jupyter-widgets/controls",
            "_model_module_version": "1.5.0",
            "_model_name": "HBoxModel",
            "_view_count": null,
            "_view_module": "@jupyter-widgets/controls",
            "_view_module_version": "1.5.0",
            "_view_name": "HBoxView",
            "box_style": "",
            "children": [
              "IPY_MODEL_6dbdbd1b61924df8a500e1c611e1e8bc",
              "IPY_MODEL_c539f858e1d342e68f17941df8bc8031",
              "IPY_MODEL_c241742e4aac439d897111e74f1bf0db"
            ],
            "layout": "IPY_MODEL_86fb77b3218243ab848db4edb1b5b4f1"
          }
        },
        "6dbdbd1b61924df8a500e1c611e1e8bc": {
          "model_module": "@jupyter-widgets/controls",
          "model_name": "HTMLModel",
          "model_module_version": "1.5.0",
          "state": {
            "_dom_classes": [],
            "_model_module": "@jupyter-widgets/controls",
            "_model_module_version": "1.5.0",
            "_model_name": "HTMLModel",
            "_view_count": null,
            "_view_module": "@jupyter-widgets/controls",
            "_view_module_version": "1.5.0",
            "_view_name": "HTMLView",
            "description": "",
            "description_tooltip": null,
            "layout": "IPY_MODEL_e2eeeb15567549ecb9c3c1b5365246ab",
            "placeholder": "​",
            "style": "IPY_MODEL_e2377a5ae7db4fc6ac4bec553bccb3c4",
            "value": "Generating train split: "
          }
        },
        "c539f858e1d342e68f17941df8bc8031": {
          "model_module": "@jupyter-widgets/controls",
          "model_name": "FloatProgressModel",
          "model_module_version": "1.5.0",
          "state": {
            "_dom_classes": [],
            "_model_module": "@jupyter-widgets/controls",
            "_model_module_version": "1.5.0",
            "_model_name": "FloatProgressModel",
            "_view_count": null,
            "_view_module": "@jupyter-widgets/controls",
            "_view_module_version": "1.5.0",
            "_view_name": "ProgressView",
            "bar_style": "info",
            "description": "",
            "description_tooltip": null,
            "layout": "IPY_MODEL_67799664bbc94e288d6c62e65a675c5c",
            "max": 1,
            "min": 0,
            "orientation": "horizontal",
            "style": "IPY_MODEL_d05f8546235d4efb8e162d83078a0315",
            "value": 1
          }
        },
        "c241742e4aac439d897111e74f1bf0db": {
          "model_module": "@jupyter-widgets/controls",
          "model_name": "HTMLModel",
          "model_module_version": "1.5.0",
          "state": {
            "_dom_classes": [],
            "_model_module": "@jupyter-widgets/controls",
            "_model_module_version": "1.5.0",
            "_model_name": "HTMLModel",
            "_view_count": null,
            "_view_module": "@jupyter-widgets/controls",
            "_view_module_version": "1.5.0",
            "_view_name": "HTMLView",
            "description": "",
            "description_tooltip": null,
            "layout": "IPY_MODEL_6594088df3e4426584bff227b39875c6",
            "placeholder": "​",
            "style": "IPY_MODEL_0c8f16a99ec24671ba0b1fce7b8ded99",
            "value": " 419/0 [00:00&lt;00:00, 2406.18 examples/s]"
          }
        },
        "86fb77b3218243ab848db4edb1b5b4f1": {
          "model_module": "@jupyter-widgets/base",
          "model_name": "LayoutModel",
          "model_module_version": "1.2.0",
          "state": {
            "_model_module": "@jupyter-widgets/base",
            "_model_module_version": "1.2.0",
            "_model_name": "LayoutModel",
            "_view_count": null,
            "_view_module": "@jupyter-widgets/base",
            "_view_module_version": "1.2.0",
            "_view_name": "LayoutView",
            "align_content": null,
            "align_items": null,
            "align_self": null,
            "border": null,
            "bottom": null,
            "display": null,
            "flex": null,
            "flex_flow": null,
            "grid_area": null,
            "grid_auto_columns": null,
            "grid_auto_flow": null,
            "grid_auto_rows": null,
            "grid_column": null,
            "grid_gap": null,
            "grid_row": null,
            "grid_template_areas": null,
            "grid_template_columns": null,
            "grid_template_rows": null,
            "height": null,
            "justify_content": null,
            "justify_items": null,
            "left": null,
            "margin": null,
            "max_height": null,
            "max_width": null,
            "min_height": null,
            "min_width": null,
            "object_fit": null,
            "object_position": null,
            "order": null,
            "overflow": null,
            "overflow_x": null,
            "overflow_y": null,
            "padding": null,
            "right": null,
            "top": null,
            "visibility": "hidden",
            "width": null
          }
        },
        "e2eeeb15567549ecb9c3c1b5365246ab": {
          "model_module": "@jupyter-widgets/base",
          "model_name": "LayoutModel",
          "model_module_version": "1.2.0",
          "state": {
            "_model_module": "@jupyter-widgets/base",
            "_model_module_version": "1.2.0",
            "_model_name": "LayoutModel",
            "_view_count": null,
            "_view_module": "@jupyter-widgets/base",
            "_view_module_version": "1.2.0",
            "_view_name": "LayoutView",
            "align_content": null,
            "align_items": null,
            "align_self": null,
            "border": null,
            "bottom": null,
            "display": null,
            "flex": null,
            "flex_flow": null,
            "grid_area": null,
            "grid_auto_columns": null,
            "grid_auto_flow": null,
            "grid_auto_rows": null,
            "grid_column": null,
            "grid_gap": null,
            "grid_row": null,
            "grid_template_areas": null,
            "grid_template_columns": null,
            "grid_template_rows": null,
            "height": null,
            "justify_content": null,
            "justify_items": null,
            "left": null,
            "margin": null,
            "max_height": null,
            "max_width": null,
            "min_height": null,
            "min_width": null,
            "object_fit": null,
            "object_position": null,
            "order": null,
            "overflow": null,
            "overflow_x": null,
            "overflow_y": null,
            "padding": null,
            "right": null,
            "top": null,
            "visibility": null,
            "width": null
          }
        },
        "e2377a5ae7db4fc6ac4bec553bccb3c4": {
          "model_module": "@jupyter-widgets/controls",
          "model_name": "DescriptionStyleModel",
          "model_module_version": "1.5.0",
          "state": {
            "_model_module": "@jupyter-widgets/controls",
            "_model_module_version": "1.5.0",
            "_model_name": "DescriptionStyleModel",
            "_view_count": null,
            "_view_module": "@jupyter-widgets/base",
            "_view_module_version": "1.2.0",
            "_view_name": "StyleView",
            "description_width": ""
          }
        },
        "67799664bbc94e288d6c62e65a675c5c": {
          "model_module": "@jupyter-widgets/base",
          "model_name": "LayoutModel",
          "model_module_version": "1.2.0",
          "state": {
            "_model_module": "@jupyter-widgets/base",
            "_model_module_version": "1.2.0",
            "_model_name": "LayoutModel",
            "_view_count": null,
            "_view_module": "@jupyter-widgets/base",
            "_view_module_version": "1.2.0",
            "_view_name": "LayoutView",
            "align_content": null,
            "align_items": null,
            "align_self": null,
            "border": null,
            "bottom": null,
            "display": null,
            "flex": null,
            "flex_flow": null,
            "grid_area": null,
            "grid_auto_columns": null,
            "grid_auto_flow": null,
            "grid_auto_rows": null,
            "grid_column": null,
            "grid_gap": null,
            "grid_row": null,
            "grid_template_areas": null,
            "grid_template_columns": null,
            "grid_template_rows": null,
            "height": null,
            "justify_content": null,
            "justify_items": null,
            "left": null,
            "margin": null,
            "max_height": null,
            "max_width": null,
            "min_height": null,
            "min_width": null,
            "object_fit": null,
            "object_position": null,
            "order": null,
            "overflow": null,
            "overflow_x": null,
            "overflow_y": null,
            "padding": null,
            "right": null,
            "top": null,
            "visibility": null,
            "width": "20px"
          }
        },
        "d05f8546235d4efb8e162d83078a0315": {
          "model_module": "@jupyter-widgets/controls",
          "model_name": "ProgressStyleModel",
          "model_module_version": "1.5.0",
          "state": {
            "_model_module": "@jupyter-widgets/controls",
            "_model_module_version": "1.5.0",
            "_model_name": "ProgressStyleModel",
            "_view_count": null,
            "_view_module": "@jupyter-widgets/base",
            "_view_module_version": "1.2.0",
            "_view_name": "StyleView",
            "bar_color": null,
            "description_width": ""
          }
        },
        "6594088df3e4426584bff227b39875c6": {
          "model_module": "@jupyter-widgets/base",
          "model_name": "LayoutModel",
          "model_module_version": "1.2.0",
          "state": {
            "_model_module": "@jupyter-widgets/base",
            "_model_module_version": "1.2.0",
            "_model_name": "LayoutModel",
            "_view_count": null,
            "_view_module": "@jupyter-widgets/base",
            "_view_module_version": "1.2.0",
            "_view_name": "LayoutView",
            "align_content": null,
            "align_items": null,
            "align_self": null,
            "border": null,
            "bottom": null,
            "display": null,
            "flex": null,
            "flex_flow": null,
            "grid_area": null,
            "grid_auto_columns": null,
            "grid_auto_flow": null,
            "grid_auto_rows": null,
            "grid_column": null,
            "grid_gap": null,
            "grid_row": null,
            "grid_template_areas": null,
            "grid_template_columns": null,
            "grid_template_rows": null,
            "height": null,
            "justify_content": null,
            "justify_items": null,
            "left": null,
            "margin": null,
            "max_height": null,
            "max_width": null,
            "min_height": null,
            "min_width": null,
            "object_fit": null,
            "object_position": null,
            "order": null,
            "overflow": null,
            "overflow_x": null,
            "overflow_y": null,
            "padding": null,
            "right": null,
            "top": null,
            "visibility": null,
            "width": null
          }
        },
        "0c8f16a99ec24671ba0b1fce7b8ded99": {
          "model_module": "@jupyter-widgets/controls",
          "model_name": "DescriptionStyleModel",
          "model_module_version": "1.5.0",
          "state": {
            "_model_module": "@jupyter-widgets/controls",
            "_model_module_version": "1.5.0",
            "_model_name": "DescriptionStyleModel",
            "_view_count": null,
            "_view_module": "@jupyter-widgets/base",
            "_view_module_version": "1.2.0",
            "_view_name": "StyleView",
            "description_width": ""
          }
        },
        "2ece6643e8dc48029f476a7a2ff8ffc4": {
          "model_module": "@jupyter-widgets/controls",
          "model_name": "HBoxModel",
          "model_module_version": "1.5.0",
          "state": {
            "_dom_classes": [],
            "_model_module": "@jupyter-widgets/controls",
            "_model_module_version": "1.5.0",
            "_model_name": "HBoxModel",
            "_view_count": null,
            "_view_module": "@jupyter-widgets/controls",
            "_view_module_version": "1.5.0",
            "_view_name": "HBoxView",
            "box_style": "",
            "children": [
              "IPY_MODEL_0e5ee18505eb4a0fae6872714a6aac5d",
              "IPY_MODEL_d2e70e03827b4611b5856d5eca40cb79",
              "IPY_MODEL_3d725bcc49464f3badf3431512838c79"
            ],
            "layout": "IPY_MODEL_c60fe4b7c9d04f6eab115638a01fbda8"
          }
        },
        "0e5ee18505eb4a0fae6872714a6aac5d": {
          "model_module": "@jupyter-widgets/controls",
          "model_name": "HTMLModel",
          "model_module_version": "1.5.0",
          "state": {
            "_dom_classes": [],
            "_model_module": "@jupyter-widgets/controls",
            "_model_module_version": "1.5.0",
            "_model_name": "HTMLModel",
            "_view_count": null,
            "_view_module": "@jupyter-widgets/controls",
            "_view_module_version": "1.5.0",
            "_view_name": "HTMLView",
            "description": "",
            "description_tooltip": null,
            "layout": "IPY_MODEL_b43b60d594a44cbd9bf515c123d817da",
            "placeholder": "​",
            "style": "IPY_MODEL_7c9876d5b89845ab8ff56c9f9c3cd813",
            "value": "100%"
          }
        },
        "d2e70e03827b4611b5856d5eca40cb79": {
          "model_module": "@jupyter-widgets/controls",
          "model_name": "FloatProgressModel",
          "model_module_version": "1.5.0",
          "state": {
            "_dom_classes": [],
            "_model_module": "@jupyter-widgets/controls",
            "_model_module_version": "1.5.0",
            "_model_name": "FloatProgressModel",
            "_view_count": null,
            "_view_module": "@jupyter-widgets/controls",
            "_view_module_version": "1.5.0",
            "_view_name": "ProgressView",
            "bar_style": "success",
            "description": "",
            "description_tooltip": null,
            "layout": "IPY_MODEL_9f3e7b50bdac4c26a6ad0f4d02e7d1d7",
            "max": 1,
            "min": 0,
            "orientation": "horizontal",
            "style": "IPY_MODEL_2eed3ea268634b5cba86a85a482036c2",
            "value": 1
          }
        },
        "3d725bcc49464f3badf3431512838c79": {
          "model_module": "@jupyter-widgets/controls",
          "model_name": "HTMLModel",
          "model_module_version": "1.5.0",
          "state": {
            "_dom_classes": [],
            "_model_module": "@jupyter-widgets/controls",
            "_model_module_version": "1.5.0",
            "_model_name": "HTMLModel",
            "_view_count": null,
            "_view_module": "@jupyter-widgets/controls",
            "_view_module_version": "1.5.0",
            "_view_name": "HTMLView",
            "description": "",
            "description_tooltip": null,
            "layout": "IPY_MODEL_3b3ed074d752440a829027eafec1ffa6",
            "placeholder": "​",
            "style": "IPY_MODEL_1d39c0e96c8b4a9dbf05c5188cdd5ec7",
            "value": " 1/1 [00:00&lt;00:00, 16.68it/s]"
          }
        },
        "c60fe4b7c9d04f6eab115638a01fbda8": {
          "model_module": "@jupyter-widgets/base",
          "model_name": "LayoutModel",
          "model_module_version": "1.2.0",
          "state": {
            "_model_module": "@jupyter-widgets/base",
            "_model_module_version": "1.2.0",
            "_model_name": "LayoutModel",
            "_view_count": null,
            "_view_module": "@jupyter-widgets/base",
            "_view_module_version": "1.2.0",
            "_view_name": "LayoutView",
            "align_content": null,
            "align_items": null,
            "align_self": null,
            "border": null,
            "bottom": null,
            "display": null,
            "flex": null,
            "flex_flow": null,
            "grid_area": null,
            "grid_auto_columns": null,
            "grid_auto_flow": null,
            "grid_auto_rows": null,
            "grid_column": null,
            "grid_gap": null,
            "grid_row": null,
            "grid_template_areas": null,
            "grid_template_columns": null,
            "grid_template_rows": null,
            "height": null,
            "justify_content": null,
            "justify_items": null,
            "left": null,
            "margin": null,
            "max_height": null,
            "max_width": null,
            "min_height": null,
            "min_width": null,
            "object_fit": null,
            "object_position": null,
            "order": null,
            "overflow": null,
            "overflow_x": null,
            "overflow_y": null,
            "padding": null,
            "right": null,
            "top": null,
            "visibility": null,
            "width": null
          }
        },
        "b43b60d594a44cbd9bf515c123d817da": {
          "model_module": "@jupyter-widgets/base",
          "model_name": "LayoutModel",
          "model_module_version": "1.2.0",
          "state": {
            "_model_module": "@jupyter-widgets/base",
            "_model_module_version": "1.2.0",
            "_model_name": "LayoutModel",
            "_view_count": null,
            "_view_module": "@jupyter-widgets/base",
            "_view_module_version": "1.2.0",
            "_view_name": "LayoutView",
            "align_content": null,
            "align_items": null,
            "align_self": null,
            "border": null,
            "bottom": null,
            "display": null,
            "flex": null,
            "flex_flow": null,
            "grid_area": null,
            "grid_auto_columns": null,
            "grid_auto_flow": null,
            "grid_auto_rows": null,
            "grid_column": null,
            "grid_gap": null,
            "grid_row": null,
            "grid_template_areas": null,
            "grid_template_columns": null,
            "grid_template_rows": null,
            "height": null,
            "justify_content": null,
            "justify_items": null,
            "left": null,
            "margin": null,
            "max_height": null,
            "max_width": null,
            "min_height": null,
            "min_width": null,
            "object_fit": null,
            "object_position": null,
            "order": null,
            "overflow": null,
            "overflow_x": null,
            "overflow_y": null,
            "padding": null,
            "right": null,
            "top": null,
            "visibility": null,
            "width": null
          }
        },
        "7c9876d5b89845ab8ff56c9f9c3cd813": {
          "model_module": "@jupyter-widgets/controls",
          "model_name": "DescriptionStyleModel",
          "model_module_version": "1.5.0",
          "state": {
            "_model_module": "@jupyter-widgets/controls",
            "_model_module_version": "1.5.0",
            "_model_name": "DescriptionStyleModel",
            "_view_count": null,
            "_view_module": "@jupyter-widgets/base",
            "_view_module_version": "1.2.0",
            "_view_name": "StyleView",
            "description_width": ""
          }
        },
        "9f3e7b50bdac4c26a6ad0f4d02e7d1d7": {
          "model_module": "@jupyter-widgets/base",
          "model_name": "LayoutModel",
          "model_module_version": "1.2.0",
          "state": {
            "_model_module": "@jupyter-widgets/base",
            "_model_module_version": "1.2.0",
            "_model_name": "LayoutModel",
            "_view_count": null,
            "_view_module": "@jupyter-widgets/base",
            "_view_module_version": "1.2.0",
            "_view_name": "LayoutView",
            "align_content": null,
            "align_items": null,
            "align_self": null,
            "border": null,
            "bottom": null,
            "display": null,
            "flex": null,
            "flex_flow": null,
            "grid_area": null,
            "grid_auto_columns": null,
            "grid_auto_flow": null,
            "grid_auto_rows": null,
            "grid_column": null,
            "grid_gap": null,
            "grid_row": null,
            "grid_template_areas": null,
            "grid_template_columns": null,
            "grid_template_rows": null,
            "height": null,
            "justify_content": null,
            "justify_items": null,
            "left": null,
            "margin": null,
            "max_height": null,
            "max_width": null,
            "min_height": null,
            "min_width": null,
            "object_fit": null,
            "object_position": null,
            "order": null,
            "overflow": null,
            "overflow_x": null,
            "overflow_y": null,
            "padding": null,
            "right": null,
            "top": null,
            "visibility": null,
            "width": null
          }
        },
        "2eed3ea268634b5cba86a85a482036c2": {
          "model_module": "@jupyter-widgets/controls",
          "model_name": "ProgressStyleModel",
          "model_module_version": "1.5.0",
          "state": {
            "_model_module": "@jupyter-widgets/controls",
            "_model_module_version": "1.5.0",
            "_model_name": "ProgressStyleModel",
            "_view_count": null,
            "_view_module": "@jupyter-widgets/base",
            "_view_module_version": "1.2.0",
            "_view_name": "StyleView",
            "bar_color": null,
            "description_width": ""
          }
        },
        "3b3ed074d752440a829027eafec1ffa6": {
          "model_module": "@jupyter-widgets/base",
          "model_name": "LayoutModel",
          "model_module_version": "1.2.0",
          "state": {
            "_model_module": "@jupyter-widgets/base",
            "_model_module_version": "1.2.0",
            "_model_name": "LayoutModel",
            "_view_count": null,
            "_view_module": "@jupyter-widgets/base",
            "_view_module_version": "1.2.0",
            "_view_name": "LayoutView",
            "align_content": null,
            "align_items": null,
            "align_self": null,
            "border": null,
            "bottom": null,
            "display": null,
            "flex": null,
            "flex_flow": null,
            "grid_area": null,
            "grid_auto_columns": null,
            "grid_auto_flow": null,
            "grid_auto_rows": null,
            "grid_column": null,
            "grid_gap": null,
            "grid_row": null,
            "grid_template_areas": null,
            "grid_template_columns": null,
            "grid_template_rows": null,
            "height": null,
            "justify_content": null,
            "justify_items": null,
            "left": null,
            "margin": null,
            "max_height": null,
            "max_width": null,
            "min_height": null,
            "min_width": null,
            "object_fit": null,
            "object_position": null,
            "order": null,
            "overflow": null,
            "overflow_x": null,
            "overflow_y": null,
            "padding": null,
            "right": null,
            "top": null,
            "visibility": null,
            "width": null
          }
        },
        "1d39c0e96c8b4a9dbf05c5188cdd5ec7": {
          "model_module": "@jupyter-widgets/controls",
          "model_name": "DescriptionStyleModel",
          "model_module_version": "1.5.0",
          "state": {
            "_model_module": "@jupyter-widgets/controls",
            "_model_module_version": "1.5.0",
            "_model_name": "DescriptionStyleModel",
            "_view_count": null,
            "_view_module": "@jupyter-widgets/base",
            "_view_module_version": "1.2.0",
            "_view_name": "StyleView",
            "description_width": ""
          }
        },
        "9974bff339af49018eb22cbf09cf8e3d": {
          "model_module": "@jupyter-widgets/controls",
          "model_name": "HBoxModel",
          "model_module_version": "1.5.0",
          "state": {
            "_dom_classes": [],
            "_model_module": "@jupyter-widgets/controls",
            "_model_module_version": "1.5.0",
            "_model_name": "HBoxModel",
            "_view_count": null,
            "_view_module": "@jupyter-widgets/controls",
            "_view_module_version": "1.5.0",
            "_view_name": "HBoxView",
            "box_style": "",
            "children": [
              "IPY_MODEL_680c6096a18b49d48c280daff4f22fa9",
              "IPY_MODEL_63d0307b69f34fbb8239bafe82ffb8f7",
              "IPY_MODEL_fe8f21468a1e4b878530e8353cfface5"
            ],
            "layout": "IPY_MODEL_d4629cd390cb443597969a1a39b1aee6"
          }
        },
        "680c6096a18b49d48c280daff4f22fa9": {
          "model_module": "@jupyter-widgets/controls",
          "model_name": "HTMLModel",
          "model_module_version": "1.5.0",
          "state": {
            "_dom_classes": [],
            "_model_module": "@jupyter-widgets/controls",
            "_model_module_version": "1.5.0",
            "_model_name": "HTMLModel",
            "_view_count": null,
            "_view_module": "@jupyter-widgets/controls",
            "_view_module_version": "1.5.0",
            "_view_name": "HTMLView",
            "description": "",
            "description_tooltip": null,
            "layout": "IPY_MODEL_a717b6412d5d466a99d36e89504be975",
            "placeholder": "​",
            "style": "IPY_MODEL_e910e91cf6b94a24b6e7fb4c2392ba37",
            "value": "Map:  91%"
          }
        },
        "63d0307b69f34fbb8239bafe82ffb8f7": {
          "model_module": "@jupyter-widgets/controls",
          "model_name": "FloatProgressModel",
          "model_module_version": "1.5.0",
          "state": {
            "_dom_classes": [],
            "_model_module": "@jupyter-widgets/controls",
            "_model_module_version": "1.5.0",
            "_model_name": "FloatProgressModel",
            "_view_count": null,
            "_view_module": "@jupyter-widgets/controls",
            "_view_module_version": "1.5.0",
            "_view_name": "ProgressView",
            "bar_style": "",
            "description": "",
            "description_tooltip": null,
            "layout": "IPY_MODEL_5dea5bfe174a48d0994ea38286ff22e8",
            "max": 419,
            "min": 0,
            "orientation": "horizontal",
            "style": "IPY_MODEL_d9ae8b7edb224dff9d98ce3b5d60e5c3",
            "value": 419
          }
        },
        "fe8f21468a1e4b878530e8353cfface5": {
          "model_module": "@jupyter-widgets/controls",
          "model_name": "HTMLModel",
          "model_module_version": "1.5.0",
          "state": {
            "_dom_classes": [],
            "_model_module": "@jupyter-widgets/controls",
            "_model_module_version": "1.5.0",
            "_model_name": "HTMLModel",
            "_view_count": null,
            "_view_module": "@jupyter-widgets/controls",
            "_view_module_version": "1.5.0",
            "_view_name": "HTMLView",
            "description": "",
            "description_tooltip": null,
            "layout": "IPY_MODEL_488854ac75774260bfdb9f3c04d85e89",
            "placeholder": "​",
            "style": "IPY_MODEL_c231756b16b648f886d66ed88cd567bb",
            "value": " 383/419 [00:00&lt;00:00, 3047.67 examples/s]"
          }
        },
        "d4629cd390cb443597969a1a39b1aee6": {
          "model_module": "@jupyter-widgets/base",
          "model_name": "LayoutModel",
          "model_module_version": "1.2.0",
          "state": {
            "_model_module": "@jupyter-widgets/base",
            "_model_module_version": "1.2.0",
            "_model_name": "LayoutModel",
            "_view_count": null,
            "_view_module": "@jupyter-widgets/base",
            "_view_module_version": "1.2.0",
            "_view_name": "LayoutView",
            "align_content": null,
            "align_items": null,
            "align_self": null,
            "border": null,
            "bottom": null,
            "display": null,
            "flex": null,
            "flex_flow": null,
            "grid_area": null,
            "grid_auto_columns": null,
            "grid_auto_flow": null,
            "grid_auto_rows": null,
            "grid_column": null,
            "grid_gap": null,
            "grid_row": null,
            "grid_template_areas": null,
            "grid_template_columns": null,
            "grid_template_rows": null,
            "height": null,
            "justify_content": null,
            "justify_items": null,
            "left": null,
            "margin": null,
            "max_height": null,
            "max_width": null,
            "min_height": null,
            "min_width": null,
            "object_fit": null,
            "object_position": null,
            "order": null,
            "overflow": null,
            "overflow_x": null,
            "overflow_y": null,
            "padding": null,
            "right": null,
            "top": null,
            "visibility": "hidden",
            "width": null
          }
        },
        "a717b6412d5d466a99d36e89504be975": {
          "model_module": "@jupyter-widgets/base",
          "model_name": "LayoutModel",
          "model_module_version": "1.2.0",
          "state": {
            "_model_module": "@jupyter-widgets/base",
            "_model_module_version": "1.2.0",
            "_model_name": "LayoutModel",
            "_view_count": null,
            "_view_module": "@jupyter-widgets/base",
            "_view_module_version": "1.2.0",
            "_view_name": "LayoutView",
            "align_content": null,
            "align_items": null,
            "align_self": null,
            "border": null,
            "bottom": null,
            "display": null,
            "flex": null,
            "flex_flow": null,
            "grid_area": null,
            "grid_auto_columns": null,
            "grid_auto_flow": null,
            "grid_auto_rows": null,
            "grid_column": null,
            "grid_gap": null,
            "grid_row": null,
            "grid_template_areas": null,
            "grid_template_columns": null,
            "grid_template_rows": null,
            "height": null,
            "justify_content": null,
            "justify_items": null,
            "left": null,
            "margin": null,
            "max_height": null,
            "max_width": null,
            "min_height": null,
            "min_width": null,
            "object_fit": null,
            "object_position": null,
            "order": null,
            "overflow": null,
            "overflow_x": null,
            "overflow_y": null,
            "padding": null,
            "right": null,
            "top": null,
            "visibility": null,
            "width": null
          }
        },
        "e910e91cf6b94a24b6e7fb4c2392ba37": {
          "model_module": "@jupyter-widgets/controls",
          "model_name": "DescriptionStyleModel",
          "model_module_version": "1.5.0",
          "state": {
            "_model_module": "@jupyter-widgets/controls",
            "_model_module_version": "1.5.0",
            "_model_name": "DescriptionStyleModel",
            "_view_count": null,
            "_view_module": "@jupyter-widgets/base",
            "_view_module_version": "1.2.0",
            "_view_name": "StyleView",
            "description_width": ""
          }
        },
        "5dea5bfe174a48d0994ea38286ff22e8": {
          "model_module": "@jupyter-widgets/base",
          "model_name": "LayoutModel",
          "model_module_version": "1.2.0",
          "state": {
            "_model_module": "@jupyter-widgets/base",
            "_model_module_version": "1.2.0",
            "_model_name": "LayoutModel",
            "_view_count": null,
            "_view_module": "@jupyter-widgets/base",
            "_view_module_version": "1.2.0",
            "_view_name": "LayoutView",
            "align_content": null,
            "align_items": null,
            "align_self": null,
            "border": null,
            "bottom": null,
            "display": null,
            "flex": null,
            "flex_flow": null,
            "grid_area": null,
            "grid_auto_columns": null,
            "grid_auto_flow": null,
            "grid_auto_rows": null,
            "grid_column": null,
            "grid_gap": null,
            "grid_row": null,
            "grid_template_areas": null,
            "grid_template_columns": null,
            "grid_template_rows": null,
            "height": null,
            "justify_content": null,
            "justify_items": null,
            "left": null,
            "margin": null,
            "max_height": null,
            "max_width": null,
            "min_height": null,
            "min_width": null,
            "object_fit": null,
            "object_position": null,
            "order": null,
            "overflow": null,
            "overflow_x": null,
            "overflow_y": null,
            "padding": null,
            "right": null,
            "top": null,
            "visibility": null,
            "width": null
          }
        },
        "d9ae8b7edb224dff9d98ce3b5d60e5c3": {
          "model_module": "@jupyter-widgets/controls",
          "model_name": "ProgressStyleModel",
          "model_module_version": "1.5.0",
          "state": {
            "_model_module": "@jupyter-widgets/controls",
            "_model_module_version": "1.5.0",
            "_model_name": "ProgressStyleModel",
            "_view_count": null,
            "_view_module": "@jupyter-widgets/base",
            "_view_module_version": "1.2.0",
            "_view_name": "StyleView",
            "bar_color": null,
            "description_width": ""
          }
        },
        "488854ac75774260bfdb9f3c04d85e89": {
          "model_module": "@jupyter-widgets/base",
          "model_name": "LayoutModel",
          "model_module_version": "1.2.0",
          "state": {
            "_model_module": "@jupyter-widgets/base",
            "_model_module_version": "1.2.0",
            "_model_name": "LayoutModel",
            "_view_count": null,
            "_view_module": "@jupyter-widgets/base",
            "_view_module_version": "1.2.0",
            "_view_name": "LayoutView",
            "align_content": null,
            "align_items": null,
            "align_self": null,
            "border": null,
            "bottom": null,
            "display": null,
            "flex": null,
            "flex_flow": null,
            "grid_area": null,
            "grid_auto_columns": null,
            "grid_auto_flow": null,
            "grid_auto_rows": null,
            "grid_column": null,
            "grid_gap": null,
            "grid_row": null,
            "grid_template_areas": null,
            "grid_template_columns": null,
            "grid_template_rows": null,
            "height": null,
            "justify_content": null,
            "justify_items": null,
            "left": null,
            "margin": null,
            "max_height": null,
            "max_width": null,
            "min_height": null,
            "min_width": null,
            "object_fit": null,
            "object_position": null,
            "order": null,
            "overflow": null,
            "overflow_x": null,
            "overflow_y": null,
            "padding": null,
            "right": null,
            "top": null,
            "visibility": null,
            "width": null
          }
        },
        "c231756b16b648f886d66ed88cd567bb": {
          "model_module": "@jupyter-widgets/controls",
          "model_name": "DescriptionStyleModel",
          "model_module_version": "1.5.0",
          "state": {
            "_model_module": "@jupyter-widgets/controls",
            "_model_module_version": "1.5.0",
            "_model_name": "DescriptionStyleModel",
            "_view_count": null,
            "_view_module": "@jupyter-widgets/base",
            "_view_module_version": "1.2.0",
            "_view_name": "StyleView",
            "description_width": ""
          }
        },
        "69360b0ae4044fabbd1aae0ea7ab0b5c": {
          "model_module": "@jupyter-widgets/controls",
          "model_name": "HBoxModel",
          "model_module_version": "1.5.0",
          "state": {
            "_dom_classes": [],
            "_model_module": "@jupyter-widgets/controls",
            "_model_module_version": "1.5.0",
            "_model_name": "HBoxModel",
            "_view_count": null,
            "_view_module": "@jupyter-widgets/controls",
            "_view_module_version": "1.5.0",
            "_view_name": "HBoxView",
            "box_style": "",
            "children": [
              "IPY_MODEL_f244d4852ac142e8acb0f82f4e446983",
              "IPY_MODEL_d8bff83c8bbd4a3b877724431e17a8e3",
              "IPY_MODEL_dec1411aff3d47e787380523b48db621"
            ],
            "layout": "IPY_MODEL_9d0d45139d90476192a009b9d6d4701b"
          }
        },
        "f244d4852ac142e8acb0f82f4e446983": {
          "model_module": "@jupyter-widgets/controls",
          "model_name": "HTMLModel",
          "model_module_version": "1.5.0",
          "state": {
            "_dom_classes": [],
            "_model_module": "@jupyter-widgets/controls",
            "_model_module_version": "1.5.0",
            "_model_name": "HTMLModel",
            "_view_count": null,
            "_view_module": "@jupyter-widgets/controls",
            "_view_module_version": "1.5.0",
            "_view_name": "HTMLView",
            "description": "",
            "description_tooltip": null,
            "layout": "IPY_MODEL_bd79763ec58a4971b3cfd73f496e1228",
            "placeholder": "​",
            "style": "IPY_MODEL_1c1f63060a0f4d50936e48f952a40ca4",
            "value": "Map:   0%"
          }
        },
        "d8bff83c8bbd4a3b877724431e17a8e3": {
          "model_module": "@jupyter-widgets/controls",
          "model_name": "FloatProgressModel",
          "model_module_version": "1.5.0",
          "state": {
            "_dom_classes": [],
            "_model_module": "@jupyter-widgets/controls",
            "_model_module_version": "1.5.0",
            "_model_name": "FloatProgressModel",
            "_view_count": null,
            "_view_module": "@jupyter-widgets/controls",
            "_view_module_version": "1.5.0",
            "_view_name": "ProgressView",
            "bar_style": "",
            "description": "",
            "description_tooltip": null,
            "layout": "IPY_MODEL_2b7708fe0e0d44b8b3ba5cb14c21b080",
            "max": 419,
            "min": 0,
            "orientation": "horizontal",
            "style": "IPY_MODEL_108cd4a3c7fc47c9810a9df0fd8c4dcf",
            "value": 419
          }
        },
        "dec1411aff3d47e787380523b48db621": {
          "model_module": "@jupyter-widgets/controls",
          "model_name": "HTMLModel",
          "model_module_version": "1.5.0",
          "state": {
            "_dom_classes": [],
            "_model_module": "@jupyter-widgets/controls",
            "_model_module_version": "1.5.0",
            "_model_name": "HTMLModel",
            "_view_count": null,
            "_view_module": "@jupyter-widgets/controls",
            "_view_module_version": "1.5.0",
            "_view_name": "HTMLView",
            "description": "",
            "description_tooltip": null,
            "layout": "IPY_MODEL_93bcf3c959fb45539876109a9301025f",
            "placeholder": "​",
            "style": "IPY_MODEL_c057b401ba934c88b2e8843e7f1468af",
            "value": " 0/419 [00:00&lt;?, ? examples/s]"
          }
        },
        "9d0d45139d90476192a009b9d6d4701b": {
          "model_module": "@jupyter-widgets/base",
          "model_name": "LayoutModel",
          "model_module_version": "1.2.0",
          "state": {
            "_model_module": "@jupyter-widgets/base",
            "_model_module_version": "1.2.0",
            "_model_name": "LayoutModel",
            "_view_count": null,
            "_view_module": "@jupyter-widgets/base",
            "_view_module_version": "1.2.0",
            "_view_name": "LayoutView",
            "align_content": null,
            "align_items": null,
            "align_self": null,
            "border": null,
            "bottom": null,
            "display": null,
            "flex": null,
            "flex_flow": null,
            "grid_area": null,
            "grid_auto_columns": null,
            "grid_auto_flow": null,
            "grid_auto_rows": null,
            "grid_column": null,
            "grid_gap": null,
            "grid_row": null,
            "grid_template_areas": null,
            "grid_template_columns": null,
            "grid_template_rows": null,
            "height": null,
            "justify_content": null,
            "justify_items": null,
            "left": null,
            "margin": null,
            "max_height": null,
            "max_width": null,
            "min_height": null,
            "min_width": null,
            "object_fit": null,
            "object_position": null,
            "order": null,
            "overflow": null,
            "overflow_x": null,
            "overflow_y": null,
            "padding": null,
            "right": null,
            "top": null,
            "visibility": "hidden",
            "width": null
          }
        },
        "bd79763ec58a4971b3cfd73f496e1228": {
          "model_module": "@jupyter-widgets/base",
          "model_name": "LayoutModel",
          "model_module_version": "1.2.0",
          "state": {
            "_model_module": "@jupyter-widgets/base",
            "_model_module_version": "1.2.0",
            "_model_name": "LayoutModel",
            "_view_count": null,
            "_view_module": "@jupyter-widgets/base",
            "_view_module_version": "1.2.0",
            "_view_name": "LayoutView",
            "align_content": null,
            "align_items": null,
            "align_self": null,
            "border": null,
            "bottom": null,
            "display": null,
            "flex": null,
            "flex_flow": null,
            "grid_area": null,
            "grid_auto_columns": null,
            "grid_auto_flow": null,
            "grid_auto_rows": null,
            "grid_column": null,
            "grid_gap": null,
            "grid_row": null,
            "grid_template_areas": null,
            "grid_template_columns": null,
            "grid_template_rows": null,
            "height": null,
            "justify_content": null,
            "justify_items": null,
            "left": null,
            "margin": null,
            "max_height": null,
            "max_width": null,
            "min_height": null,
            "min_width": null,
            "object_fit": null,
            "object_position": null,
            "order": null,
            "overflow": null,
            "overflow_x": null,
            "overflow_y": null,
            "padding": null,
            "right": null,
            "top": null,
            "visibility": null,
            "width": null
          }
        },
        "1c1f63060a0f4d50936e48f952a40ca4": {
          "model_module": "@jupyter-widgets/controls",
          "model_name": "DescriptionStyleModel",
          "model_module_version": "1.5.0",
          "state": {
            "_model_module": "@jupyter-widgets/controls",
            "_model_module_version": "1.5.0",
            "_model_name": "DescriptionStyleModel",
            "_view_count": null,
            "_view_module": "@jupyter-widgets/base",
            "_view_module_version": "1.2.0",
            "_view_name": "StyleView",
            "description_width": ""
          }
        },
        "2b7708fe0e0d44b8b3ba5cb14c21b080": {
          "model_module": "@jupyter-widgets/base",
          "model_name": "LayoutModel",
          "model_module_version": "1.2.0",
          "state": {
            "_model_module": "@jupyter-widgets/base",
            "_model_module_version": "1.2.0",
            "_model_name": "LayoutModel",
            "_view_count": null,
            "_view_module": "@jupyter-widgets/base",
            "_view_module_version": "1.2.0",
            "_view_name": "LayoutView",
            "align_content": null,
            "align_items": null,
            "align_self": null,
            "border": null,
            "bottom": null,
            "display": null,
            "flex": null,
            "flex_flow": null,
            "grid_area": null,
            "grid_auto_columns": null,
            "grid_auto_flow": null,
            "grid_auto_rows": null,
            "grid_column": null,
            "grid_gap": null,
            "grid_row": null,
            "grid_template_areas": null,
            "grid_template_columns": null,
            "grid_template_rows": null,
            "height": null,
            "justify_content": null,
            "justify_items": null,
            "left": null,
            "margin": null,
            "max_height": null,
            "max_width": null,
            "min_height": null,
            "min_width": null,
            "object_fit": null,
            "object_position": null,
            "order": null,
            "overflow": null,
            "overflow_x": null,
            "overflow_y": null,
            "padding": null,
            "right": null,
            "top": null,
            "visibility": null,
            "width": null
          }
        },
        "108cd4a3c7fc47c9810a9df0fd8c4dcf": {
          "model_module": "@jupyter-widgets/controls",
          "model_name": "ProgressStyleModel",
          "model_module_version": "1.5.0",
          "state": {
            "_model_module": "@jupyter-widgets/controls",
            "_model_module_version": "1.5.0",
            "_model_name": "ProgressStyleModel",
            "_view_count": null,
            "_view_module": "@jupyter-widgets/base",
            "_view_module_version": "1.2.0",
            "_view_name": "StyleView",
            "bar_color": null,
            "description_width": ""
          }
        },
        "93bcf3c959fb45539876109a9301025f": {
          "model_module": "@jupyter-widgets/base",
          "model_name": "LayoutModel",
          "model_module_version": "1.2.0",
          "state": {
            "_model_module": "@jupyter-widgets/base",
            "_model_module_version": "1.2.0",
            "_model_name": "LayoutModel",
            "_view_count": null,
            "_view_module": "@jupyter-widgets/base",
            "_view_module_version": "1.2.0",
            "_view_name": "LayoutView",
            "align_content": null,
            "align_items": null,
            "align_self": null,
            "border": null,
            "bottom": null,
            "display": null,
            "flex": null,
            "flex_flow": null,
            "grid_area": null,
            "grid_auto_columns": null,
            "grid_auto_flow": null,
            "grid_auto_rows": null,
            "grid_column": null,
            "grid_gap": null,
            "grid_row": null,
            "grid_template_areas": null,
            "grid_template_columns": null,
            "grid_template_rows": null,
            "height": null,
            "justify_content": null,
            "justify_items": null,
            "left": null,
            "margin": null,
            "max_height": null,
            "max_width": null,
            "min_height": null,
            "min_width": null,
            "object_fit": null,
            "object_position": null,
            "order": null,
            "overflow": null,
            "overflow_x": null,
            "overflow_y": null,
            "padding": null,
            "right": null,
            "top": null,
            "visibility": null,
            "width": null
          }
        },
        "c057b401ba934c88b2e8843e7f1468af": {
          "model_module": "@jupyter-widgets/controls",
          "model_name": "DescriptionStyleModel",
          "model_module_version": "1.5.0",
          "state": {
            "_model_module": "@jupyter-widgets/controls",
            "_model_module_version": "1.5.0",
            "_model_name": "DescriptionStyleModel",
            "_view_count": null,
            "_view_module": "@jupyter-widgets/base",
            "_view_module_version": "1.2.0",
            "_view_name": "StyleView",
            "description_width": ""
          }
        }
      }
    }
  },
  "cells": [
    {
      "cell_type": "markdown",
      "metadata": {
        "id": "view-in-github",
        "colab_type": "text"
      },
      "source": [
        "<a href=\"https://colab.research.google.com/github/kwaldenphd/poemBot/blob/master/allison_parrish.ipynb\" target=\"_parent\"><img src=\"https://colab.research.google.com/assets/colab-badge.svg\" alt=\"Open In Colab\"/></a>"
      ]
    },
    {
      "cell_type": "markdown",
      "source": [
        "# Setup & Environment\n",
        "\n"
      ],
      "metadata": {
        "id": "p4w-qpXW-Ap9"
      }
    },
    {
      "cell_type": "markdown",
      "source": [
        "## Install"
      ],
      "metadata": {
        "id": "wqw_WSXJKE9w"
      }
    },
    {
      "cell_type": "code",
      "source": [
        "!pip install pronouncing # https://pronouncing.readthedocs.io/en/latest/\n",
        "!pip install markovify # https://pypi.org/project/markovify/\n",
        "!pip install numpy # https://pypi.org/project/numpy/\n",
        "! pip install scipy # https://pypi.org/project/scipy/"
      ],
      "metadata": {
        "id": "4N2i1prnKGva"
      },
      "execution_count": null,
      "outputs": []
    },
    {
      "cell_type": "markdown",
      "source": [
        "Dependency issues with `tensorflow` & `keras` for `Pincelate` (https://pincelate.readthedocs.io/en/latest/)"
      ],
      "metadata": {
        "id": "lBaubaUevnY5"
      }
    },
    {
      "cell_type": "code",
      "source": [
        "# !pip install tensorflow==1.15.0 # https://pypi.org/project/tensorflow/\n",
        "# !pip install keras==2.2.5 \"h5py<3.0.0\" # https://pypi.org/project/keras/\n",
        "# !pip install pincelate # https://pypi.org/project/pincelate/"
      ],
      "metadata": {
        "id": "HMGc8annvg9O"
      },
      "execution_count": null,
      "outputs": []
    },
    {
      "cell_type": "markdown",
      "source": [
        "## Import"
      ],
      "metadata": {
        "id": "FCgmwPZeKFr5"
      }
    },
    {
      "cell_type": "code",
      "execution_count": null,
      "metadata": {
        "id": "Y8QXX6xV99ky"
      },
      "outputs": [],
      "source": [
        "# import stuff\n",
        "import sys, pandas as pd, numpy as np, json, random, re, gzip, textwrap\n",
        "from collections import Counter, defaultdict\n",
        "import markovify, codecs, random\n",
        "# from pincelate import Pincelate"
      ]
    },
    {
      "cell_type": "markdown",
      "source": [
        "# All The Allison Parrish Things"
      ],
      "metadata": {
        "id": "cG7XfDvALqe5"
      }
    },
    {
      "cell_type": "markdown",
      "source": [
        "## Overview"
      ],
      "metadata": {
        "id": "FBbML32uLr0_"
      }
    },
    {
      "cell_type": "markdown",
      "source": [
        "### Project Gutenberg\n",
        "- [Gutenberg, dammit](https://github.com/aparrish/gutenberg-dammit/) (full corpus)\n",
        "- [Gutenberg corpus](https://github.com/aparrish/gutenberg-poetry-corpus) (poetry corpus)\n",
        "  - [\"Quick Experiments\" Jupyter Notebook](https://github.com/aparrish/gutenberg-poetry-corpus/blob/master/quick-experiments.ipynb)\n",
        "  - [\"Plot to Poem\" 2017 NoPaGenMo Jupyter Notebook](https://github.com/aparrish/plot-to-poem/blob/master/plot-to-poem.ipynb)\n",
        "- [Gutenberg Poetry Autocomplete](http://gutenberg-poetry.decontextualize.com/)"
      ],
      "metadata": {
        "id": "YcULD92pLsxK"
      }
    },
    {
      "cell_type": "markdown",
      "source": [
        "### `pronouncing`, *interface for CMU Pronouncing Dictionary*\n",
        "- [documentation](https://pronouncing.readthedocs.io/en/latest/index.html)\n",
        "- [Updated Jupyter Notebook cookbook](https://github.com/aparrish/nonsense-verse-pycon-2020/blob/master/pronouncing-tutorial.ipynb)"
      ],
      "metadata": {
        "id": "3E3xx1eULx_T"
      }
    },
    {
      "cell_type": "markdown",
      "source": [
        "### `Pincelate`, *ML model for spelling & sounding out English words*\n",
        "- [documentation](https://pincelate.readthedocs.io/en/latest/)\n",
        "- [Jupyter Notebook tutorial and cookbook](https://github.com/aparrish/nonsense-verse-pycon-2020/blob/master/pincelate-tutorial-and-cookbook.ipynb)\n",
        "- [PyCon 2020 workshop](https://github.com/aparrish/nonsense-verse-pycon-2020)\n",
        "- [Bobey Dig 2019 NaNoGenMo notebook](https://github.com/aparrish/bobey-dig/blob/master/headcoldify.ipynb)\n",
        "  * NOTE: `Tensorflow` & `Keras` dependencies require Python <3.8 (so no option to run on Google Colab- requires local session)"
      ],
      "metadata": {
        "id": "VMpFLoXML33F"
      }
    },
    {
      "cell_type": "markdown",
      "source": [
        "### Magic & divinatory language\n",
        "- [Workshop materials](https://github.com/aparrish/comexmadivla)\n",
        "- [Speculative magic words Jupyter Notebook (string manipulation, `Pincelate`)](https://github.com/aparrish/comexmadivla/blob/master/magic-words-workbook.ipynb)\n",
        "- [Cartomancy and semantic space Jupyter Notebook](https://github.com/aparrish/comexmadivla/blob/master/cartomancy-semantic-space.ipynb)"
      ],
      "metadata": {
        "id": "i6Hl8lsYL7hX"
      }
    },
    {
      "cell_type": "markdown",
      "source": [
        "### `Tracery` *Python tracery port*\n",
        "- [documentation](https://github.com/aparrish/pytracery)\n",
        "- [original Tracery, Kate Compton](http://tracery.io/)\n",
        "- [Tracery tutorial](http://www.crystalcodepalace.com/traceryTut.html)"
      ],
      "metadata": {
        "id": "igoXzoGkMCwR"
      }
    },
    {
      "cell_type": "markdown",
      "source": [
        "### \"Reading and Writing With Electronic Text\" NYU ITP course, Spring 2023\n",
        "- [Class notebooks and code, GitHub](https://github.com/aparrish/rwet)\n",
        "- [Class website](https://rwet.decontextualize.com/)\n",
        "- Jupyter Notebooks\n",
        "  - \"[Natural Language Processing Concepts With Spacy](https://github.com/aparrish/rwet/blob/master/nlp-concepts-with-spacy.ipynb)\"\n",
        "  - \"[Playing With Transformers](https://github.com/aparrish/rwet/blob/master/transformers-playground.ipynb)\""
      ],
      "metadata": {
        "id": "xDoM7l57MGMw"
      }
    },
    {
      "cell_type": "markdown",
      "source": [
        "### `pycorpora` *Python interface for Darius Kazemi's [Corpora Project](https://github.com/dariusk/corpora)*\n",
        "- [GitHub](https://github.com/aparrish/pycorpora)\n",
        "- [Original Darius Kazemi's Corpora Project](https://github.com/dariusk/corpora)\n",
        "  * *Seems deprecated and doesn't work based on current documentation*"
      ],
      "metadata": {
        "id": "94lLnZrjMJWz"
      }
    },
    {
      "cell_type": "markdown",
      "source": [
        "## Shallow Dives"
      ],
      "metadata": {
        "id": "7ObQUFD4Moga"
      }
    },
    {
      "cell_type": "markdown",
      "source": [
        "### Project Gutenberg Poetry Corpus\n",
        "\n",
        "- [GitHub](https://github.com/aparrish/gutenberg-poetry-corpus)\n",
        "- [Jupyter Notebook](https://github.com/aparrish/gutenberg-poetry-corpus/blob/master/quick-experiments.ipynb)"
      ],
      "metadata": {
        "id": "XfGL2zEnMuDv"
      }
    },
    {
      "cell_type": "markdown",
      "source": [
        "#### Build & Load"
      ],
      "metadata": {
        "id": "_8sYPIA9_3Kq"
      }
    },
    {
      "cell_type": "code",
      "source": [
        "# build\n",
        "!curl -O http://static.decontextualize.com/gutenberg-poetry-v001.ndjson.gz"
      ],
      "metadata": {
        "id": "mX89neQWAy4h"
      },
      "execution_count": null,
      "outputs": []
    },
    {
      "cell_type": "code",
      "source": [
        "# load data\n",
        "# import gzip, json\n",
        "all_lines = []\n",
        "for line in gzip.open(\"gutenberg-poetry-v001.ndjson.gz\"):\n",
        "    all_lines.append(json.loads(line.strip()))"
      ],
      "metadata": {
        "id": "jBQWjqfwA81k"
      },
      "execution_count": null,
      "outputs": []
    },
    {
      "cell_type": "code",
      "source": [
        "# show random sample\n",
        "# import random\n",
        "random.sample(all_lines, 8)"
      ],
      "metadata": {
        "id": "vWoz1gRBA_eu"
      },
      "execution_count": null,
      "outputs": []
    },
    {
      "cell_type": "markdown",
      "source": [
        "#### Concordances & Counts"
      ],
      "metadata": {
        "id": "xwI1Gz4xPGgt"
      }
    },
    {
      "cell_type": "code",
      "source": [
        "# create concordance for \"flower\"\n",
        "# import re\n",
        "flower_lines = [line['s'] for line in all_lines if re.search(r'\\bflower\\b', line['s'], re.I)]\n",
        "random.sample(flower_lines, 8)"
      ],
      "metadata": {
        "id": "0xRjrVyaBDEl"
      },
      "execution_count": null,
      "outputs": []
    },
    {
      "cell_type": "code",
      "source": [
        "# longest lines, align on \"flower\"\n",
        "longest = max([len(x) for x in flower_lines]) # find the length of the longest line\n",
        "center = longest - len(\"flower\") # and use it to create a \"center\" offset that will work for all lines\n",
        "\n",
        "sorted_flower_lines = sorted(\n",
        "    [line for line in flower_lines if re.search(r\"\\bflower\\b\\s\\w\", line)], # only lines with word following\n",
        "    key=lambda line: line[re.search(r\"\\bflower\\b\\s\", line).end():]) # sort on the substring following the match\n",
        "\n",
        "for line in sorted_flower_lines[350:400]: # change these numbers to see a different slice\n",
        "    offset = center - re.search(r'\\bflower\\b', line, re.I).start()\n",
        "    print((\" \"*offset)+line) # left-pad the string with spaces to align on \"flower\""
      ],
      "metadata": {
        "id": "irjlRgZpBOek"
      },
      "execution_count": null,
      "outputs": []
    },
    {
      "cell_type": "code",
      "source": [
        "# adjective concordance \n",
        "found_adj = []\n",
        "for line in flower_lines:\n",
        "    matches = re.findall(r\"(the|a)\\s(\\b\\w+\\b)\\s(\\bflower\\b)\", line, re.I)\n",
        "    for match in matches: \n",
        "        found_adj.append(match[1])\n",
        "random.sample(found_adj, 12)"
      ],
      "metadata": {
        "id": "8bN_WElNBSU1"
      },
      "execution_count": null,
      "outputs": []
    },
    {
      "cell_type": "code",
      "source": [
        "# counting most common adjectives\n",
        "# from collections import Counter\n",
        "Counter(found_adj).most_common(12)"
      ],
      "metadata": {
        "id": "1STS0lc-BWjr"
      },
      "execution_count": null,
      "outputs": []
    },
    {
      "cell_type": "markdown",
      "source": [
        "#### Rhymes & Phones"
      ],
      "metadata": {
        "id": "zG02TqC6PJa4"
      }
    },
    {
      "cell_type": "code",
      "source": [
        "# rhymes\n",
        "# import pronouncing as pr\n",
        "source_word = \"flowering\"\n",
        "source_word_rhymes = pr.rhymes(source_word)\n",
        "for line in all_lines:\n",
        "    text = line['s']\n",
        "    match = re.search(r'(\\b\\w+\\b)\\W*$', text)\n",
        "    if match:\n",
        "        last_word = match.group()\n",
        "        if last_word in source_word_rhymes:\n",
        "            print(text)"
      ],
      "metadata": {
        "id": "luApJpcJBb7u"
      },
      "execution_count": null,
      "outputs": []
    },
    {
      "cell_type": "code",
      "source": [
        "# create list of phones\n",
        "phones = pr.phones_for_word(source_word)[0] # words may have multiple pronunciations, so this returns a list\n",
        "pr.rhyming_part(phones)"
      ],
      "metadata": {
        "id": "FUkhpUHIBm9c"
      },
      "execution_count": null,
      "outputs": []
    },
    {
      "cell_type": "code",
      "source": [
        "# random rhymes\n",
        "# from collections import defaultdict\n",
        "by_rhyming_part = defaultdict(lambda: defaultdict(list))\n",
        "for line in all_lines:\n",
        "    text = line['s']\n",
        "    if not(32 < len(text) < 48): # only use lines of uniform lengths\n",
        "        continue\n",
        "    match = re.search(r'(\\b\\w+\\b)\\W*$', text)\n",
        "    if match:\n",
        "        last_word = match.group()\n",
        "        pronunciations = pr.phones_for_word(last_word)\n",
        "        if len(pronunciations) > 0:\n",
        "            rhyming_part = pr.rhyming_part(pronunciations[0])\n",
        "            # group by rhyming phones (for rhymes) and words (to avoid duplicate words)\n",
        "            by_rhyming_part[rhyming_part][last_word.lower()].append(text)\n",
        "\n",
        "random_rhyming_part = random.choice(list(by_rhyming_part.keys()))\n",
        "random_rhyming_part, by_rhyming_part[random_rhyming_part]"
      ],
      "metadata": {
        "id": "F1lY1wpwBtRA"
      },
      "execution_count": null,
      "outputs": []
    },
    {
      "cell_type": "code",
      "source": [
        "# rhyming groups\n",
        "rhyme_groups = [group for group in by_rhyming_part.values() if len(group) >= 2]\n",
        "for i in range(7):\n",
        "    group = random.choice(rhyme_groups)\n",
        "    words = random.sample(list(group.keys()), 2)\n",
        "    print(random.choice(group[words[0]]))\n",
        "    print(random.choice(group[words[1]]))"
      ],
      "metadata": {
        "id": "Z8-jpuRFB1x0"
      },
      "execution_count": null,
      "outputs": []
    },
    {
      "cell_type": "markdown",
      "source": [
        "#### Markov Text Chains"
      ],
      "metadata": {
        "id": "k3tXneyaDwts"
      }
    },
    {
      "cell_type": "code",
      "source": [
        "# markov text chains\n",
        "# import markovify\n",
        "big_poem = \"\\n\".join([line['s'] for line in random.sample(all_lines, 250000)])\n",
        "model = markovify.NewlineText(big_poem)\n",
        "for i in range(14):\n",
        "    print(model.make_sentence())"
      ],
      "metadata": {
        "id": "8NHKv7PiD1J9"
      },
      "execution_count": null,
      "outputs": []
    },
    {
      "cell_type": "code",
      "source": [
        "# another sentence\n",
        "model.make_short_sentence(60)"
      ],
      "metadata": {
        "id": "nhCoyyHmD-Ma"
      },
      "execution_count": null,
      "outputs": []
    },
    {
      "cell_type": "code",
      "source": [
        "# randomly-generated poem\n",
        "for i in range(6):\n",
        "    print()\n",
        "    for i in range(random.randrange(1, 5)):\n",
        "        print(model.make_short_sentence(40))\n",
        "    # ensure last line has a period at the end, for closure\n",
        "    print(re.sub(r\"(\\w)[^\\w.]?$\", r\"\\1.\", model.make_short_sentence(40)))\n",
        "    print()\n",
        "    print(\"～ ❀ ～\")"
      ],
      "metadata": {
        "id": "JPlMjfYRD_30"
      },
      "execution_count": null,
      "outputs": []
    },
    {
      "cell_type": "markdown",
      "source": [
        "### Magic Words\n",
        "\n",
        "\"Words have power that arises not just from their meaning but from their material. Some words, those \"somewhere between the 'legible' and 'illegible,' between the 'spirit world' and the 'human world',\" as scholar James Robson writes, \"express or illustrate ineffable meanings and powers that defy... traditional modalities of communication.\" Some words, that is, are magic. In this workshop, we will use techniques in computational text analysis and text generation to better understand how magic words work, and coin new magic words of our own. In the first part of the session, we consider magic words as islands in a largely unexplored infinite space of potential linguistic expression—a space that can be explored computationally in order to uncover new magic words with new affordances. In the second part of the session, we consider systems of divination (in particular, Tarot) as ad-hoc ontologies for dividing the world into comprehensible categories. We then analyze the \"semantic space\" of these divinatory ontologies, and endeavor to create new divinatory systems with new ontologies that reflect our own worldviews. Technologies covered include cryptography, phoneme-to-grapheme models, generative adversarial networks, text clustering, predictive language models and variational autoencoders. No previous programming experience required.\" ([GitHub](https://github.com/aparrish/comexmadivla), SFPC Code Societies, 2020)\n",
        "\n",
        "Original Jupyter Notebooks\n",
        "- [Speculative magic words (string manipulation, `Pincelate`)](https://github.com/aparrish/comexmadivla/blob/master/magic-words-workbook.ipynb)\n",
        "- [Cartomancy and semantic space](https://github.com/aparrish/comexmadivla/blob/master/cartomancy-semantic-space.ipynb)"
      ],
      "metadata": {
        "id": "OyjGHhrylaRp"
      }
    },
    {
      "cell_type": "code",
      "source": [
        "# get list of English nouns from Darius Kazemi's corpus project\n",
        "!curl -L -O https://raw.githubusercontent.com/dariusk/corpora/master/data/words/nouns.json"
      ],
      "metadata": {
        "id": "1hUWx_4Kl6Xt"
      },
      "execution_count": null,
      "outputs": []
    },
    {
      "cell_type": "code",
      "source": [
        "# import random, json\n",
        "nouns = [item.lower() for item in json.load(open(\"nouns.json\"))['nouns']]\n",
        "random.choice(nouns)"
      ],
      "metadata": {
        "id": "mEtU2a7pmCUE"
      },
      "execution_count": null,
      "outputs": []
    },
    {
      "cell_type": "markdown",
      "source": [
        "#### Concatenation"
      ],
      "metadata": {
        "id": "1ZSrv4P_uFd4"
      }
    },
    {
      "cell_type": "code",
      "source": [
        "# concatenation\n",
        "def smoosh(a, b):\n",
        "    return a[:int(len(a)/2)] + b[int(len(b)/2):]\n",
        "smoosh(random.choice(nouns), random.choice(nouns))"
      ],
      "metadata": {
        "id": "Qa6z7AMMmMPw"
      },
      "execution_count": null,
      "outputs": []
    },
    {
      "cell_type": "markdown",
      "source": [
        "#### Dislocation"
      ],
      "metadata": {
        "id": "WejrkvXYuHPW"
      }
    },
    {
      "cell_type": "code",
      "source": [
        "# dislocation\n",
        "def dislocate(s, prob=0.1):\n",
        "    out = \"\"\n",
        "    for ch in s:\n",
        "        if random.random() < prob:\n",
        "            out += \" \"\n",
        "        out += ch\n",
        "    return out\n",
        "dislocate(\"abracadabra\")"
      ],
      "metadata": {
        "colab": {
          "base_uri": "https://localhost:8080/",
          "height": 35
        },
        "id": "elvP-MmfmcUf",
        "outputId": "6b77660b-ed1c-45cb-99b2-e34cce87b74d"
      },
      "execution_count": null,
      "outputs": [
        {
          "output_type": "execute_result",
          "data": {
            "text/plain": [
              "'ab r acadabra'"
            ],
            "application/vnd.google.colaboratory.intrinsic+json": {
              "type": "string"
            }
          },
          "metadata": {},
          "execution_count": 107
        }
      ]
    },
    {
      "cell_type": "markdown",
      "source": [
        "#### Character Ciphers"
      ],
      "metadata": {
        "id": "H4Fjn-HOuIkh"
      }
    },
    {
      "cell_type": "code",
      "source": [
        "# character cipher\n",
        "def replace_by_char(s, ch_map):\n",
        "    out = \"\"\n",
        "    for ch in s:\n",
        "        if ch in ch_map:\n",
        "            out += ch_map[ch]\n",
        "        else:\n",
        "            out += ch\n",
        "    return out\n",
        "\n",
        "\n",
        "nextch_map = {\n",
        "    'a': 'b', 'b': 'c', 'c': 'd', 'd': 'e',\n",
        "    'e': 'f', 'f': 'g', 'g': 'h', 'h': 'i',\n",
        "    'i': 'j', 'j': 'k', 'k': 'l', 'l': 'm',\n",
        "    'm': 'n', 'n': 'o', 'o': 'p', 'p': 'q',\n",
        "    'q': 'r', 'r': 's', 's': 't', 't': 'u',\n",
        "    'u': 'v', 'v': 'w', 'w': 'x', 'x': 'y',\n",
        "    'y': 'z', 'z': 'a'\n",
        "}\n",
        "\n",
        "\n",
        "replace_by_char(\"here come the irish\", nextch_map)"
      ],
      "metadata": {
        "id": "nqCJcXrxm48Q"
      },
      "execution_count": null,
      "outputs": []
    },
    {
      "cell_type": "code",
      "source": [
        "# rot13 cipher\n",
        "# import codecs\n",
        "codecs.encode(\"here come the irish\", 'rot13')"
      ],
      "metadata": {
        "id": "rKsHjSo1nNwQ"
      },
      "execution_count": null,
      "outputs": []
    },
    {
      "cell_type": "markdown",
      "source": [
        "#### Mirror Writing"
      ],
      "metadata": {
        "id": "GAQtGBKLuK0w"
      }
    },
    {
      "cell_type": "code",
      "source": [
        "# mirror writing\n",
        "# from https://github.com/combatwombat/Lunicode.js/blob/master/lunicode.js\n",
        "mirror_replacements = {\n",
        "    'a': 'ɒ', 'b': 'd', 'c': 'ɔ', 'd': 'b', 'e': 'ɘ', \n",
        "    'f': 'Ꮈ', 'g': 'ǫ', 'h': 'ʜ', 'i': 'i', 'j': 'ꞁ',\n",
        "    'k': 'ʞ', 'l': 'l', 'm': 'm', 'n': 'ᴎ', 'o': 'o',\n",
        "    'p': 'q', 'q': 'p', 'r': 'ɿ', 's': 'ꙅ', 't': 'ƚ',\n",
        "    'u': 'u', 'v': 'v', 'w': 'w', 'x': 'x', 'y': 'ʏ', 'z': 'ƹ',\n",
        "    'A': 'A', 'B': 'ᙠ', 'C': 'Ɔ', 'D': 'ᗡ', 'E': 'Ǝ',\n",
        "    'F': 'ꟻ', 'G': 'Ꭾ', 'H': 'H', 'I': 'I', 'J': 'Ⴑ',\n",
        "    'K': '⋊', 'L': '⅃', 'M': 'M', 'N': 'Ͷ', 'O': 'O',\n",
        "    'P': 'ꟼ', 'Q': 'Ọ', 'R': 'Я', 'S': 'Ꙅ', 'T': 'T',\n",
        "    'U': 'U', 'V': 'V', 'W': 'W', 'X': 'X', 'Y': 'Y', 'Z': 'Ƹ'}\n",
        "text = \"in the beginning was the notebook\"\n",
        "print(text + \" \" + replace_by_char(text, mirror_replacements))"
      ],
      "metadata": {
        "id": "MvKWCummnV1r"
      },
      "execution_count": null,
      "outputs": []
    },
    {
      "cell_type": "markdown",
      "source": [
        "#### Handwriting"
      ],
      "metadata": {
        "id": "mbtuqeoFuMtK"
      }
    },
    {
      "cell_type": "code",
      "source": [
        "# handwriting errors\n",
        "# import re, random\n",
        "\n",
        "# suggested in Lecouteux, p. xxi\n",
        "replacements = {\n",
        "    'u': ['o', 'n'],\n",
        "    'st': ['h'],\n",
        "    'p': ['f'],\n",
        "    'ni': ['m'],\n",
        "    'rn': ['m'],\n",
        "    'in': ['m'],\n",
        "    'iu': ['m', 'in'],\n",
        "    'r': ['t', 'z', 'c'],\n",
        "    'l': ['t'],\n",
        "    'c': ['t'],\n",
        "    'd': ['ol']\n",
        "}\n",
        "\n",
        "\n",
        "text = \"in the beginning was the notebook\"\n",
        "out = text\n",
        "for patt, repl in replacements.items():\n",
        "    out = re.sub(patt,\n",
        "                 lambda m: random.choice(repl) if random.random() < 0.5 else m.group(),\n",
        "                 out)\n",
        "print(text)\n",
        "print(out)"
      ],
      "metadata": {
        "colab": {
          "base_uri": "https://localhost:8080/",
          "height": 236
        },
        "id": "5rNJyBf4nw7t",
        "outputId": "38aaac15-00f7-4e4c-9c92-fd43fb6bc0ca"
      },
      "execution_count": null,
      "outputs": [
        {
          "output_type": "error",
          "ename": "NameError",
          "evalue": "ignored",
          "traceback": [
            "\u001b[0;31m---------------------------------------------------------------------------\u001b[0m",
            "\u001b[0;31mNameError\u001b[0m                                 Traceback (most recent call last)",
            "\u001b[0;32m<ipython-input-108-c1c8ffb9db86>\u001b[0m in \u001b[0;36m<module>\u001b[0;34m\u001b[0m\n\u001b[1;32m     21\u001b[0m \u001b[0mout\u001b[0m \u001b[0;34m=\u001b[0m \u001b[0mtext\u001b[0m\u001b[0;34m\u001b[0m\u001b[0;34m\u001b[0m\u001b[0m\n\u001b[1;32m     22\u001b[0m \u001b[0;32mfor\u001b[0m \u001b[0mpatt\u001b[0m\u001b[0;34m,\u001b[0m \u001b[0mrepl\u001b[0m \u001b[0;32min\u001b[0m \u001b[0mreplacements\u001b[0m\u001b[0;34m.\u001b[0m\u001b[0mitems\u001b[0m\u001b[0;34m(\u001b[0m\u001b[0;34m)\u001b[0m\u001b[0;34m:\u001b[0m\u001b[0;34m\u001b[0m\u001b[0;34m\u001b[0m\u001b[0m\n\u001b[0;32m---> 23\u001b[0;31m     out = re.sub(patt,\n\u001b[0m\u001b[1;32m     24\u001b[0m                  \u001b[0;32mlambda\u001b[0m \u001b[0mm\u001b[0m\u001b[0;34m:\u001b[0m \u001b[0mrandom\u001b[0m\u001b[0;34m.\u001b[0m\u001b[0mchoice\u001b[0m\u001b[0;34m(\u001b[0m\u001b[0mrepl\u001b[0m\u001b[0;34m)\u001b[0m \u001b[0;32mif\u001b[0m \u001b[0mrandom\u001b[0m\u001b[0;34m.\u001b[0m\u001b[0mrandom\u001b[0m\u001b[0;34m(\u001b[0m\u001b[0;34m)\u001b[0m \u001b[0;34m<\u001b[0m \u001b[0;36m0.5\u001b[0m \u001b[0;32melse\u001b[0m \u001b[0mm\u001b[0m\u001b[0;34m.\u001b[0m\u001b[0mgroup\u001b[0m\u001b[0;34m(\u001b[0m\u001b[0;34m)\u001b[0m\u001b[0;34m,\u001b[0m\u001b[0;34m\u001b[0m\u001b[0;34m\u001b[0m\u001b[0m\n\u001b[1;32m     25\u001b[0m                  out)\n",
            "\u001b[0;31mNameError\u001b[0m: name 're' is not defined"
          ]
        }
      ]
    },
    {
      "cell_type": "markdown",
      "source": [
        "#### Abbreviations"
      ],
      "metadata": {
        "id": "k2crX63CuOTY"
      }
    },
    {
      "cell_type": "code",
      "source": [
        "# abbreviations\n",
        "def abbrev(s, take=1):\n",
        "    words = s.split()\n",
        "    return [w[:take] for w in words]\n",
        "abbrev(\"hello there how are you?\")"
      ],
      "metadata": {
        "id": "zgepIFowoCBr"
      },
      "execution_count": null,
      "outputs": []
    },
    {
      "cell_type": "code",
      "source": [
        "# another abbreviation function call\n",
        "abbrev(text, 2)"
      ],
      "metadata": {
        "id": "f9S2ORo0oGDn"
      },
      "execution_count": null,
      "outputs": []
    },
    {
      "cell_type": "code",
      "source": [
        "# abbrev function call\n",
        "print(''.join(abbrev(text, 2)))"
      ],
      "metadata": {
        "id": "SeULXHecoNw2"
      },
      "execution_count": null,
      "outputs": []
    },
    {
      "cell_type": "code",
      "source": [
        "# abbrev function call\n",
        "init_cap = [item.capitalize() for item in abbrev(text, 2)]\n",
        "print('. '.join(init_cap))"
      ],
      "metadata": {
        "id": "Yyn4SkvCoT7h"
      },
      "execution_count": null,
      "outputs": []
    },
    {
      "cell_type": "markdown",
      "source": [
        "#### Mandorlas "
      ],
      "metadata": {
        "id": "_olS3GOJuRGv"
      }
    },
    {
      "cell_type": "code",
      "source": [
        "# formatting\n",
        "def triangle(s):\n",
        "    out = []\n",
        "    for i in range(len(s)):\n",
        "        snippet = s[:i+1]\n",
        "        out.append(snippet)\n",
        "    return out\n",
        "print(\"\\n\".join(triangle(\"abracadabra\")))\n",
        "print(\"\\n\".join(reversed(triangle(\"abracadabra\"))))"
      ],
      "metadata": {
        "id": "yVMxBL64oXZQ"
      },
      "execution_count": null,
      "outputs": []
    },
    {
      "cell_type": "code",
      "source": [
        "# streamlied mandalora formatting\n",
        "def mandorla(s):\n",
        "    return triangle(s)[:-1] + list(reversed(triangle(s)))\n",
        "print(\"\\n\".join(mandorla(\"abracadabra\")))"
      ],
      "metadata": {
        "id": "QCedUb20olzL"
      },
      "execution_count": null,
      "outputs": []
    },
    {
      "cell_type": "code",
      "source": [
        "# for centering in a Jupyter Notebook\n",
        "from IPython.display import display, HTML\n",
        "html_src = \"<div style='text-align: center'>\"\n",
        "html_src += \"<br>\".join(mandorla(\"abracadabra\"))\n",
        "html_src += \"</div>\"\n",
        "display(HTML(html_src))"
      ],
      "metadata": {
        "id": "N0ZkJmx6ouvi"
      },
      "execution_count": null,
      "outputs": []
    },
    {
      "cell_type": "code",
      "source": [
        "# mandalora with mirror replacement\n",
        "html_src = \"<div style='text-align: center'>\"\n",
        "html_src += \"<br>\".join(mandorla(\"abracadabra\" + replace_by_char(\"abracadabra\", mirror_replacements)))\n",
        "html_src += \"</div>\"\n",
        "display(HTML(html_src))"
      ],
      "metadata": {
        "id": "uURiZuhMo3HV"
      },
      "execution_count": null,
      "outputs": []
    },
    {
      "cell_type": "markdown",
      "source": [
        "#### Word Squares"
      ],
      "metadata": {
        "id": "XatPDN3IuZny"
      }
    },
    {
      "cell_type": "code",
      "source": [
        "# word squares\n",
        "def gen_str(n, alphabet):\n",
        "    return ''.join([random.choice(alphabet) for i in range(n)])\n",
        "gen_str(5, alphabet=\"abcdefghijklmnopqrstuvwxyz\")"
      ],
      "metadata": {
        "id": "0b-DxgNEo7Td"
      },
      "execution_count": null,
      "outputs": []
    },
    {
      "cell_type": "code",
      "source": [
        "# second square function with random letters\n",
        "def gen_square(n, alphabet='abcdefghijklmnopqrstuvwxyz', start=None):\n",
        "    if start is None:\n",
        "        rows = [gen_str(n, alphabet)]\n",
        "    else:\n",
        "        assert len(start) == n\n",
        "        rows = [start]\n",
        "    for i in range(int(n/2)):\n",
        "        beg = \"\"\n",
        "        end = \"\"\n",
        "        for j in range(i+1):\n",
        "            beg += rows[j][i+1]\n",
        "            end += rows[j][-i-2]\n",
        "        row = beg + gen_str(n - ((i+1)*2), alphabet) + ''.join(reversed(end))\n",
        "        rows.append(row)\n",
        "    return rows + list(reversed([''.join(reversed(s)) for s in rows[:int(n/2)]]))\n",
        "print(\"\\n\".join(gen_square(5)))"
      ],
      "metadata": {
        "id": "S31J2rdPpDUc"
      },
      "execution_count": null,
      "outputs": []
    },
    {
      "cell_type": "code",
      "source": [
        "# alternate generative square function call\n",
        "print(\"\\n\".join(gen_square(5, alphabet=\"satorarepotenet\", start=\"sator\")))"
      ],
      "metadata": {
        "id": "AH4ZFGLapLkd"
      },
      "execution_count": null,
      "outputs": []
    },
    {
      "cell_type": "code",
      "source": [
        "# function call with emojis\n",
        "print()\n",
        "print(\"\\n\".join(gen_square(5, alphabet=\"😀😄😁😆😅😂🤣😊😙😗😘🥰😍😌😉🙃🙂😇😚😋😛😝😜🤨🧐🤓😎\")))"
      ],
      "metadata": {
        "id": "CDcHOALWpOlH"
      },
      "execution_count": null,
      "outputs": []
    },
    {
      "cell_type": "markdown",
      "source": [
        "#### Numerology"
      ],
      "metadata": {
        "id": "MZrsnqB4ucTI"
      }
    },
    {
      "cell_type": "code",
      "source": [
        "# numerology\n",
        "def letter_value(ch):\n",
        "    if not(ch.isalpha()):\n",
        "        return 0\n",
        "    return ord(ch.lower()) - 96\n",
        "letter_value('a')"
      ],
      "metadata": {
        "id": "5dr6sA0ppWsb"
      },
      "execution_count": null,
      "outputs": []
    },
    {
      "cell_type": "code",
      "source": [
        "# word sum\n",
        "def gematriesque(s):\n",
        "    return sum([letter_value(ch) for ch in s])\n",
        "gematriesque('notre dame')"
      ],
      "metadata": {
        "id": "znbMUuYdpbhc"
      },
      "execution_count": null,
      "outputs": []
    },
    {
      "cell_type": "code",
      "source": [
        "# look up words that match sum\n",
        "# from collections import defaultdict\n",
        "by_sum = defaultdict(list)\n",
        "word_to_sum = {}\n",
        "\n",
        "for item in nouns:\n",
        "    letter_sum = gematriesque(item)\n",
        "    word_to_sum[item] = letter_sum\n",
        "    by_sum[letter_sum].append(item)\n",
        "\n",
        "by_sum[72]"
      ],
      "metadata": {
        "id": "sutC3FpxpgQW"
      },
      "execution_count": null,
      "outputs": []
    },
    {
      "cell_type": "code",
      "source": [
        "# show words with same sum as input string\n",
        "print(\"\\n\".join(by_sum[gematriesque('notre dame')]))"
      ],
      "metadata": {
        "id": "k13ITWNxprqC"
      },
      "execution_count": null,
      "outputs": []
    },
    {
      "cell_type": "markdown",
      "source": [
        "### NLP & `Spacy`\n",
        "\n",
        "\"“Natural Language Processing” is a field at the intersection of computer science, linguistics and artificial intelligence which aims to make the underlying structure of language available to computer programs for analysis and manipulation. It’s a vast and vibrant field with a long history! New research and techniques are being developed constantly.\n",
        "\n",
        "\"The aim of this notebook is to introduce a few simple concepts and techniques from NLP—just the stuff that’ll help you do creative things quickly, and maybe open the door for you to understand more sophisticated NLP concepts that you might encounter elsewhere. We'll start with simple extraction tasks: isolating words, sentences, and parts of speech. By the end, we'll have a few working systems for creating sophisticated text generators that function by remixing texts based on their constituent linguistic units.\" \"Transformers is a Python library released by Hugging Face to make it easy to use pre-trained transformer language models. This notebook takes you through the basics of how to generate text with this library, and demonstrates a few simple techniques you can use to assert finer-grained control over the text generation procedure, like logit warping and fine-tuning.\" ([Jupyter Notebook](https://github.com/aparrish/rwet/blob/master/nlp-concepts-with-spacy.ipynb), Spring 2023 \"Reading and Writing Electronic Text\" NYU ITP course)"
      ],
      "metadata": {
        "id": "7dBU7NyJFQ8-"
      }
    },
    {
      "cell_type": "markdown",
      "source": [
        "#### Setup"
      ],
      "metadata": {
        "id": "HqMVQhLbGzqW"
      }
    },
    {
      "cell_type": "code",
      "source": [
        "# install\n",
        "import sys\n",
        "!{sys.executable} -m pip install spacy\n",
        "!{sys.executable} -m spacy download en_core_web_md"
      ],
      "metadata": {
        "id": "0S1Oc2PHG0wl"
      },
      "execution_count": null,
      "outputs": []
    },
    {
      "cell_type": "code",
      "source": [
        "# import\n",
        "import spacy\n",
        "nlp = spacy.load('en_core_web_md')"
      ],
      "metadata": {
        "id": "KseFFGb6HGQY"
      },
      "execution_count": null,
      "outputs": []
    },
    {
      "cell_type": "code",
      "source": [
        "# loading a sample txt file\n",
        "text = open(\"pg84.txt\").read()"
      ],
      "metadata": {
        "id": "jymbZFb9HNYQ"
      },
      "execution_count": null,
      "outputs": []
    },
    {
      "cell_type": "code",
      "source": [
        "# parse using spacy\n",
        "doc = nlp(text)\n",
        "sentences = list(doc.sents)\n",
        "words = [w for w in list(doc) if w.is_alpha]\n",
        "noun_chunks = list(doc.noun_chunks)\n",
        "entities = list(doc.ents)"
      ],
      "metadata": {
        "id": "Sq_yvgK8HZ63"
      },
      "execution_count": null,
      "outputs": []
    },
    {
      "cell_type": "markdown",
      "source": [
        "#### Counting & Sampling"
      ],
      "metadata": {
        "id": "Bi8NAk70HL1O"
      }
    },
    {
      "cell_type": "code",
      "source": [
        "# number of sentences\n",
        "len(sentences)"
      ],
      "metadata": {
        "colab": {
          "base_uri": "https://localhost:8080/"
        },
        "id": "M2CMCsDFHk7s",
        "outputId": "8e7d15ae-426d-4556-bf36-ce7c21e1abeb"
      },
      "execution_count": null,
      "outputs": [
        {
          "output_type": "execute_result",
          "data": {
            "text/plain": [
              "3327"
            ]
          },
          "metadata": {},
          "execution_count": 62
        }
      ]
    },
    {
      "cell_type": "code",
      "source": [
        "# random sample of sentences\n",
        "# import random\n",
        "for item in random.sample(sentences, 5):\n",
        "    print(item.text.strip().replace(\"\\n\", \" \"))\n",
        "    print()"
      ],
      "metadata": {
        "id": "EKmRcFK9HnKb"
      },
      "execution_count": null,
      "outputs": []
    },
    {
      "cell_type": "code",
      "source": [
        "# ten random words\n",
        "for item in random.sample(words, 10):\n",
        "    print(item.text)"
      ],
      "metadata": {
        "id": "_1mJmvaAHq8D"
      },
      "execution_count": null,
      "outputs": []
    },
    {
      "cell_type": "code",
      "source": [
        "# ten random noun chunks\n",
        "for item in random.sample(noun_chunks, 10):\n",
        "    print(item.text)"
      ],
      "metadata": {
        "colab": {
          "base_uri": "https://localhost:8080/"
        },
        "id": "ixITiqVGHrsC",
        "outputId": "d8cff4e1-8ed0-4070-d37d-e76113cf4cc2"
      },
      "execution_count": null,
      "outputs": [
        {
          "output_type": "stream",
          "name": "stdout",
          "text": [
            "my sweet Elizabeth\n",
            "indignation\n",
            "absolution\n",
            "the fishermen\n",
            "an instant\n",
            "Heaven\n",
            "the murderer\n",
            "the gloom\n",
            "promotion\n",
            "he\n"
          ]
        }
      ]
    },
    {
      "cell_type": "code",
      "source": [
        "# ten random entities\n",
        "for item in random.sample(entities, 10):\n",
        "    print(item.text)"
      ],
      "metadata": {
        "id": "lwSFLNNqHxNd"
      },
      "execution_count": null,
      "outputs": []
    },
    {
      "cell_type": "markdown",
      "source": [
        "#### Parts of Speech"
      ],
      "metadata": {
        "id": "f_qTiFGfH16s"
      }
    },
    {
      "cell_type": "code",
      "source": [
        "# sentences as strings\n",
        "sentence_strs = [item.text for item in doc.sents]\n",
        "random.sample(sentence_strs, 10)"
      ],
      "metadata": {
        "colab": {
          "base_uri": "https://localhost:8080/"
        },
        "id": "nWH4blX6H8oT",
        "outputId": "6a95ea5a-7e28-4e5d-942f-01766422f0fa"
      },
      "execution_count": null,
      "outputs": [
        {
          "output_type": "execute_result",
          "data": {
            "text/plain": [
              "['I hardly know whether I shall have the power to detail\\nit; yet the tale which I have recorded would be incomplete without this\\nfinal and wonderful catastrophe.',\n",
              " 'Section 2.',\n",
              " 'Entreating him, therefore, to remain a few minutes at the bottom of the\\nstairs, I darted up towards my own room.',\n",
              " 'Sometimes,\\nwhen nature, overcome by hunger, sank under the exhaustion, a repast\\nwas prepared for me in the desert that restored and inspirited me.',\n",
              " 'I found myself similar yet at the same time strangely\\nunlike to the beings concerning whom I read and to whose conversation I\\nwas a listener.',\n",
              " 'Sometimes I wished to express my sensations in my own mode, but the\\nuncouth and inarticulate sounds which broke from me frightened me into\\nsilence again.\\n\\n',\n",
              " 'Thus I might proclaim myself a madman,\\nbut not revoke the sentence passed upon my wretched victim.',\n",
              " '[Coleridge’s “Ancient Mariner.”',\n",
              " 'Is this to prognosticate peace, or to mock at my unhappiness?”\\n\\nI fear, my friend, that I shall render myself tedious by dwelling on\\nthese preliminary circumstances; but they were days of comparative\\nhappiness, and I think of them with pleasure.',\n",
              " '\\n\\nHis voice seemed suffocated, and my first impulses, which had suggested to\\nme the duty of obeying the dying request of my friend in destroying his\\nenemy, were now suspended by a mixture of curiosity and compassion.']"
            ]
          },
          "metadata": {},
          "execution_count": 67
        }
      ]
    },
    {
      "cell_type": "code",
      "source": [
        "# parts of speech\n",
        "nouns = [w for w in words if w.pos_ == \"NOUN\"]\n",
        "verbs = [w for w in words if w.pos_ == \"VERB\"]\n",
        "adjs = [w for w in words if w.pos_ == \"ADJ\"]\n",
        "advs = [w for w in words if w.pos_ == \"ADV\"]"
      ],
      "metadata": {
        "id": "cCLhSD6jIFg8"
      },
      "execution_count": null,
      "outputs": []
    },
    {
      "cell_type": "code",
      "source": [
        "# random sampling of nouns\n",
        "for item in random.sample(nouns, 20): # change \"nouns\" to \"verbs\" or \"adjs\" or \"advs\" to sample from those lists!\n",
        "    print(item.text)"
      ],
      "metadata": {
        "id": "tqhaEhNUIH8I"
      },
      "execution_count": null,
      "outputs": []
    },
    {
      "cell_type": "markdown",
      "source": [
        "#### Entities"
      ],
      "metadata": {
        "id": "7GWHFW2SIRTr"
      }
    },
    {
      "cell_type": "code",
      "source": [
        "# getting entities\n",
        "people = [e for e in entities if e.label_ == \"PERSON\"]\n",
        "locations = [e for e in entities if e.label_ == \"LOC\"]\n",
        "times = [e for e in entities if e.label_ == \"TIME\"]"
      ],
      "metadata": {
        "id": "WH1aL5YsIVRF"
      },
      "execution_count": null,
      "outputs": []
    },
    {
      "cell_type": "code",
      "source": [
        "# random sample with times\n",
        "for item in random.sample(times, 20): # change \"times\" to \"people\" or \"locations\" to sample those lists\n",
        "    print(item.text.strip())"
      ],
      "metadata": {
        "id": "TQ_H50hzIY46"
      },
      "execution_count": null,
      "outputs": []
    },
    {
      "cell_type": "markdown",
      "source": [
        "#### Frequency"
      ],
      "metadata": {
        "id": "G1tYeXRMIf3g"
      }
    },
    {
      "cell_type": "code",
      "source": [
        "# get term frequency\n",
        "# from collections import Counter\n",
        "word_count = Counter([w.text for w in words])"
      ],
      "metadata": {
        "id": "b20IC4k8Ig90"
      },
      "execution_count": null,
      "outputs": []
    },
    {
      "cell_type": "code",
      "source": [
        "# show single term\n",
        "word_count['heaven']"
      ],
      "metadata": {
        "colab": {
          "base_uri": "https://localhost:8080/"
        },
        "id": "G7AjwsluIka9",
        "outputId": "256f2908-49f4-42d8-bdba-2de0f208043c"
      },
      "execution_count": null,
      "outputs": [
        {
          "output_type": "execute_result",
          "data": {
            "text/plain": [
              "15"
            ]
          },
          "metadata": {},
          "execution_count": 75
        }
      ]
    },
    {
      "cell_type": "code",
      "source": [
        "# ten most common terms\n",
        "word_count.most_common(10)"
      ],
      "metadata": {
        "colab": {
          "base_uri": "https://localhost:8080/"
        },
        "id": "BOoKzuPSInda",
        "outputId": "9a749661-dcf3-46ba-b16d-14d09858a6ec"
      },
      "execution_count": null,
      "outputs": [
        {
          "output_type": "execute_result",
          "data": {
            "text/plain": [
              "[('the', 4080),\n",
              " ('and', 3003),\n",
              " ('I', 2847),\n",
              " ('of', 2750),\n",
              " ('to', 2157),\n",
              " ('my', 1635),\n",
              " ('a', 1402),\n",
              " ('in', 1138),\n",
              " ('was', 1020),\n",
              " ('that', 1018)]"
            ]
          },
          "metadata": {},
          "execution_count": 76
        }
      ]
    },
    {
      "cell_type": "code",
      "source": [
        "# twenty most common terms in a for loop\n",
        "for word, count in word_count.most_common(20):\n",
        "    print(word, count)"
      ],
      "metadata": {
        "colab": {
          "base_uri": "https://localhost:8080/"
        },
        "id": "RFOEElneIqOu",
        "outputId": "3a34b9ae-1ce1-4c30-f6f3-4afdc6172e35"
      },
      "execution_count": null,
      "outputs": [
        {
          "output_type": "stream",
          "name": "stdout",
          "text": [
            "the 4080\n",
            "and 3003\n",
            "I 2847\n",
            "of 2750\n",
            "to 2157\n",
            "my 1635\n",
            "a 1402\n",
            "in 1138\n",
            "was 1020\n",
            "that 1018\n",
            "me 867\n",
            "with 705\n",
            "had 684\n",
            "not 583\n",
            "which 565\n",
            "you 555\n",
            "but 551\n",
            "his 502\n",
            "for 495\n",
            "as 492\n"
          ]
        }
      ]
    },
    {
      "cell_type": "markdown",
      "source": [
        "#### Saving Output"
      ],
      "metadata": {
        "id": "IXsGh_t3IuuV"
      }
    },
    {
      "cell_type": "code",
      "source": [
        "# list of words to file\n",
        "with open(\"words.txt\", \"w\") as fh:\n",
        "    fh.write(\"\\n\".join([w.text for w in words]))"
      ],
      "metadata": {
        "id": "fkqtusj3IwL-"
      },
      "execution_count": null,
      "outputs": []
    },
    {
      "cell_type": "code",
      "source": [
        "# that workflow as a function\n",
        "def save_spacy_list(filename, t):\n",
        "    with open(filename, \"w\") as fh:\n",
        "        fh.write(\"\\n\".join([item.text for item in t]))\n",
        "\n",
        "# function call\n",
        "save_spacy_list(\"words.txt\", words)"
      ],
      "metadata": {
        "id": "JqMEsBpYI0sK"
      },
      "execution_count": null,
      "outputs": []
    },
    {
      "cell_type": "code",
      "source": [
        "# saving counter objects\n",
        "def save_counter_tsv(filename, counter, limit=1000):\n",
        "    with open(filename, \"w\") as outfile:\n",
        "        outfile.write(\"key\\tvalue\\n\")\n",
        "        for item, count in counter.most_common():\n",
        "            outfile.write(item.strip() + \"\\t\" + str(count) + \"\\n\")    \n",
        "\n",
        "save_counter_tsv(\"100_common_words.tsv\", word_count, 100)"
      ],
      "metadata": {
        "id": "xH5rDMssJEB3"
      },
      "execution_count": null,
      "outputs": []
    },
    {
      "cell_type": "code",
      "source": [
        "# time entities\n",
        "time_counter = Counter([e.text.lower().strip() for e in times])\n",
        "save_counter_tsv(\"time_count.tsv\", time_counter, 100)"
      ],
      "metadata": {
        "id": "75lTVOsYJRDa"
      },
      "execution_count": null,
      "outputs": []
    },
    {
      "cell_type": "code",
      "source": [
        "# people entities\n",
        "people_counter = Counter([e.text.lower() for e in people])\n",
        "save_counter_tsv(\"people_count.tsv\", people_counter, 100)"
      ],
      "metadata": {
        "id": "aTYn83YBJUO1"
      },
      "execution_count": null,
      "outputs": []
    },
    {
      "cell_type": "markdown",
      "source": [
        "#### Data Structures"
      ],
      "metadata": {
        "id": "D2KSIuF4KCeZ"
      }
    },
    {
      "cell_type": "markdown",
      "source": [
        "##### Words"
      ],
      "metadata": {
        "id": "DhqVJqD9Jb-K"
      }
    },
    {
      "cell_type": "code",
      "source": [
        "# lemmatizing\n",
        "for word in random.sample(words, 12):\n",
        "    print(word.text, \"→\", word.lemma_)"
      ],
      "metadata": {
        "colab": {
          "base_uri": "https://localhost:8080/"
        },
        "id": "_vgHZo20JdLu",
        "outputId": "9baa1ddb-1171-4723-8c5c-808258bed97d"
      },
      "execution_count": null,
      "outputs": [
        {
          "output_type": "stream",
          "name": "stdout",
          "text": [
            "which → which\n",
            "with → with\n",
            "a → a\n",
            "my → my\n",
            "the → the\n",
            "the → the\n",
            "being → being\n",
            "it → it\n",
            "playing → play\n",
            "innocence → innocence\n",
            "the → the\n",
            "the → the\n"
          ]
        }
      ]
    },
    {
      "cell_type": "code",
      "source": [
        "# words in sentence\n",
        "sentence = random.choice(sentences)\n",
        "for word in sentence:\n",
        "    print(word.text)"
      ],
      "metadata": {
        "colab": {
          "base_uri": "https://localhost:8080/"
        },
        "id": "dfkpoU4jJf9w",
        "outputId": "454315c6-44c0-489d-db5c-bff2f1e4c524"
      },
      "execution_count": null,
      "outputs": [
        {
          "output_type": "stream",
          "name": "stdout",
          "text": [
            "Hear\n",
            "him\n",
            "not\n",
            ";\n",
            "call\n",
            "on\n",
            "the\n",
            "names\n",
            "of\n",
            "William\n",
            ",\n",
            "\n",
            "\n",
            "Justine\n",
            ",\n",
            "Clerval\n",
            ",\n",
            "Elizabeth\n",
            ",\n",
            "my\n",
            "father\n",
            ",\n",
            "and\n",
            "of\n",
            "the\n",
            "wretched\n",
            "Victor\n",
            ",\n",
            "and\n",
            "\n",
            "\n",
            "thrust\n",
            "your\n",
            "sword\n",
            "into\n",
            "his\n",
            "heart\n",
            ".\n"
          ]
        }
      ]
    },
    {
      "cell_type": "code",
      "source": [
        "# parts of speech\n",
        "for item in random.sample(words, 24):\n",
        "    print(item.text, \"/\", item.pos_, \"/\", item.tag_)"
      ],
      "metadata": {
        "colab": {
          "base_uri": "https://localhost:8080/"
        },
        "id": "iSKHM3OVJk3a",
        "outputId": "3f681dd2-dd55-4d1c-d41c-8706a9fbe90e"
      },
      "execution_count": null,
      "outputs": [
        {
          "output_type": "stream",
          "name": "stdout",
          "text": [
            "Accursed / VERB / VBN\n",
            "you / PRON / PRP\n",
            "my / PRON / PRP$\n",
            "that / SCONJ / IN\n",
            "removal / NOUN / NN\n",
            "of / ADP / IN\n",
            "consumption / NOUN / NN\n",
            "her / PRON / PRP$\n",
            "to / PART / TO\n",
            "is / AUX / VBZ\n",
            "would / AUX / MD\n",
            "they / PRON / PRP\n",
            "to / ADP / IN\n",
            "to / ADP / IN\n",
            "word / NOUN / NN\n",
            "Servox / PROPN / NNP\n",
            "happiness / NOUN / NN\n",
            "to / ADP / IN\n",
            "attended / VERB / VBN\n",
            "his / PRON / PRP$\n",
            "of / ADP / IN\n",
            "awoke / VERB / VBD\n",
            "rose / VERB / VBD\n",
            "caused / VERB / VBD\n"
          ]
        }
      ]
    },
    {
      "cell_type": "code",
      "source": [
        "# term deep dive\n",
        "spacy.explain('VBP')"
      ],
      "metadata": {
        "colab": {
          "base_uri": "https://localhost:8080/",
          "height": 35
        },
        "id": "xApL0KP7JnwI",
        "outputId": "90428307-4ffd-48bf-fa93-4ea53a46ae4b"
      },
      "execution_count": null,
      "outputs": [
        {
          "output_type": "execute_result",
          "data": {
            "text/plain": [
              "'verb, non-3rd person singular present'"
            ],
            "application/vnd.google.colaboratory.intrinsic+json": {
              "type": "string"
            }
          },
          "metadata": {},
          "execution_count": 87
        }
      ]
    },
    {
      "cell_type": "code",
      "source": [
        "# verb forms\n",
        "only_past = [item.text for item in doc if item.tag_ == 'VBN']\n",
        "random.sample(only_past, 12)"
      ],
      "metadata": {
        "colab": {
          "base_uri": "https://localhost:8080/"
        },
        "id": "8rhILCiIJrhB",
        "outputId": "209459c3-343a-4509-aa58-fc96f169f9a4"
      },
      "execution_count": null,
      "outputs": [
        {
          "output_type": "execute_result",
          "data": {
            "text/plain": [
              "['been',\n",
              " 'watched',\n",
              " 'been',\n",
              " 'paid',\n",
              " 'acquainted',\n",
              " 'supplied',\n",
              " 'transported',\n",
              " 'sent',\n",
              " 'dated',\n",
              " 'lost',\n",
              " 'surrounded',\n",
              " 'opened']"
            ]
          },
          "metadata": {},
          "execution_count": 88
        }
      ]
    },
    {
      "cell_type": "code",
      "source": [
        "# plural nouns\n",
        "only_plural = [item.text for item in doc if item.tag_ == 'NNS']\n",
        "random.sample(only_plural, 12)"
      ],
      "metadata": {
        "id": "I_E_Luk0Ju0J"
      },
      "execution_count": null,
      "outputs": []
    },
    {
      "cell_type": "markdown",
      "source": [
        "##### Sentences"
      ],
      "metadata": {
        "id": "K_PyQBN4J-1_"
      }
    },
    {
      "cell_type": "code",
      "source": [
        "# sentence breakdown\n",
        "sent = random.choice(sentences)\n",
        "print(\"Original sentence:\", sent.text.replace(\"\\n\", \" \"))\n",
        "for word in sent:\n",
        "    print()\n",
        "    print(\"Word:\", word.text)\n",
        "    print(\"Tag:\", word.tag_)\n",
        "    print(\"Head:\", word.head.text)\n",
        "    print(\"Dependency relation:\", word.dep_)\n",
        "    print(\"Children:\", list(word.children))"
      ],
      "metadata": {
        "id": "_JGlPP55JzLS"
      },
      "execution_count": null,
      "outputs": []
    },
    {
      "cell_type": "markdown",
      "source": [
        "##### Semantic Units"
      ],
      "metadata": {
        "id": "Wd-CHYUoKXFb"
      }
    },
    {
      "cell_type": "code",
      "source": [
        "# flattening the structure\n",
        "def flatten_subtree(st):\n",
        "    return ''.join([w.text_with_ws for w in list(st)]).strip()\n",
        "\n",
        "sent = random.choice(sentences)\n",
        "print(\"Original sentence:\", sent.text.replace(\"\\n\", \" \"))\n",
        "for word in sent:\n",
        "    print()\n",
        "    print(\"Word:\", word.text.replace(\"\\n\", \" \"))\n",
        "    print(\"Flattened subtree: \", flatten_subtree(word.subtree).replace(\"\\n\", \" \"))"
      ],
      "metadata": {
        "id": "vkxi_7beKJYr"
      },
      "execution_count": null,
      "outputs": []
    },
    {
      "cell_type": "code",
      "source": [
        "# get subjects\n",
        "subjects = []\n",
        "for word in doc:\n",
        "    if word.dep_ in ('nsubj', 'nsubjpass'):\n",
        "        subjects.append(flatten_subtree(word.subtree))\n",
        "\n",
        "random.sample(subjects, 12)"
      ],
      "metadata": {
        "id": "OMQu8gc7KSwn"
      },
      "execution_count": null,
      "outputs": []
    },
    {
      "cell_type": "code",
      "source": [
        "# prepositional phrases\n",
        "prep_phrases = []\n",
        "for word in doc:\n",
        "    if word.dep_ == 'prep':\n",
        "        prep_phrases.append(flatten_subtree(word.subtree).replace(\"\\n\", \" \"))\n",
        " \n",
        "random.sample(prep_phrases, 12)                           "
      ],
      "metadata": {
        "id": "2vcq1H2IKUZd"
      },
      "execution_count": null,
      "outputs": []
    },
    {
      "cell_type": "markdown",
      "source": [
        "#### Generating Text With `spaCy` and Tracery"
      ],
      "metadata": {
        "id": "UfFKdVM3K4Et"
      }
    },
    {
      "cell_type": "code",
      "source": [
        "# break down sentence structure\n",
        "subjects = [flatten_subtree(word.subtree).replace(\"\\n\", \" \")\n",
        "            for word in doc if word.dep_ in ('nsubj', 'nsubjpass')]\n",
        "past_tense_verbs = [word.text for word in words if word.tag_ == 'VBD' and word.lemma_ != 'be']\n",
        "adjectives = [word.text for word in words if word.tag_.startswith('JJ')]\n",
        "nouns = [word.text for word in words if word.tag_.startswith('NN')]\n",
        "prep_phrases = [flatten_subtree(word.subtree).replace(\"\\n\", \" \")\n",
        "                for word in doc if word.dep_ == 'prep']"
      ],
      "metadata": {
        "id": "M2nkdQBfLElR"
      },
      "execution_count": null,
      "outputs": []
    },
    {
      "cell_type": "code",
      "source": [
        "# tracery setup\n",
        "!{sys.executable} -m pip install tracery"
      ],
      "metadata": {
        "colab": {
          "base_uri": "https://localhost:8080/"
        },
        "id": "mFTlO3xwLJRd",
        "outputId": "1ec84697-43e2-45db-918b-60e331fedc63"
      },
      "execution_count": null,
      "outputs": [
        {
          "output_type": "stream",
          "name": "stdout",
          "text": [
            "Looking in indexes: https://pypi.org/simple, https://us-python.pkg.dev/colab-wheels/public/simple/\n",
            "Collecting tracery\n",
            "  Downloading tracery-0.1.1.tar.gz (8.1 kB)\n",
            "  Preparing metadata (setup.py) ... \u001b[?25l\u001b[?25hdone\n",
            "Building wheels for collected packages: tracery\n",
            "  Building wheel for tracery (setup.py) ... \u001b[?25l\u001b[?25hdone\n",
            "  Created wheel for tracery: filename=tracery-0.1.1-py3-none-any.whl size=7697 sha256=627ad53f991fd0dd09d030bb059ba4634104ffdba207d7c1d19ea83844f7f5a4\n",
            "  Stored in directory: /root/.cache/pip/wheels/2c/55/dd/ca1cff9fcfa0968ca0610769213fc9e907c88eb2c0164726d4\n",
            "Successfully built tracery\n",
            "Installing collected packages: tracery\n",
            "Successfully installed tracery-0.1.1\n"
          ]
        }
      ]
    },
    {
      "cell_type": "code",
      "source": [
        "# import\n",
        "import tracery\n",
        "from tracery.modifiers import base_english"
      ],
      "metadata": {
        "id": "xdRbbAcxLNg7"
      },
      "execution_count": null,
      "outputs": []
    },
    {
      "cell_type": "code",
      "source": [
        "# define a grammar\n",
        "rules = {\n",
        "    \"origin\": [\n",
        "        \"#subject.capitalize# #predicate#.\",\n",
        "        \"#subject.capitalize# #predicate#.\",\n",
        "        \"#prepphrase.capitalize#, #subject# #predicate#.\"\n",
        "    ],\n",
        "    \"predicate\": [\n",
        "        \"#verb#\",\n",
        "        \"#verb# #nounphrase#\",\n",
        "        \"#verb# #prepphrase#\"\n",
        "    ],\n",
        "    \"nounphrase\": [\n",
        "        \"the #noun#\",\n",
        "        \"the #adj# #noun#\",\n",
        "        \"the #noun# #prepphrase#\",\n",
        "        \"the #noun# and the #noun#\",\n",
        "        \"#noun.a#\",\n",
        "        \"#adj.a# #noun#\",\n",
        "        \"the #noun# that #predicate#\"\n",
        "    ],\n",
        "    \"subject\": subjects,\n",
        "    \"verb\": past_tense_verbs,\n",
        "    \"noun\": nouns,\n",
        "    \"adj\": adjectives,\n",
        "    \"prepphrase\": prep_phrases\n",
        "}\n",
        "grammar = tracery.Grammar(rules)\n",
        "grammar.add_modifiers(base_english)\n",
        "grammar.flatten(\"#origin#\")"
      ],
      "metadata": {
        "colab": {
          "base_uri": "https://localhost:8080/",
          "height": 35
        },
        "id": "LqUONeR7LRqM",
        "outputId": "2f849532-2b28-495d-a82a-780e609d4b67"
      },
      "execution_count": null,
      "outputs": [
        {
          "output_type": "execute_result",
          "data": {
            "text/plain": [
              "'From thine eyes, it saw of a bride.'"
            ],
            "application/vnd.google.colaboratory.intrinsic+json": {
              "type": "string"
            }
          },
          "metadata": {},
          "execution_count": 105
        }
      ]
    },
    {
      "cell_type": "code",
      "source": [
        "# generate text\n",
        "from textwrap import fill\n",
        "output = \" \".join([grammar.flatten(\"#origin#\") for i in range(12)])\n",
        "print(fill(output, 60))"
      ],
      "metadata": {
        "colab": {
          "base_uri": "https://localhost:8080/"
        },
        "id": "3CXQz2QELUDh",
        "outputId": "eaf311c5-53fb-488b-a3e4-ca212c9a45c8"
      },
      "execution_count": null,
      "outputs": [
        {
          "output_type": "stream",
          "name": "stdout",
          "text": [
            "At Geneva, He had. I retired. With which, I met. I lighted.\n",
            "I admired. On earth, I said of provisions. The spirits of\n",
            "the dead hovered round and dated the pleasures. In her eyes,\n",
            "Our little voyages of discovery appeared the things and the\n",
            "fever. I induced in the bloom of health. The whirlwind\n",
            "passions of my soul called. I gave the selfishness of the\n",
            "cottagers. I exclaimed of my parents’ house.\n"
          ]
        }
      ]
    },
    {
      "cell_type": "markdown",
      "source": [
        "### Playing With Transformers\n",
        "\n",
        "\"Transformers is a Python library released by Hugging Face to make it easy to use pre-trained transformer language models. This notebook takes you through the basics of how to generate text with this library, and demonstrates a few simple techniques you can use to assert finer-grained control over the text generation procedure, like logit warping and fine-tuning.\" ([Jupyter Notebook](https://github.com/aparrish/rwet/blob/master/transformers-playground.ipynb), Spring 2023 \"Reading and Writing Electronic Text\" NYU ITP course)"
      ],
      "metadata": {
        "id": "ZftNHNgzud7r"
      }
    },
    {
      "cell_type": "markdown",
      "source": [
        "#### Setup"
      ],
      "metadata": {
        "id": "piemAAaA554D"
      }
    },
    {
      "cell_type": "code",
      "source": [
        "# install\n",
        "!pip install transformers datasets\n",
        "!pip install tensorflow>=2.11"
      ],
      "metadata": {
        "id": "xAGHhy-r56rj"
      },
      "execution_count": null,
      "outputs": []
    },
    {
      "cell_type": "code",
      "source": [
        "# check tf version\n",
        "import tensorflow as tf\n",
        "print(tf.__version__)"
      ],
      "metadata": {
        "colab": {
          "base_uri": "https://localhost:8080/"
        },
        "id": "c9lL4KFS8FS_",
        "outputId": "a7a802bc-62eb-453a-ead5-03cc868a91ba"
      },
      "execution_count": null,
      "outputs": [
        {
          "output_type": "stream",
          "name": "stdout",
          "text": [
            "2.11.0\n"
          ]
        }
      ]
    },
    {
      "cell_type": "code",
      "source": [
        "from IPython.display import HTML\n",
        "HTML('')"
      ],
      "metadata": {
        "colab": {
          "base_uri": "https://localhost:8080/",
          "height": 17
        },
        "id": "Puxwj1rD6-z7",
        "outputId": "44b7febd-9f07-4565-f29a-2752e38b9e06"
      },
      "execution_count": null,
      "outputs": [
        {
          "output_type": "execute_result",
          "data": {
            "text/plain": [
              "<IPython.core.display.HTML object>"
            ],
            "text/html": []
          },
          "metadata": {},
          "execution_count": 3
        }
      ]
    },
    {
      "cell_type": "markdown",
      "source": [
        "#### Overview"
      ],
      "metadata": {
        "id": "xarfI-_5EtFy"
      }
    },
    {
      "cell_type": "code",
      "source": [
        "# import statements\n",
        "from transformers import pipeline, AutoModelForCausalLM, AutoTokenizer"
      ],
      "metadata": {
        "id": "_n7IT0J26In6"
      },
      "execution_count": null,
      "outputs": []
    },
    {
      "cell_type": "code",
      "source": [
        "# tokenizers\n",
        "tokenizer = AutoTokenizer.from_pretrained('distilgpt2')\n",
        "model = AutoModelForCausalLM.from_pretrained('distilgpt2')"
      ],
      "metadata": {
        "colab": {
          "base_uri": "https://localhost:8080/",
          "height": 209,
          "referenced_widgets": [
            "28d6eb7424ec4cb8bf27d7128acf7f30",
            "abf7ae04bd994618b0f2e093240c41c2",
            "3b399f0a92fb438e873eb2f1c67621d1",
            "71cad8bc1eb34228a2fc877e9ebab0bd",
            "65d8e3ae393944fc9e14b12a916669af",
            "921fcb94218144668537a90d1103766d",
            "10e5e491e82d4c488c44fbe4ae962db9",
            "bced4228fc8b467d9eba3c02a9361d9a",
            "5a4f3c2445e64dce8b896a2fb331b599",
            "58210be384374c59ac5aeb0b3974b9c4",
            "fbfc8af7455748eaaf18095479394612",
            "43169d436037474b86445b92880cea74",
            "8e8fefdfabf0485db32a2822e729003d",
            "4df71ffe9ea44d27bbcd40533712cd3e",
            "024a64099b514801a3d37bf79f27ef3e",
            "ad182c01895b475a8fddcbf199f967b5",
            "4aaf1ed628ee40b3b1f062ebaf295d65",
            "0e846e110a0049febf9ed0458285ddf0",
            "ec524b50c73a4878aac943fbffbdf509",
            "adfb8bc8722d4d13a23409b0ebbb7310",
            "ccd4fbd659164a978457335a6975ea23",
            "f0d7a42afb0247539fa0a5933b197bcf",
            "cba53621820345d192ec47d4e10f8695",
            "7b69fc3812e54d539c378b4af717568c",
            "bb2356ba8a664e598d2f6acd74050973",
            "1858e8ad35a0405f9cc9a81429610e76",
            "6328e18968164f72bfdf43eeaf3c5cb9",
            "d7318126655e4448932ac93c838a0d3c",
            "138da60120a949ac9ca3cc73c0372628",
            "40d137029308446d921b284eaf38a965",
            "903dbfe002f143f6be306f5efd30a2ef",
            "d0dd73e0ea1545a8a7b76df68ba1a8c6",
            "ab92b7f7cdb9476288025d2d5d2fd227",
            "d4fda083a32f4e1484bed49c442fd114",
            "711e0edb718d4247a273d68997154ed5",
            "2ca92d7b185b47b8b38af36a46d017ae",
            "4e4cacd9a0f94540a53b2b8b9401c020",
            "f0f22184d9fe4bd5a4098701e41aa30f",
            "3b8410006eba406893b39752ab170f2a",
            "7ab8b5b81e334c23a5134e3c92f713ca",
            "4e596bf7480542ffbd6f97d6065de6e5",
            "05696b85676d4d20832c810df5aef67b",
            "f6d453e04cb34d55be77da72969162c1",
            "c99087ebadff49cd9580966ae1f756aa",
            "b2851fa8fb5e4221a04e00ec43c7ce80",
            "29e5abff5a6f4bf7b80e994fea14dbfa",
            "0001f60293124622a5597529d51623c2",
            "2d05537b33cf48f4b4860ea83e87dc30",
            "e79a6cb8c3c143e6b6b9d1d38d96ecd2",
            "f0ee9e6b89894175a647a7f267427c1a",
            "d78cdbee3959435388344526260a1a22",
            "23791b9aa53f4e3b9d3f415c6f9b28ff",
            "7bd053debc784912bf0a45a2484ee68f",
            "fdb2c02a823d455e93dd473ef1c82844",
            "4035ddad2a454b7e873f8f83ec316b5f",
            "27c8e6c8a196424189c23ed0499e45e1",
            "93f984df7d2847ff9561078c784cb094",
            "5347120fc020479a870fe7c21df4e6ed",
            "d2e0d4a565d8452c870a3d51b2ed234f",
            "c7ae171ac2734d4986d8a5c7ae96eb2a",
            "304b9be3db4c4060b95e745d321d703c",
            "6c05b6fb899b4bba9ba9441c33b1ede5",
            "fcac0d1c7bcf463f86ceb8a5cbe573ca",
            "24ad0f7ce6164e8b89975d725694df94",
            "c1b19a8b12af4fe2b4763a3df0bbed65",
            "85b930a93ce345b1a164df8cc3a0d51a"
          ]
        },
        "id": "fe3nwYRJ6MdG",
        "outputId": "0c1925f5-e4dc-430e-89b0-42db04712700"
      },
      "execution_count": null,
      "outputs": [
        {
          "output_type": "display_data",
          "data": {
            "text/plain": [
              "Downloading (…)lve/main/config.json:   0%|          | 0.00/762 [00:00<?, ?B/s]"
            ],
            "application/vnd.jupyter.widget-view+json": {
              "version_major": 2,
              "version_minor": 0,
              "model_id": "28d6eb7424ec4cb8bf27d7128acf7f30"
            }
          },
          "metadata": {}
        },
        {
          "output_type": "display_data",
          "data": {
            "text/plain": [
              "Downloading (…)olve/main/vocab.json:   0%|          | 0.00/1.04M [00:00<?, ?B/s]"
            ],
            "application/vnd.jupyter.widget-view+json": {
              "version_major": 2,
              "version_minor": 0,
              "model_id": "43169d436037474b86445b92880cea74"
            }
          },
          "metadata": {}
        },
        {
          "output_type": "display_data",
          "data": {
            "text/plain": [
              "Downloading (…)olve/main/merges.txt:   0%|          | 0.00/456k [00:00<?, ?B/s]"
            ],
            "application/vnd.jupyter.widget-view+json": {
              "version_major": 2,
              "version_minor": 0,
              "model_id": "cba53621820345d192ec47d4e10f8695"
            }
          },
          "metadata": {}
        },
        {
          "output_type": "display_data",
          "data": {
            "text/plain": [
              "Downloading (…)/main/tokenizer.json:   0%|          | 0.00/1.36M [00:00<?, ?B/s]"
            ],
            "application/vnd.jupyter.widget-view+json": {
              "version_major": 2,
              "version_minor": 0,
              "model_id": "d4fda083a32f4e1484bed49c442fd114"
            }
          },
          "metadata": {}
        },
        {
          "output_type": "display_data",
          "data": {
            "text/plain": [
              "Downloading (…)\"pytorch_model.bin\";:   0%|          | 0.00/353M [00:00<?, ?B/s]"
            ],
            "application/vnd.jupyter.widget-view+json": {
              "version_major": 2,
              "version_minor": 0,
              "model_id": "b2851fa8fb5e4221a04e00ec43c7ce80"
            }
          },
          "metadata": {}
        },
        {
          "output_type": "display_data",
          "data": {
            "text/plain": [
              "Downloading (…)neration_config.json:   0%|          | 0.00/124 [00:00<?, ?B/s]"
            ],
            "application/vnd.jupyter.widget-view+json": {
              "version_major": 2,
              "version_minor": 0,
              "model_id": "27c8e6c8a196424189c23ed0499e45e1"
            }
          },
          "metadata": {}
        }
      ]
    },
    {
      "cell_type": "markdown",
      "source": [
        "##### Generators"
      ],
      "metadata": {
        "id": "zE2B5Zow-jaS"
      }
    },
    {
      "cell_type": "code",
      "source": [
        "# generator\n",
        "generator = pipeline('text-generation', model=model, tokenizer=tokenizer)\n",
        "generator(\"Two roads diverged in a yellow wood, and\")"
      ],
      "metadata": {
        "colab": {
          "base_uri": "https://localhost:8080/"
        },
        "id": "eDGQkADW-hYm",
        "outputId": "f228a0d7-cc98-429b-de46-febf41b58b71"
      },
      "execution_count": null,
      "outputs": [
        {
          "output_type": "stream",
          "name": "stderr",
          "text": [
            "/usr/local/lib/python3.8/dist-packages/transformers/generation/utils.py:1186: UserWarning: You have modified the pretrained model configuration to control generation. This is a deprecated strategy to control generation and will be removed soon, in a future version. Please use a generation configuration file (see https://huggingface.co/docs/transformers/main_classes/text_generation)\n",
            "  warnings.warn(\n",
            "Setting `pad_token_id` to `eos_token_id`:50256 for open-end generation.\n",
            "/usr/local/lib/python3.8/dist-packages/transformers/generation/utils.py:1273: UserWarning: Neither `max_length` nor `max_new_tokens` has been set, `max_length` will default to 50 (`generation_config.max_length`). Controlling `max_length` via the config is deprecated and `max_length` will be removed from the config in v5 of Transformers -- we recommend using `max_new_tokens` to control the maximum length of the generation.\n",
            "  warnings.warn(\n"
          ]
        },
        {
          "output_type": "execute_result",
          "data": {
            "text/plain": [
              "[{'generated_text': 'Two roads diverged in a yellow wood, and a black sedan crashed into trees off the side of the street.\\n\\n\\n\\nThe black sedan hit a roadblock and an SUV plunged into a tree on the west side of Lake Michigan.\\n'}]"
            ]
          },
          "metadata": {},
          "execution_count": 6
        }
      ]
    },
    {
      "cell_type": "code",
      "source": [
        "# another generator\n",
        "generator(\"Two roads diverged in a yellow wood, and\")[0]['generated_text']"
      ],
      "metadata": {
        "colab": {
          "base_uri": "https://localhost:8080/",
          "height": 70
        },
        "id": "mMM6UXLF-qDd",
        "outputId": "02e1f43c-6e54-437d-b970-8e3b5c66dba6"
      },
      "execution_count": null,
      "outputs": [
        {
          "output_type": "stream",
          "name": "stderr",
          "text": [
            "Setting `pad_token_id` to `eos_token_id`:50256 for open-end generation.\n"
          ]
        },
        {
          "output_type": "execute_result",
          "data": {
            "text/plain": [
              "'Two roads diverged in a yellow wood, and the green areas of the city were rumbled in the afternoon.\\n\\n\\n\\n\\nThe black areas were the biggest in North York with 9.2 million people.\\n\\nPolice and Fire Ministry'"
            ],
            "application/vnd.google.colaboratory.intrinsic+json": {
              "type": "string"
            }
          },
          "metadata": {},
          "execution_count": 7
        }
      ]
    },
    {
      "cell_type": "markdown",
      "source": [
        "##### Tokenizers"
      ],
      "metadata": {
        "id": "BQXqquyn-yAO"
      }
    },
    {
      "cell_type": "code",
      "source": [
        "# show vocabulary \n",
        "vocab = tokenizer.get_vocab()\n",
        "len(vocab)"
      ],
      "metadata": {
        "colab": {
          "base_uri": "https://localhost:8080/"
        },
        "id": "Yb05uHsQ-zmM",
        "outputId": "7032a53f-e290-469a-cd3a-0ec3e6f35bfb"
      },
      "execution_count": null,
      "outputs": [
        {
          "output_type": "execute_result",
          "data": {
            "text/plain": [
              "50257"
            ]
          },
          "metadata": {},
          "execution_count": 8
        }
      ]
    },
    {
      "cell_type": "code",
      "source": [
        "# show random set of words\n",
        "# import random\n",
        "random.sample(vocab.items(), 10)"
      ],
      "metadata": {
        "id": "teqEbP_Q-553"
      },
      "execution_count": null,
      "outputs": []
    },
    {
      "cell_type": "code",
      "source": [
        "# encode a string\n",
        "src = \"Behold! An alabaster anemone. Zzzzap!\"\n",
        "tokenizer.encode(src)"
      ],
      "metadata": {
        "id": "fVpUwldC--UD"
      },
      "execution_count": null,
      "outputs": []
    },
    {
      "cell_type": "code",
      "source": [
        "# decode token id\n",
        "tokenizer.decode(1603)"
      ],
      "metadata": {
        "colab": {
          "base_uri": "https://localhost:8080/",
          "height": 35
        },
        "id": "R61r26Cc_Bce",
        "outputId": "4cd73f9d-8627-469e-a8b3-b5542387e642"
      },
      "execution_count": null,
      "outputs": [
        {
          "output_type": "execute_result",
          "data": {
            "text/plain": [
              "'aster'"
            ],
            "application/vnd.google.colaboratory.intrinsic+json": {
              "type": "string"
            }
          },
          "metadata": {},
          "execution_count": 11
        }
      ]
    },
    {
      "cell_type": "code",
      "source": [
        "# units in original string\n",
        "for token_id in tokenizer.encode(src):\n",
        "    print(token_id, \"→\", \"'\" + tokenizer.decode(token_id) + \"'\")"
      ],
      "metadata": {
        "colab": {
          "base_uri": "https://localhost:8080/"
        },
        "id": "Hap8oHn1_G7q",
        "outputId": "9aae9fff-eccd-474d-dd7f-e01bd3b544d3"
      },
      "execution_count": null,
      "outputs": [
        {
          "output_type": "stream",
          "name": "stdout",
          "text": [
            "3856 → 'Be'\n",
            "2946 → 'hold'\n",
            "0 → '!'\n",
            "1052 → ' An'\n",
            "435 → ' al'\n",
            "397 → 'ab'\n",
            "1603 → 'aster'\n",
            "281 → ' an'\n",
            "368 → 'em'\n",
            "505 → 'one'\n",
            "13 → '.'\n",
            "1168 → ' Z'\n",
            "3019 → 'zz'\n",
            "89 → 'z'\n",
            "499 → 'ap'\n",
            "0 → '!'\n"
          ]
        }
      ]
    },
    {
      "cell_type": "code",
      "source": [
        "# decode entire list of token ids\n",
        "token_ids = tokenizer.encode(src)\n",
        "tokenizer.decode(token_ids)"
      ],
      "metadata": {
        "colab": {
          "base_uri": "https://localhost:8080/",
          "height": 35
        },
        "id": "Q_XmKeHv_JvK",
        "outputId": "7026434e-5b44-4d27-af6d-240763ebe990"
      },
      "execution_count": null,
      "outputs": [
        {
          "output_type": "execute_result",
          "data": {
            "text/plain": [
              "'Behold! An alabaster anemone. Zzzzap!'"
            ],
            "application/vnd.google.colaboratory.intrinsic+json": {
              "type": "string"
            }
          },
          "metadata": {},
          "execution_count": 13
        }
      ]
    },
    {
      "cell_type": "code",
      "source": [
        "# decode a random list of token ids\n",
        "tokenizer.decode(random.sample(list(vocab.values()), 12))"
      ],
      "metadata": {
        "colab": {
          "base_uri": "https://localhost:8080/",
          "height": 35
        },
        "id": "O3gYwJZ7_MzD",
        "outputId": "ea1862e6-ab82-4388-d248-f25142c83033"
      },
      "execution_count": null,
      "outputs": [
        {
          "output_type": "execute_result",
          "data": {
            "text/plain": [
              "'ruciating Inferno processor1995 rational newborn disproportion Ulster Carth recipient common situation'"
            ],
            "application/vnd.google.colaboratory.intrinsic+json": {
              "type": "string"
            }
          },
          "metadata": {},
          "execution_count": 14
        }
      ]
    },
    {
      "cell_type": "code",
      "source": [
        "# call the tokenizer as a function\n",
        "tokenizer([\"this is a test\", \"this is another test\"], return_tensors=\"pt\")"
      ],
      "metadata": {
        "colab": {
          "base_uri": "https://localhost:8080/"
        },
        "id": "S92vIs0O_TWm",
        "outputId": "6fcbb7e3-cc47-483d-ad49-c700b6d6c748"
      },
      "execution_count": null,
      "outputs": [
        {
          "output_type": "execute_result",
          "data": {
            "text/plain": [
              "{'input_ids': tensor([[5661,  318,  257, 1332],\n",
              "        [5661,  318, 1194, 1332]]), 'attention_mask': tensor([[1, 1, 1, 1],\n",
              "        [1, 1, 1, 1]])}"
            ]
          },
          "metadata": {},
          "execution_count": 15
        }
      ]
    },
    {
      "cell_type": "markdown",
      "source": [
        "#### Generation Deep Dive"
      ],
      "metadata": {
        "id": "n4GMHhzX_Yhj"
      }
    },
    {
      "cell_type": "code",
      "source": [
        "# encode prompt\n",
        "prompt = \"Two roads diverged in a yellow wood, and\"\n",
        "prompt_encoded = tokenizer([prompt], return_tensors=\"pt\")\n",
        "prompt_encoded"
      ],
      "metadata": {
        "colab": {
          "base_uri": "https://localhost:8080/"
        },
        "id": "qNY5FUud_a76",
        "outputId": "0768920e-6272-4371-fb22-3f3519cc118c"
      },
      "execution_count": null,
      "outputs": [
        {
          "output_type": "execute_result",
          "data": {
            "text/plain": [
              "{'input_ids': tensor([[ 7571,  9725, 12312,  2004,   287,   257,  7872,  4898,    11,   290]]), 'attention_mask': tensor([[1, 1, 1, 1, 1, 1, 1, 1, 1, 1]])}"
            ]
          },
          "metadata": {},
          "execution_count": 16
        }
      ]
    },
    {
      "cell_type": "code",
      "source": [
        "# show model result\n",
        "result = model(**prompt_encoded)"
      ],
      "metadata": {
        "id": "3Oj2eeoc_fQD"
      },
      "execution_count": null,
      "outputs": []
    },
    {
      "cell_type": "code",
      "source": [
        "# make a prediction\n",
        "next_token_probs = result.logits[0,-1]\n",
        "next_token_probs"
      ],
      "metadata": {
        "colab": {
          "base_uri": "https://localhost:8080/"
        },
        "id": "_l7FLJxM_jd7",
        "outputId": "d8e05850-7d2f-48ae-bf24-e374cdedb04e"
      },
      "execution_count": null,
      "outputs": [
        {
          "output_type": "execute_result",
          "data": {
            "text/plain": [
              "tensor([-75.0658, -73.7585, -76.3895,  ..., -75.8365, -73.6258, -73.6459],\n",
              "       grad_fn=<SelectBackward0>)"
            ]
          },
          "metadata": {},
          "execution_count": 18
        }
      ]
    },
    {
      "cell_type": "code",
      "source": [
        "# shape of the prediction\n",
        "next_token_probs.shape"
      ],
      "metadata": {
        "colab": {
          "base_uri": "https://localhost:8080/"
        },
        "id": "JqelKyp7_mZj",
        "outputId": "d378fa07-4bff-45c3-c13b-2441bf11f2dd"
      },
      "execution_count": null,
      "outputs": [
        {
          "output_type": "execute_result",
          "data": {
            "text/plain": [
              "torch.Size([50257])"
            ]
          },
          "metadata": {},
          "execution_count": 19
        }
      ]
    },
    {
      "cell_type": "code",
      "source": [
        "# show individual token probability\n",
        "next_token_probs[tokenizer.encode(' the')].item()"
      ],
      "metadata": {
        "colab": {
          "base_uri": "https://localhost:8080/"
        },
        "id": "E7w0nki8_oos",
        "outputId": "3956205a-dd63-4e05-89e1-c90b908cdf0c"
      },
      "execution_count": null,
      "outputs": [
        {
          "output_type": "execute_result",
          "data": {
            "text/plain": [
              "-63.117576599121094"
            ]
          },
          "metadata": {},
          "execution_count": 20
        }
      ]
    },
    {
      "cell_type": "code",
      "source": [
        "# another probability\n",
        "next_token_probs[tokenizer.encode(' x')].item()"
      ],
      "metadata": {
        "colab": {
          "base_uri": "https://localhost:8080/"
        },
        "id": "4U9qOcQs_s9X",
        "outputId": "6eb036ec-0050-4472-d817-d5245556b3bf"
      },
      "execution_count": null,
      "outputs": [
        {
          "output_type": "execute_result",
          "data": {
            "text/plain": [
              "-73.5635986328125"
            ]
          },
          "metadata": {},
          "execution_count": 21
        }
      ]
    },
    {
      "cell_type": "markdown",
      "source": [
        "##### PyTorch Foundations"
      ],
      "metadata": {
        "id": "SLoUG-JM_-Hq"
      }
    },
    {
      "cell_type": "code",
      "source": [
        "# generating using pytorch\n",
        "import torch\n",
        "for idx in reversed(torch.argsort(next_token_probs)[-12:]):\n",
        "    print(\"'\" + tokenizer.decode(idx) + \"'\")"
      ],
      "metadata": {
        "id": "TRxdVmwQ_zc0"
      },
      "execution_count": null,
      "outputs": []
    },
    {
      "cell_type": "code",
      "source": [
        "# another pytorch example\n",
        "prompt = \"Two roads diverged in a yellow wood, and\"\n",
        "for i in range(10):\n",
        "    # encode the prompt\n",
        "    prompt_encoded = tokenizer([prompt], return_tensors=\"pt\")\n",
        "    # run a forward pass on the network\n",
        "    result = model(**prompt_encoded)\n",
        "    # get the probabilities for the next word\n",
        "    next_token_probs = result.logits[0,-1]\n",
        "    # sort by value, get the top 12 (you can change this number! try 1, or 1000)\n",
        "    nexts = torch.argsort(next_token_probs)[-12:]\n",
        "    # append the decoded ID to the current prompt\n",
        "    prompt += tokenizer.decode(random.choice(nexts))\n",
        "    print(prompt)"
      ],
      "metadata": {
        "colab": {
          "base_uri": "https://localhost:8080/"
        },
        "id": "qYAlniwV_4jz",
        "outputId": "dac090a1-8a0a-4857-8487-627accbd4ce3"
      },
      "execution_count": null,
      "outputs": [
        {
          "output_type": "stream",
          "name": "stdout",
          "text": [
            "Two roads diverged in a yellow wood, and another\n",
            "Two roads diverged in a yellow wood, and another green\n",
            "Two roads diverged in a yellow wood, and another green.\n",
            "Two roads diverged in a yellow wood, and another green. One\n",
            "Two roads diverged in a yellow wood, and another green. One of\n",
            "Two roads diverged in a yellow wood, and another green. One of their\n",
            "Two roads diverged in a yellow wood, and another green. One of their vehicles\n",
            "Two roads diverged in a yellow wood, and another green. One of their vehicles crashed\n",
            "Two roads diverged in a yellow wood, and another green. One of their vehicles crashed.\n",
            "Two roads diverged in a yellow wood, and another green. One of their vehicles crashed. Three\n"
          ]
        }
      ]
    },
    {
      "cell_type": "markdown",
      "source": [
        "##### `.generate()`"
      ],
      "metadata": {
        "id": "EcmgemTGAEqH"
      }
    },
    {
      "cell_type": "code",
      "source": [
        "# transformers generate method\n",
        "prompt = \"Two roads diverged in a yellow wood, and\"\n",
        "prompt_encoded = tokenizer(prompt, return_tensors=\"pt\") # the \"return_tensors\" thing is important!\n",
        "result = model.generate(**prompt_encoded)[0]\n",
        "tokenizer.decode(result, skip_special_tokens=True)"
      ],
      "metadata": {
        "colab": {
          "base_uri": "https://localhost:8080/",
          "height": 124
        },
        "id": "3ozYmCMyAGLA",
        "outputId": "97a4c173-8074-4cd8-dec2-1e3325938ecb"
      },
      "execution_count": null,
      "outputs": [
        {
          "output_type": "stream",
          "name": "stderr",
          "text": [
            "Setting `pad_token_id` to `eos_token_id`:50256 for open-end generation.\n",
            "/usr/local/lib/python3.8/dist-packages/transformers/generation/utils.py:1273: UserWarning: Neither `max_length` nor `max_new_tokens` has been set, `max_length` will default to 50 (`generation_config.max_length`). Controlling `max_length` via the config is deprecated and `max_length` will be removed from the config in v5 of Transformers -- we recommend using `max_new_tokens` to control the maximum length of the generation.\n",
            "  warnings.warn(\n"
          ]
        },
        {
          "output_type": "execute_result",
          "data": {
            "text/plain": [
              "'Two roads diverged in a yellow wood, and another road diverged in a red brick.\\n\\n\\n\\nA white saw, white sheet of wood, and a white wall were added to the roadway at 1 p.m.\\n\\nL'"
            ],
            "application/vnd.google.colaboratory.intrinsic+json": {
              "type": "string"
            }
          },
          "metadata": {},
          "execution_count": 24
        }
      ]
    },
    {
      "cell_type": "code",
      "source": [
        "# set max length for tokens\n",
        "prompt = \"Two roads diverged in a yellow wood, and\"\n",
        "prompt_encoded = tokenizer(prompt, return_tensors=\"pt\")\n",
        "result = model.generate(**prompt_encoded, max_length=250)[0]\n",
        "tokenizer.decode(result, skip_special_tokens=True)"
      ],
      "metadata": {
        "colab": {
          "base_uri": "https://localhost:8080/",
          "height": 174
        },
        "id": "f30M9Zg4ALKG",
        "outputId": "08a467ba-3bf2-4ccb-f581-7d736eafa4ac"
      },
      "execution_count": null,
      "outputs": [
        {
          "output_type": "stream",
          "name": "stderr",
          "text": [
            "Setting `pad_token_id` to `eos_token_id`:50256 for open-end generation.\n"
          ]
        },
        {
          "output_type": "execute_result",
          "data": {
            "text/plain": [
              "'Two roads diverged in a yellow wood, and a red tarp over the highway just north of the crash site.\\n\\n\\n\\n\\n\\nThe highway reopened Thursday afternoon at 6:10 a.m. when a tractor truck was heading northeast, authorities said.\\n\\n\\n\\nA second tractor was spotted at a stop just west of the crash site.\\n\\nA third truck that crashed on the road near the crash site was southbound on the westbound highway just north of the crash site.\\nCrews continued to monitor the scene, officials said.\\nThere was no damage to the wreck, as well as some repairs to the bridge and tunnel.\\nThe wreck site is located at the intersection of 3rd Avenue and 13th at an intersection of 12th Avenue and 13th and the wreck site is located at the intersection of 4th Avenue and 13th and the crash site is located at the intersection of 4th Avenue and 13th and the crash site is located at the intersection of 4th Avenue and 13th and the crash site is located at the intersection of 4th Avenue and 13th and the crash site is located at the intersection of 4th Avenue and 13th and the crash site is located at the intersection of'"
            ],
            "application/vnd.google.colaboratory.intrinsic+json": {
              "type": "string"
            }
          },
          "metadata": {},
          "execution_count": 25
        }
      ]
    },
    {
      "cell_type": "markdown",
      "source": [
        "#### Pipeline Approaches"
      ],
      "metadata": {
        "id": "TKEpCK97ARIN"
      }
    },
    {
      "cell_type": "code",
      "source": [
        "# set the model/tokenizer\n",
        "generator = pipeline('text-generation', model=model, tokenizer=tokenizer)\n",
        "\n",
        "# call generator\n",
        "generator(\"Two roads diverged in a yellow\",\n",
        "          max_length=100)"
      ],
      "metadata": {
        "colab": {
          "base_uri": "https://localhost:8080/"
        },
        "id": "KHv9nGG9ASZT",
        "outputId": "1100b876-739e-47ba-8d4d-f6276151be6a"
      },
      "execution_count": null,
      "outputs": [
        {
          "output_type": "stream",
          "name": "stderr",
          "text": [
            "Setting `pad_token_id` to `eos_token_id`:50256 for open-end generation.\n"
          ]
        },
        {
          "output_type": "execute_result",
          "data": {
            "text/plain": [
              "[{'generated_text': 'Two roads diverged in a yellow spot\\n\\n\\n\\n\\nThe road, west of Sydney, is being investigated as a violent one, police have confirmed.\\n\\n\\nMural injuries occurred after the incident on March 27.\\n\\n\\nPolice said traffic, including cars and vehicles were also in control.\\nAn ambulance arrived and took the crash victim to hospital.\\nThe South East Coast Highway on Adelaide Bridge was closed and the road closed down.'}]"
            ]
          },
          "metadata": {},
          "execution_count": 26
        }
      ]
    },
    {
      "cell_type": "code",
      "source": [
        "# another generator example\n",
        "generator(\"Two roads diverged in a yellow\",\n",
        "          max_length=100)[0]['generated_text']"
      ],
      "metadata": {
        "colab": {
          "base_uri": "https://localhost:8080/",
          "height": 104
        },
        "id": "3O53FvwXAYQK",
        "outputId": "50bbd2db-249e-423e-e0f4-3ea082658de8"
      },
      "execution_count": null,
      "outputs": [
        {
          "output_type": "stream",
          "name": "stderr",
          "text": [
            "Setting `pad_token_id` to `eos_token_id`:50256 for open-end generation.\n"
          ]
        },
        {
          "output_type": "execute_result",
          "data": {
            "text/plain": [
              "'Two roads diverged in a yellow van. He jumped out of the vehicle and into the black van. \"He was on the edge of a hill, very big and in pain,\" said Lt. Jim Toles, an officer with the Division of Public Safety.\\n\\n\\n\\n\\nHis two-day suspension was lifted Monday for first-time felony trespass, which he says took place by accident.\\nPolice in the area reported seeing an elderly man with a long chain of teeth, and he'"
            ],
            "application/vnd.google.colaboratory.intrinsic+json": {
              "type": "string"
            }
          },
          "metadata": {},
          "execution_count": 27
        }
      ]
    },
    {
      "cell_type": "markdown",
      "source": [
        "##### Fine-Tuning the Prompt"
      ],
      "metadata": {
        "id": "XG3Kl1X8_zA9"
      }
    },
    {
      "cell_type": "code",
      "source": [
        "# film review style\n",
        "print(generator(\"My review of The Road Not Taken, the Movie:\", max_length=100)[0]['generated_text'])"
      ],
      "metadata": {
        "colab": {
          "base_uri": "https://localhost:8080/"
        },
        "id": "5_RGfJomAmCh",
        "outputId": "70caddc3-1ae4-49d8-f082-ec9a12d73fb7"
      },
      "execution_count": null,
      "outputs": [
        {
          "output_type": "stream",
          "name": "stderr",
          "text": [
            "Setting `pad_token_id` to `eos_token_id`:50256 for open-end generation.\n"
          ]
        },
        {
          "output_type": "stream",
          "name": "stdout",
          "text": [
            "My review of The Road Not Taken, the Movie: I Am Losing Your Mind in a Dark World. By J.C. Green. A great review.\n",
            "You read so much. There are so many reasons why you like to watch these movies. My opinion of the film is the same — that this movie is the most expensive movie in the world is a success and I think what people do from a good source can be very positive. To the extent that I was a filmmaker, it\n"
          ]
        }
      ]
    },
    {
      "cell_type": "code",
      "source": [
        "# dialogue/interview style\n",
        "print(generator(\"Allison: I took the road less traveled by.\\nRobert Frost:\",\n",
        "                max_length=100)[0]['generated_text'])"
      ],
      "metadata": {
        "colab": {
          "base_uri": "https://localhost:8080/"
        },
        "id": "lu23MH89ArH-",
        "outputId": "3584c2a0-7475-4dda-8d9e-84b0e60d726c"
      },
      "execution_count": null,
      "outputs": [
        {
          "output_type": "stream",
          "name": "stderr",
          "text": [
            "Setting `pad_token_id` to `eos_token_id`:50256 for open-end generation.\n"
          ]
        },
        {
          "output_type": "stream",
          "name": "stdout",
          "text": [
            "Allison: I took the road less traveled by.\n",
            "Robert Frost: I took off without much time from the road, but when everything else was going to turn out, I thought that I would walk at the pace of a horse, so I followed my foot up the road as fast as possible.\n",
            "Paul: On the same as, if I hadn't gone on a lot of the journey, I wouldn't have done that if I had not already done so. Paul wrote an account of\n"
          ]
        }
      ]
    },
    {
      "cell_type": "code",
      "source": [
        "# favorite facts\n",
        "print(generator(\"My favorite facts about poetry:\\n\\n1.\",\n",
        "                max_length=100)[0]['generated_text'])"
      ],
      "metadata": {
        "colab": {
          "base_uri": "https://localhost:8080/"
        },
        "id": "9o7xGJ4vAweo",
        "outputId": "5fb5e6c2-dde5-4ee7-cccf-0817d9c22893"
      },
      "execution_count": null,
      "outputs": [
        {
          "output_type": "stream",
          "name": "stderr",
          "text": [
            "Setting `pad_token_id` to `eos_token_id`:50256 for open-end generation.\n"
          ]
        },
        {
          "output_type": "stream",
          "name": "stdout",
          "text": [
            "My favorite facts about poetry:\n",
            "\n",
            "1. Your favourite poet has always been one who has not lived with any form of formal intellectual structure (although in many cases, the idea that he has had an interest in a particular one—that he has never had a literary passion—is really just an outgrowth of a lot of \"hippie\" writing and poetry for that same reason.\"\n",
            "2. The original idea of a literary writer was not a literary philosophy of literary thought and poetry.\n"
          ]
        }
      ]
    },
    {
      "cell_type": "markdown",
      "source": [
        "##### Fine-Tuning Probabilities"
      ],
      "metadata": {
        "id": "P91Oh32qA5bm"
      }
    },
    {
      "cell_type": "code",
      "source": [
        "# set manual probability\n",
        "tokens = ['know', 'knew', 'smell', 'see', 'am']\n",
        "probs = [0.5, 0.2, 0.15, 0.1, 0.05]\n",
        "\n",
        "index = torch.multinomial(torch.tensor(probs), 1).item()\n",
        "print(tokens[index])"
      ],
      "metadata": {
        "colab": {
          "base_uri": "https://localhost:8080/"
        },
        "id": "4K-qHqAIBA3l",
        "outputId": "39506e00-3fd4-4df1-d3f1-7d4fd976396b"
      },
      "execution_count": null,
      "outputs": [
        {
          "output_type": "stream",
          "name": "stdout",
          "text": [
            "know\n"
          ]
        }
      ]
    },
    {
      "cell_type": "code",
      "source": [
        "# modified probability in a for loop\n",
        "for i in range(10):\n",
        "    index = torch.multinomial(torch.tensor(probs), 1).item()\n",
        "    print(tokens[index])"
      ],
      "metadata": {
        "colab": {
          "base_uri": "https://localhost:8080/"
        },
        "id": "uhJR19HIBJtv",
        "outputId": "f3b91ceb-5f13-4607-d803-7049f1341ac9"
      },
      "execution_count": null,
      "outputs": [
        {
          "output_type": "stream",
          "name": "stdout",
          "text": [
            "know\n",
            "knew\n",
            "know\n",
            "am\n",
            "smell\n",
            "know\n",
            "knew\n",
            "know\n",
            "know\n",
            "know\n"
          ]
        }
      ]
    },
    {
      "cell_type": "code",
      "source": [
        "# temperature framework\n",
        "for temperature in [0.1, 0.35, 1.0, 2.0, 50.0]:\n",
        "    modified = torch.softmax(\n",
        "        torch.log(torch.tensor(probs)) / temperature, dim=-1)\n",
        "    print(f\"temperature {temperature:0.02f}\")\n",
        "    for tok, prob in zip(tokens, modified):\n",
        "        print(tok.ljust(6), \"→\", f\"{prob:0.002f}\")\n",
        "    print()"
      ],
      "metadata": {
        "colab": {
          "base_uri": "https://localhost:8080/"
        },
        "id": "eMisvnvKBNh3",
        "outputId": "0746800f-bb91-417f-e0e9-6c3959e285b9"
      },
      "execution_count": null,
      "outputs": [
        {
          "output_type": "stream",
          "name": "stdout",
          "text": [
            "temperature 0.10\n",
            "know   → 1.00\n",
            "knew   → 0.00\n",
            "smell  → 0.00\n",
            "see    → 0.00\n",
            "am     → 0.00\n",
            "\n",
            "temperature 0.35\n",
            "know   → 0.90\n",
            "knew   → 0.07\n",
            "smell  → 0.03\n",
            "see    → 0.01\n",
            "am     → 0.00\n",
            "\n",
            "temperature 1.00\n",
            "know   → 0.50\n",
            "knew   → 0.20\n",
            "smell  → 0.15\n",
            "see    → 0.10\n",
            "am     → 0.05\n",
            "\n",
            "temperature 2.00\n",
            "know   → 0.34\n",
            "knew   → 0.21\n",
            "smell  → 0.19\n",
            "see    → 0.15\n",
            "am     → 0.11\n",
            "\n",
            "temperature 50.00\n",
            "know   → 0.20\n",
            "knew   → 0.20\n",
            "smell  → 0.20\n",
            "see    → 0.20\n",
            "am     → 0.20\n",
            "\n"
          ]
        }
      ]
    },
    {
      "cell_type": "markdown",
      "source": [
        "###### Examples"
      ],
      "metadata": {
        "id": "1kgH0Iz0BTVM"
      }
    },
    {
      "cell_type": "code",
      "source": [
        "# first example\n",
        "generator(\"Two roads diverged in a yellow\",\n",
        "          temperature=0.1,\n",
        "          max_length=100)[0]['generated_text']"
      ],
      "metadata": {
        "colab": {
          "base_uri": "https://localhost:8080/",
          "height": 87
        },
        "id": "tht1_NSKBUf7",
        "outputId": "99142901-28e6-4b5e-b0f4-3d3d52dbf8c3"
      },
      "execution_count": null,
      "outputs": [
        {
          "output_type": "stream",
          "name": "stderr",
          "text": [
            "Setting `pad_token_id` to `eos_token_id`:50256 for open-end generation.\n"
          ]
        },
        {
          "output_type": "execute_result",
          "data": {
            "text/plain": [
              "'Two roads diverged in a yellow light, and the police said they were investigating the incident.\\n\\n\\n\\n\\n\\n\\n\\n\\n\\n\\n\\n\\n\\n\\n\\n\\n\\n\\n\\n\\n\\n\\n\\n\\n\\n\\n\\n\\n\\n\\n\\n\\n\\n\\n\\n\\n\\n\\n\\n\\n\\n\\n\\n\\n\\n\\n\\n\\n\\n\\n\\n\\n\\n\\n\\n\\n\\n\\n\\n\\n\\n\\n\\n\\n\\n\\n\\n\\n\\n\\n\\n\\n\\n\\n\\n\\n\\n\\n\\n\\n'"
            ],
            "application/vnd.google.colaboratory.intrinsic+json": {
              "type": "string"
            }
          },
          "metadata": {},
          "execution_count": 36
        }
      ]
    },
    {
      "cell_type": "code",
      "source": [
        "# another example\n",
        "generator(\"Two roads diverged in a yellow\",\n",
        "          temperature=4.0,\n",
        "          max_length=100)[0]['generated_text']"
      ],
      "metadata": {
        "colab": {
          "base_uri": "https://localhost:8080/",
          "height": 104
        },
        "id": "CO9zDBvCBXTc",
        "outputId": "c045fc90-55dc-4502-ce42-371cc1ad9ccb"
      },
      "execution_count": null,
      "outputs": [
        {
          "output_type": "stream",
          "name": "stderr",
          "text": [
            "Setting `pad_token_id` to `eos_token_id`:50256 for open-end generation.\n"
          ]
        },
        {
          "output_type": "execute_result",
          "data": {
            "text/plain": [
              "\"Two roads diverged in a yellow Toyota and red Nissan Camibu as U of S's was attacked on several highway near Westfield Avenue just in time for routine updates and security cameras that were part time of U+ and the traffic on westward when emergency crews responded Thursday at Waverts Ferry crossing.The reports come into view of just minutes from traffic lanes south-west over a mile from Kline Road south through Kneelington County.Fire workers were at Wervtencourt with three\""
            ],
            "application/vnd.google.colaboratory.intrinsic+json": {
              "type": "string"
            }
          },
          "metadata": {},
          "execution_count": 39
        }
      ]
    },
    {
      "cell_type": "markdown",
      "source": [
        "##### Top-K Sampling"
      ],
      "metadata": {
        "id": "EZ8Bx6v2Bp1G"
      }
    },
    {
      "cell_type": "code",
      "source": [
        "# first example\n",
        "generator(\"Two roads diverged in a yellow\",\n",
        "          top_k=tokenizer.vocab_size,\n",
        "          max_length=100)[0]['generated_text']"
      ],
      "metadata": {
        "colab": {
          "base_uri": "https://localhost:8080/",
          "height": 87
        },
        "id": "oBZPKvEvBq7R",
        "outputId": "63921637-32fd-449a-e415-7237a42a0807"
      },
      "execution_count": null,
      "outputs": [
        {
          "output_type": "stream",
          "name": "stderr",
          "text": [
            "Setting `pad_token_id` to `eos_token_id`:50256 for open-end generation.\n"
          ]
        },
        {
          "output_type": "execute_result",
          "data": {
            "text/plain": [
              "'Two roads diverged in a yellow that alternated between disengaging intersection from Mills Ave., Union Street and Atman Road in which pedestrian officers were trying to reach one in both directions on the Southbound and Southbound lanes.\\n\\n\\n\\n\\n\\n\\n\\n\\n\\n\\n\\n\\n\\n\\n\\n\\n\\n\\n\\n\\n\\n\\n\\n\\n\\n\\n\\n\\n\\n\\n\\n\\n\\n\\n\\n\\n\\n\\n\\n\\n\\n\\n\\n\\n\\n\\n\\n\\n\\n\\n\\n\\n\\n\\n'"
            ],
            "application/vnd.google.colaboratory.intrinsic+json": {
              "type": "string"
            }
          },
          "metadata": {},
          "execution_count": 40
        }
      ]
    },
    {
      "cell_type": "code",
      "source": [
        "# another example\n",
        "generator(\"Two roads diverged in a yellow\",\n",
        "          top_k=tokenizer.vocab_size,\n",
        "          temperature=1.2,\n",
        "          max_length=100)[0]['generated_text']"
      ],
      "metadata": {
        "id": "EIRIbaXLBud-"
      },
      "execution_count": null,
      "outputs": []
    },
    {
      "cell_type": "code",
      "source": [
        "# third example\n",
        "generator(\"Two roads diverged in a yellow\",\n",
        "          top_k=1,\n",
        "          max_length=100)[0]['generated_text']"
      ],
      "metadata": {
        "id": "VetmTV8oBw7b"
      },
      "execution_count": null,
      "outputs": []
    },
    {
      "cell_type": "markdown",
      "source": [
        "##### Messing With Filters"
      ],
      "metadata": {
        "id": "Wg4f9gkCBywk"
      }
    },
    {
      "cell_type": "code",
      "source": [
        "# filteirng out day/night\n",
        "generator(\"It was a dark and stormy\",\n",
        "          bad_words_ids=tokenizer([\" night\", \" day\"]).input_ids)[0]['generated_text']"
      ],
      "metadata": {
        "colab": {
          "base_uri": "https://localhost:8080/",
          "height": 70
        },
        "id": "HU3h1NwAB8OW",
        "outputId": "e6217d33-9154-464b-8fec-1f56f7c85f1d"
      },
      "execution_count": null,
      "outputs": [
        {
          "output_type": "stream",
          "name": "stderr",
          "text": [
            "Setting `pad_token_id` to `eos_token_id`:50256 for open-end generation.\n"
          ]
        },
        {
          "output_type": "execute_result",
          "data": {
            "text/plain": [
              "'It was a dark and stormy time in the world of gaming and television. The events of the last few years have been incredibly difficult to describe since the start of the development, the success, and the dedication of the people of this country. For'"
            ],
            "application/vnd.google.colaboratory.intrinsic+json": {
              "type": "string"
            }
          },
          "metadata": {},
          "execution_count": 41
        }
      ]
    },
    {
      "cell_type": "code",
      "source": [
        "# filtering out all be verb forms\n",
        "generator(\"Once upon a time,\",\n",
        "          bad_words_ids=tokenizer(\n",
        "              [\"be\", \" be\",\n",
        "               \"am\", \" am\",\n",
        "               \"are\", \" are\",\n",
        "               \"is\", \" is\",\n",
        "               \"was\", \" was\",\n",
        "               \"were\", \" were\"]).input_ids,\n",
        "          max_length=100)[0]['generated_text']"
      ],
      "metadata": {
        "colab": {
          "base_uri": "https://localhost:8080/",
          "height": 52
        },
        "id": "_FYtvafACBsC",
        "outputId": "380eb44b-c121-4069-ed62-f0eaa2e33f70"
      },
      "execution_count": null,
      "outputs": [
        {
          "output_type": "stream",
          "name": "stderr",
          "text": [
            "Setting `pad_token_id` to `eos_token_id`:50256 for open-end generation.\n"
          ]
        },
        {
          "output_type": "execute_result",
          "data": {
            "text/plain": [
              "'Once upon a time, he would think he would feel good being here.'"
            ],
            "application/vnd.google.colaboratory.intrinsic+json": {
              "type": "string"
            }
          },
          "metadata": {},
          "execution_count": 42
        }
      ]
    },
    {
      "cell_type": "code",
      "source": [
        "# filter out tokens for all words that include \"e\"\n",
        "forbidden_ids = []\n",
        "for key, val in tokenizer.get_vocab().items():\n",
        "    if 'e' in key:\n",
        "        forbidden_ids.append([val]) # needs to be a list of lists\n",
        "print(generator(\"Last month, I\",\n",
        "          bad_words_ids=forbidden_ids,\n",
        "          max_length=100)[0]['generated_text'])"
      ],
      "metadata": {
        "colab": {
          "base_uri": "https://localhost:8080/"
        },
        "id": "F6mWi5ELCFsG",
        "outputId": "8843e923-f027-48df-80e8-3f8e2506d8a3"
      },
      "execution_count": null,
      "outputs": [
        {
          "output_type": "stream",
          "name": "stderr",
          "text": [
            "Setting `pad_token_id` to `eos_token_id`:50256 for open-end generation.\n"
          ]
        },
        {
          "output_type": "stream",
          "name": "stdout",
          "text": [
            "Last month, I had at a loss to admit that I was wrong.\n",
            "\n",
            "This post has drawn a lot of scorn.\n",
            "If you’ll join in, you’ should join in. I will try to show our support towards any of you.\n",
            "First of all, I can’t say that I don’t know any of you about you, but I am just saying—oh god, I was thinking—that this is just a bit of an out\n"
          ]
        }
      ]
    },
    {
      "cell_type": "markdown",
      "source": [
        "##### Fine-Tuning the Model"
      ],
      "metadata": {
        "id": "zfDaUbezCNQf"
      }
    },
    {
      "cell_type": "code",
      "source": [
        "# install datasets\n",
        "import sys\n",
        "!{sys.executable} -m pip install datasets"
      ],
      "metadata": {
        "colab": {
          "base_uri": "https://localhost:8080/"
        },
        "id": "D5CdFHecCQAQ",
        "outputId": "43266931-0168-427b-c5be-555d6f77bfc1"
      },
      "execution_count": null,
      "outputs": [
        {
          "output_type": "stream",
          "name": "stdout",
          "text": [
            "Looking in indexes: https://pypi.org/simple, https://us-python.pkg.dev/colab-wheels/public/simple/\n",
            "Requirement already satisfied: datasets in /usr/local/lib/python3.8/dist-packages (2.10.0)\n",
            "Requirement already satisfied: dill<0.3.7,>=0.3.0 in /usr/local/lib/python3.8/dist-packages (from datasets) (0.3.6)\n",
            "Requirement already satisfied: multiprocess in /usr/local/lib/python3.8/dist-packages (from datasets) (0.70.14)\n",
            "Requirement already satisfied: xxhash in /usr/local/lib/python3.8/dist-packages (from datasets) (3.2.0)\n",
            "Requirement already satisfied: pyyaml>=5.1 in /usr/local/lib/python3.8/dist-packages (from datasets) (6.0)\n",
            "Requirement already satisfied: tqdm>=4.62.1 in /usr/local/lib/python3.8/dist-packages (from datasets) (4.64.1)\n",
            "Requirement already satisfied: pyarrow>=6.0.0 in /usr/local/lib/python3.8/dist-packages (from datasets) (9.0.0)\n",
            "Requirement already satisfied: packaging in /usr/local/lib/python3.8/dist-packages (from datasets) (23.0)\n",
            "Requirement already satisfied: aiohttp in /usr/local/lib/python3.8/dist-packages (from datasets) (3.8.4)\n",
            "Requirement already satisfied: responses<0.19 in /usr/local/lib/python3.8/dist-packages (from datasets) (0.18.0)\n",
            "Requirement already satisfied: numpy>=1.17 in /usr/local/lib/python3.8/dist-packages (from datasets) (1.22.4)\n",
            "Requirement already satisfied: requests>=2.19.0 in /usr/local/lib/python3.8/dist-packages (from datasets) (2.25.1)\n",
            "Requirement already satisfied: pandas in /usr/local/lib/python3.8/dist-packages (from datasets) (1.3.5)\n",
            "Requirement already satisfied: huggingface-hub<1.0.0,>=0.2.0 in /usr/local/lib/python3.8/dist-packages (from datasets) (0.12.1)\n",
            "Requirement already satisfied: fsspec[http]>=2021.11.1 in /usr/local/lib/python3.8/dist-packages (from datasets) (2023.1.0)\n",
            "Requirement already satisfied: attrs>=17.3.0 in /usr/local/lib/python3.8/dist-packages (from aiohttp->datasets) (22.2.0)\n",
            "Requirement already satisfied: frozenlist>=1.1.1 in /usr/local/lib/python3.8/dist-packages (from aiohttp->datasets) (1.3.3)\n",
            "Requirement already satisfied: aiosignal>=1.1.2 in /usr/local/lib/python3.8/dist-packages (from aiohttp->datasets) (1.3.1)\n",
            "Requirement already satisfied: yarl<2.0,>=1.0 in /usr/local/lib/python3.8/dist-packages (from aiohttp->datasets) (1.8.2)\n",
            "Requirement already satisfied: multidict<7.0,>=4.5 in /usr/local/lib/python3.8/dist-packages (from aiohttp->datasets) (6.0.4)\n",
            "Requirement already satisfied: charset-normalizer<4.0,>=2.0 in /usr/local/lib/python3.8/dist-packages (from aiohttp->datasets) (3.0.1)\n",
            "Requirement already satisfied: async-timeout<5.0,>=4.0.0a3 in /usr/local/lib/python3.8/dist-packages (from aiohttp->datasets) (4.0.2)\n",
            "Requirement already satisfied: typing-extensions>=3.7.4.3 in /usr/local/lib/python3.8/dist-packages (from huggingface-hub<1.0.0,>=0.2.0->datasets) (4.5.0)\n",
            "Requirement already satisfied: filelock in /usr/local/lib/python3.8/dist-packages (from huggingface-hub<1.0.0,>=0.2.0->datasets) (3.9.0)\n",
            "Requirement already satisfied: certifi>=2017.4.17 in /usr/local/lib/python3.8/dist-packages (from requests>=2.19.0->datasets) (2022.12.7)\n",
            "Requirement already satisfied: idna<3,>=2.5 in /usr/local/lib/python3.8/dist-packages (from requests>=2.19.0->datasets) (2.10)\n",
            "Requirement already satisfied: chardet<5,>=3.0.2 in /usr/local/lib/python3.8/dist-packages (from requests>=2.19.0->datasets) (4.0.0)\n",
            "Requirement already satisfied: urllib3<1.27,>=1.21.1 in /usr/local/lib/python3.8/dist-packages (from requests>=2.19.0->datasets) (1.26.14)\n",
            "Requirement already satisfied: python-dateutil>=2.7.3 in /usr/local/lib/python3.8/dist-packages (from pandas->datasets) (2.8.2)\n",
            "Requirement already satisfied: pytz>=2017.3 in /usr/local/lib/python3.8/dist-packages (from pandas->datasets) (2022.7.1)\n",
            "Requirement already satisfied: six>=1.5 in /usr/local/lib/python3.8/dist-packages (from python-dateutil>=2.7.3->pandas->datasets) (1.15.0)\n"
          ]
        }
      ]
    },
    {
      "cell_type": "code",
      "source": [
        "# import\n",
        "import datasets"
      ],
      "metadata": {
        "id": "D5QP9NX7CX7e"
      },
      "execution_count": null,
      "outputs": []
    },
    {
      "cell_type": "code",
      "source": [
        "# load frankenstein text\n",
        "!curl -L -O https://www.gutenberg.org/cache/epub/84/pg84.txt"
      ],
      "metadata": {
        "colab": {
          "base_uri": "https://localhost:8080/"
        },
        "id": "flCfbHqmCkKw",
        "outputId": "3c74a76d-3668-467a-ce8a-8c8a15935972"
      },
      "execution_count": null,
      "outputs": [
        {
          "output_type": "stream",
          "name": "stdout",
          "text": [
            "  % Total    % Received % Xferd  Average Speed   Time    Time     Time  Current\n",
            "                                 Dload  Upload   Total   Spent    Left  Speed\n",
            "100  438k  100  438k    0     0  1564k      0 --:--:-- --:--:-- --:--:-- 1564k\n"
          ]
        }
      ]
    },
    {
      "cell_type": "code",
      "source": [
        "# filter for first 20K characters\n",
        "with open(\"84-0-20k.txt\", \"w\") as fh:\n",
        "    fh.write(open(\"pg84.txt\").read()[:20000])"
      ],
      "metadata": {
        "id": "wGZiF3I3CRYk"
      },
      "execution_count": null,
      "outputs": []
    },
    {
      "cell_type": "code",
      "source": [
        "# load dataset\n",
        "training_data = datasets.load_dataset('text', data_files=\"84-0-20k.txt\")"
      ],
      "metadata": {
        "colab": {
          "base_uri": "https://localhost:8080/",
          "height": 168,
          "referenced_widgets": [
            "94e759bbe974435c8dc2f7145169adca",
            "2ee04fce996f42dbaa687bcc9d841369",
            "9b4f49356e0d46c7a24f62e1c34761da",
            "b03d2c7bef724ac0a111a63698dc431a",
            "0f6b7cd95e604f229af0800b6832754c",
            "b726928f038648aca8b08fcc5ae9df7e",
            "7b7cfd78c35a4a8ea8f270aa3c8e96cc",
            "fa96f840f28141db95a4ed5a1ef33ea6",
            "4849b1e82a5e42e99613e3624b9c11e6",
            "e75d0dfd513d4512a997d3a862828bdf",
            "b917133a69fd49e693422ad1a39d51fc",
            "b5c44cc659164a9d9dc4528b82480054",
            "821e1bdf34794dcdad2169cf6c262962",
            "4c57fbb2a72f4133ab32f35ee2b4a6d6",
            "219a2fafd4da47b49a3b3446c5d4c6ca",
            "101260400afd4e32ab2411b4f3e2bc3a",
            "8e7927dd89a94111bc43a9e9f14e1ebe",
            "d30bd7e2e4874069a7c5304ab4e79ab6",
            "64c6780fce5d430e98f6ea4f5abc8520",
            "dfbd791e84a54bd3908c17ca9e9310a7",
            "6393e337cd6745bf87725ce55b7ecf80",
            "f93f26b463fb4922ac983c72c035ae68",
            "cc233cbf1eb941af8477cbdeaaa6fb99",
            "6dbdbd1b61924df8a500e1c611e1e8bc",
            "c539f858e1d342e68f17941df8bc8031",
            "c241742e4aac439d897111e74f1bf0db",
            "86fb77b3218243ab848db4edb1b5b4f1",
            "e2eeeb15567549ecb9c3c1b5365246ab",
            "e2377a5ae7db4fc6ac4bec553bccb3c4",
            "67799664bbc94e288d6c62e65a675c5c",
            "d05f8546235d4efb8e162d83078a0315",
            "6594088df3e4426584bff227b39875c6",
            "0c8f16a99ec24671ba0b1fce7b8ded99",
            "2ece6643e8dc48029f476a7a2ff8ffc4",
            "0e5ee18505eb4a0fae6872714a6aac5d",
            "d2e70e03827b4611b5856d5eca40cb79",
            "3d725bcc49464f3badf3431512838c79",
            "c60fe4b7c9d04f6eab115638a01fbda8",
            "b43b60d594a44cbd9bf515c123d817da",
            "7c9876d5b89845ab8ff56c9f9c3cd813",
            "9f3e7b50bdac4c26a6ad0f4d02e7d1d7",
            "2eed3ea268634b5cba86a85a482036c2",
            "3b3ed074d752440a829027eafec1ffa6",
            "1d39c0e96c8b4a9dbf05c5188cdd5ec7"
          ]
        },
        "id": "Q1XYEceRC_Ps",
        "outputId": "10ba50b0-c45c-48c0-c23e-412f62ab0b38"
      },
      "execution_count": null,
      "outputs": [
        {
          "output_type": "stream",
          "name": "stdout",
          "text": [
            "Downloading and preparing dataset text/default to /root/.cache/huggingface/datasets/text/default-bc2c885b88915351/0.0.0/cb1e9bd71a82ad27976be3b12b407850fe2837d80c22c5e03a28949843a8ace2...\n"
          ]
        },
        {
          "output_type": "display_data",
          "data": {
            "text/plain": [
              "Downloading data files:   0%|          | 0/1 [00:00<?, ?it/s]"
            ],
            "application/vnd.jupyter.widget-view+json": {
              "version_major": 2,
              "version_minor": 0,
              "model_id": "94e759bbe974435c8dc2f7145169adca"
            }
          },
          "metadata": {}
        },
        {
          "output_type": "display_data",
          "data": {
            "text/plain": [
              "Extracting data files:   0%|          | 0/1 [00:00<?, ?it/s]"
            ],
            "application/vnd.jupyter.widget-view+json": {
              "version_major": 2,
              "version_minor": 0,
              "model_id": "b5c44cc659164a9d9dc4528b82480054"
            }
          },
          "metadata": {}
        },
        {
          "output_type": "display_data",
          "data": {
            "text/plain": [
              "Generating train split: 0 examples [00:00, ? examples/s]"
            ],
            "application/vnd.jupyter.widget-view+json": {
              "version_major": 2,
              "version_minor": 0,
              "model_id": "cc233cbf1eb941af8477cbdeaaa6fb99"
            }
          },
          "metadata": {}
        },
        {
          "output_type": "stream",
          "name": "stdout",
          "text": [
            "Dataset text downloaded and prepared to /root/.cache/huggingface/datasets/text/default-bc2c885b88915351/0.0.0/cb1e9bd71a82ad27976be3b12b407850fe2837d80c22c5e03a28949843a8ace2. Subsequent calls will reuse this data.\n"
          ]
        },
        {
          "output_type": "display_data",
          "data": {
            "text/plain": [
              "  0%|          | 0/1 [00:00<?, ?it/s]"
            ],
            "application/vnd.jupyter.widget-view+json": {
              "version_major": 2,
              "version_minor": 0,
              "model_id": "2ece6643e8dc48029f476a7a2ff8ffc4"
            }
          },
          "metadata": {}
        }
      ]
    },
    {
      "cell_type": "code",
      "source": [
        "# tokenize\n",
        "tokenizer.pad_token = tokenizer.eos_token\n",
        "tokenized_training_data = training_data.map(\n",
        "    lambda x: tokenizer(x['text']),\n",
        "    remove_columns=[\"text\"]\n",
        ")"
      ],
      "metadata": {
        "colab": {
          "base_uri": "https://localhost:8080/",
          "height": 17,
          "referenced_widgets": [
            "9974bff339af49018eb22cbf09cf8e3d",
            "680c6096a18b49d48c280daff4f22fa9",
            "63d0307b69f34fbb8239bafe82ffb8f7",
            "fe8f21468a1e4b878530e8353cfface5",
            "d4629cd390cb443597969a1a39b1aee6",
            "a717b6412d5d466a99d36e89504be975",
            "e910e91cf6b94a24b6e7fb4c2392ba37",
            "5dea5bfe174a48d0994ea38286ff22e8",
            "d9ae8b7edb224dff9d98ce3b5d60e5c3",
            "488854ac75774260bfdb9f3c04d85e89",
            "c231756b16b648f886d66ed88cd567bb"
          ]
        },
        "id": "7HRqWW7JDBJO",
        "outputId": "656fc3fd-4cec-4d50-e163-2480165c94b9"
      },
      "execution_count": null,
      "outputs": [
        {
          "output_type": "display_data",
          "data": {
            "text/plain": [
              "Map:   0%|          | 0/419 [00:00<?, ? examples/s]"
            ],
            "application/vnd.jupyter.widget-view+json": {
              "version_major": 2,
              "version_minor": 0,
              "model_id": "9974bff339af49018eb22cbf09cf8e3d"
            }
          },
          "metadata": {}
        }
      ]
    },
    {
      "cell_type": "code",
      "source": [
        "# batch tokens\n",
        "block_size = 64\n",
        "# magic from https://github.com/huggingface/notebooks/blob/master/examples/language_modeling.ipynb\n",
        "def group_texts(examples):\n",
        "    concatenated_examples = {k: sum(examples[k], []) for k in examples.keys()}\n",
        "    total_length = len(concatenated_examples[list(examples.keys())[0]])\n",
        "    total_length = (total_length // block_size) * block_size\n",
        "    result = {\n",
        "        k: [t[i : i + block_size] for i in range(0, total_length, block_size)]\n",
        "        for k, t in concatenated_examples.items()\n",
        "    }\n",
        "    result[\"labels\"] = result[\"input_ids\"].copy()\n",
        "    return result\n",
        "lm_training_data = tokenized_training_data.map(\n",
        "    group_texts,\n",
        "    batched=True,\n",
        "    batch_size=200\n",
        ")"
      ],
      "metadata": {
        "colab": {
          "base_uri": "https://localhost:8080/",
          "height": 17,
          "referenced_widgets": [
            "69360b0ae4044fabbd1aae0ea7ab0b5c",
            "f244d4852ac142e8acb0f82f4e446983",
            "d8bff83c8bbd4a3b877724431e17a8e3",
            "dec1411aff3d47e787380523b48db621",
            "9d0d45139d90476192a009b9d6d4701b",
            "bd79763ec58a4971b3cfd73f496e1228",
            "1c1f63060a0f4d50936e48f952a40ca4",
            "2b7708fe0e0d44b8b3ba5cb14c21b080",
            "108cd4a3c7fc47c9810a9df0fd8c4dcf",
            "93bcf3c959fb45539876109a9301025f",
            "c057b401ba934c88b2e8843e7f1468af"
          ]
        },
        "id": "jqz9NNL8DEgL",
        "outputId": "34e58987-440f-47b4-9e15-f88daaae9721"
      },
      "execution_count": null,
      "outputs": [
        {
          "output_type": "display_data",
          "data": {
            "text/plain": [
              "Map:   0%|          | 0/419 [00:00<?, ? examples/s]"
            ],
            "application/vnd.jupyter.widget-view+json": {
              "version_major": 2,
              "version_minor": 0,
              "model_id": "69360b0ae4044fabbd1aae0ea7ab0b5c"
            }
          },
          "metadata": {}
        }
      ]
    },
    {
      "cell_type": "code",
      "source": [
        "# training loop\n",
        "from transformers import Trainer, TrainingArguments\n",
        "trainer = Trainer(model=model,\n",
        "                  train_dataset=lm_training_data['train'],\n",
        "                  args=TrainingArguments(\n",
        "                      output_dir='distilgpt2-finetune-frankenstein20k',\n",
        "                      num_train_epochs=1,\n",
        "                      do_train=True,\n",
        "                      do_eval=False\n",
        "                  ),\n",
        "                  tokenizer=tokenizer)\n",
        "trainer.train()\n",
        "trainer.save_model()"
      ],
      "metadata": {
        "colab": {
          "base_uri": "https://localhost:8080/",
          "height": 512
        },
        "id": "L49A0IKGDG0s",
        "outputId": "bde902f2-d8c6-44c8-ed36-d0b7e2f8a549"
      },
      "execution_count": null,
      "outputs": [
        {
          "output_type": "stream",
          "name": "stderr",
          "text": [
            "PyTorch: setting up devices\n",
            "The default value for the training argument `--report_to` will change in v5 (from all installed integrations to none). In v5, you will need to use `--report_to all` to get the same behavior as now. You should start updating your code and make this info disappear :-).\n",
            "/usr/local/lib/python3.8/dist-packages/transformers/optimization.py:306: FutureWarning: This implementation of AdamW is deprecated and will be removed in a future version. Use the PyTorch implementation torch.optim.AdamW instead, or set `no_deprecation_warning=True` to disable this warning\n",
            "  warnings.warn(\n",
            "***** Running training *****\n",
            "  Num examples = 66\n",
            "  Num Epochs = 1\n",
            "  Instantaneous batch size per device = 8\n",
            "  Total train batch size (w. parallel, distributed & accumulation) = 8\n",
            "  Gradient Accumulation steps = 1\n",
            "  Total optimization steps = 9\n",
            "  Number of trainable parameters = 81912576\n",
            "You're using a GPT2TokenizerFast tokenizer. Please note that with a fast tokenizer, using the `__call__` method is faster than using a method to encode the text followed by a call to the `pad` method to get a padded encoding.\n"
          ]
        },
        {
          "output_type": "display_data",
          "data": {
            "text/plain": [
              "<IPython.core.display.HTML object>"
            ],
            "text/html": [
              "\n",
              "    <div>\n",
              "      \n",
              "      <progress value='9' max='9' style='width:300px; height:20px; vertical-align: middle;'></progress>\n",
              "      [9/9 01:26, Epoch 1/1]\n",
              "    </div>\n",
              "    <table border=\"1\" class=\"dataframe\">\n",
              "  <thead>\n",
              " <tr style=\"text-align: left;\">\n",
              "      <th>Step</th>\n",
              "      <th>Training Loss</th>\n",
              "    </tr>\n",
              "  </thead>\n",
              "  <tbody>\n",
              "  </tbody>\n",
              "</table><p>"
            ]
          },
          "metadata": {}
        },
        {
          "output_type": "stream",
          "name": "stderr",
          "text": [
            "\n",
            "\n",
            "Training completed. Do not forget to share your model on huggingface.co/models =)\n",
            "\n",
            "\n",
            "Saving model checkpoint to distilgpt2-finetune-frankenstein20k\n",
            "Configuration saved in distilgpt2-finetune-frankenstein20k/config.json\n",
            "Configuration saved in distilgpt2-finetune-frankenstein20k/generation_config.json\n",
            "Model weights saved in distilgpt2-finetune-frankenstein20k/pytorch_model.bin\n",
            "tokenizer config file saved in distilgpt2-finetune-frankenstein20k/tokenizer_config.json\n",
            "Special tokens file saved in distilgpt2-finetune-frankenstein20k/special_tokens_map.json\n"
          ]
        }
      ]
    },
    {
      "cell_type": "code",
      "source": [
        "# run new model\n",
        "generator(\"Two roads diverged in a yellow\", max_length=100)[0]['generated_text']"
      ],
      "metadata": {
        "colab": {
          "base_uri": "https://localhost:8080/",
          "height": 243
        },
        "id": "yw_1qLGBDWoj",
        "outputId": "f08ee2d0-6b26-408d-cf1b-cfb179ae8579"
      },
      "execution_count": null,
      "outputs": [
        {
          "output_type": "stream",
          "name": "stderr",
          "text": [
            "Generate config GenerationConfig {\n",
            "  \"bos_token_id\": 50256,\n",
            "  \"do_sample\": true,\n",
            "  \"eos_token_id\": 50256,\n",
            "  \"max_length\": 50,\n",
            "  \"transformers_version\": \"4.26.1\"\n",
            "}\n",
            "\n",
            "Setting `pad_token_id` to `eos_token_id`:50256 for open-end generation.\n"
          ]
        },
        {
          "output_type": "execute_result",
          "data": {
            "text/plain": [
              "'Two roads diverged in a yellow pickup truck, apparently as heavy rain had been making off from the town.\\n\\n\\n\\nThe last of the roads was made by the southern bank of Humberland. The road in its rear was not named for its size and was used as a way to bring tourists on a short journey to town. Another way of a route is to meet up. The journey takes two hours, and ends up a daylong journey, and by the time the road was'"
            ],
            "application/vnd.google.colaboratory.intrinsic+json": {
              "type": "string"
            }
          },
          "metadata": {},
          "execution_count": 54
        }
      ]
    },
    {
      "cell_type": "code",
      "source": [
        "# to use the new model in another project\n",
        "my_tokenizer = AutoTokenizer.from_pretrained('distilgpt2-finetune-frankenstein20k')\n",
        "my_model = AutoModelForCausalLM.from_pretrained('distilgpt2-finetune-frankenstein20k')\n",
        "my_generator = pipeline(\"text-generation\", model=my_model, tokenizer=my_tokenizer)\n",
        "\n",
        "my_generator(\"Two roads diverged in a yellow\")[0]['generated_text']"
      ],
      "metadata": {
        "id": "6pgPAiHkDcl4"
      },
      "execution_count": null,
      "outputs": []
    }
  ]
}