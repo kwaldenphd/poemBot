{
  "nbformat": 4,
  "nbformat_minor": 0,
  "metadata": {
    "colab": {
      "provenance": [],
      "toc_visible": true,
      "authorship_tag": "ABX9TyNlVzH/4JMyeprV8HYL/qPZ",
      "include_colab_link": true
    },
    "kernelspec": {
      "name": "python3",
      "display_name": "Python 3"
    },
    "language_info": {
      "name": "python"
    }
  },
  "cells": [
    {
      "cell_type": "markdown",
      "metadata": {
        "id": "view-in-github",
        "colab_type": "text"
      },
      "source": [
        "<a href=\"https://colab.research.google.com/github/kwaldenphd/poemBot/blob/master/olipy.ipynb\" target=\"_parent\"><img src=\"https://colab.research.google.com/assets/colab-badge.svg\" alt=\"Open In Colab\"/></a>"
      ]
    },
    {
      "cell_type": "markdown",
      "source": [
        "## `olipy` (a rare non-Allison Parrish original)\n",
        "\n",
        "\"Olipy is a Python library for artistic text generation. Unlike most software packages, which have a single, unifying purpose. Olipy is more like a set of art supplies. Each module is designed to help you achieve a different aesthetic effect.\"\n",
        "\n",
        "- [documentation](https://pypi.org/project/olipy/)"
      ],
      "metadata": {
        "id": "WJW341qSf1CE"
      }
    },
    {
      "cell_type": "markdown",
      "source": [
        "#### Setup"
      ],
      "metadata": {
        "id": "fiE_onL8uiSb"
      }
    },
    {
      "cell_type": "code",
      "source": [
        "!pip install olipy"
      ],
      "metadata": {
        "id": "_dQFjIxTf0Wq"
      },
      "execution_count": null,
      "outputs": []
    },
    {
      "cell_type": "markdown",
      "source": [
        "#### Scripts\n",
        "\n",
        "`olipy` includes the following scripts (run at the command line)\n",
        "\n",
        "- `olipy.apollo`: Generates dialogue between astronauts and Mission Control. Demonstrates Queneau assembly on dialogue.\n",
        "- `olipy.board_games`: Generates board game names and descriptions. Demonstrates complex Queneau assemblies.\n",
        "- `olipy.corrupt` \"Corrupts\" whatever text is typed in by adding increasing numbers of diacritical marks. Demonstrates the `gibberish.Corruptor` class.\n",
        "- `olipy.dinosaurs`: Generates dinosaur names. Demonstrates Queneau assembly on parts of a word.\n",
        "- `olipy.ebook`s: Selects some lines from a public domain text using the *_ebooks algorithm. Demonstrates the `olipy.gutenberg.ProjectGutenbergText` and `olipy.ebooks.EbooksQuotes` classes.\n",
        "- `olipy.gibberish`: Prints out 140-character string of aesthetically pleasing(?) gibberish. Demonstrates the `gibberish.Gibberish` class.\n",
        "- `olipy.mashteroids`: Generates names and IAU citations for minor planets. Demonstrates Queneau assembly on sentences.\n",
        "- `olipy.sonnet`: Generates Shakespearean sonnets using Queneau assembly.\n",
        "- `olipy.typewriter`: Retypes whatever you type into it, with added typoes.\n",
        "- `olipy.words`: Generates common-looking and obscure-looking English words.\n"
      ],
      "metadata": {
        "id": "22s0v2vMgNw6"
      }
    },
    {
      "cell_type": "code",
      "source": [
        "# sample script\n",
        "!olipy.apollo"
      ],
      "metadata": {
        "id": "nqhCyeQagDni"
      },
      "execution_count": null,
      "outputs": []
    },
    {
      "cell_type": "code",
      "source": [
        "# another sample script\n",
        "!olipy.dinosaurs"
      ],
      "metadata": {
        "id": "YBOMwsSyhDY4"
      },
      "execution_count": null,
      "outputs": []
    },
    {
      "cell_type": "markdown",
      "source": [
        "#### Modules\n",
        "\n",
        "`olipy` includes the following modules\n",
        "- `alphabet`, groups of Unicode characters\n",
        "- `corpora`, Darius Kazemi's [Corpora Project](https://github.com/dariusk/corpora) and other datasets\n",
        "- `ebooks`, text sampling\n",
        "- `gibberish`, Unicode glyphs\n",
        "- `gutenberg`, parses Project Gutenberg texts\n",
        "- `ia`, parses Internet Archive texts\n",
        "- `letterforms`, more Unicode glyphs\n",
        "- `markov`, generates token lists\n",
        "- `mosaic`, symmetrical mosaics from Unicode characters\n",
        "- `queneau`, randomly-created new texts based on existing text structure\n",
        "- `randomness`, more sophisticated random patterns\n",
        "  * Includes `Gradient`, `WanderingMonsterTable` classes\n",
        "- `tokenizer`, NLTK alternative\n",
        "- `typerwriter`, simulates Shining typewriter\n"
      ],
      "metadata": {
        "id": "R4k5vXX2hKet"
      }
    },
    {
      "cell_type": "code",
      "source": [
        "# sample module call\n",
        "from olipy.mosaic import MirroredMosaicGibberish\n",
        "mosaic = MirroredMosaicGibberish()\n",
        "print(mosaic.tweet())"
      ],
      "metadata": {
        "id": "J_1rXwIHig4N"
      },
      "execution_count": null,
      "outputs": []
    },
    {
      "cell_type": "code",
      "source": [
        "# another sample module call\n",
        "from olipy.gibberish import Gibberish\n",
        "print(Gibberish.random().tweet().encode(\"utf8\"))"
      ],
      "metadata": {
        "id": "scPkaXwPj4U7"
      },
      "execution_count": null,
      "outputs": []
    }
  ]
}