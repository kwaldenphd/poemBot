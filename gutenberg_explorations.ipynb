{
  "nbformat": 4,
  "nbformat_minor": 0,
  "metadata": {
    "colab": {
      "provenance": [],
      "mount_file_id": "1PfqleS2Bh4-I3CnOt7tKV-Lc4CHtmhGT",
      "authorship_tag": "ABX9TyNDCTAeQfmuyfbmrNuKj2A0",
      "include_colab_link": true
    },
    "kernelspec": {
      "name": "python3",
      "display_name": "Python 3"
    },
    "language_info": {
      "name": "python"
    }
  },
  "cells": [
    {
      "cell_type": "markdown",
      "metadata": {
        "id": "view-in-github",
        "colab_type": "text"
      },
      "source": [
        "<a href=\"https://colab.research.google.com/github/kwaldenphd/poemBot/blob/master/gutenberg_explorations.ipynb\" target=\"_parent\"><img src=\"https://colab.research.google.com/assets/colab-badge.svg\" alt=\"Open In Colab\"/></a>"
      ]
    },
    {
      "cell_type": "markdown",
      "source": [
        "# Setup & Environment\n",
        "\n"
      ],
      "metadata": {
        "id": "p4w-qpXW-Ap9"
      }
    },
    {
      "cell_type": "markdown",
      "source": [
        "## Install"
      ],
      "metadata": {
        "id": "wqw_WSXJKE9w"
      }
    },
    {
      "cell_type": "code",
      "source": [
        "!pip install pronouncing # https://pronouncing.readthedocs.io/en/latest/\n",
        "!pip install markovify # https://pypi.org/project/markovify/\n",
        "!pip install numpy # https://pypi.org/project/numpy/\n",
        "! pip install scipy # https://pypi.org/project/scipy/"
      ],
      "metadata": {
        "id": "4N2i1prnKGva",
        "colab": {
          "base_uri": "https://localhost:8080/"
        },
        "outputId": "bb400ae0-12d2-4035-e3fe-89598a2b9f99"
      },
      "execution_count": null,
      "outputs": [
        {
          "output_type": "stream",
          "name": "stdout",
          "text": [
            "Looking in indexes: https://pypi.org/simple, https://us-python.pkg.dev/colab-wheels/public/simple/\n",
            "Requirement already satisfied: pronouncing in /usr/local/lib/python3.8/dist-packages (0.2.0)\n",
            "Requirement already satisfied: cmudict>=0.4.0 in /usr/local/lib/python3.8/dist-packages (from pronouncing) (1.0.13)\n",
            "Requirement already satisfied: importlib-resources<6.0.0,>=5.10.1 in /usr/local/lib/python3.8/dist-packages (from cmudict>=0.4.0->pronouncing) (5.12.0)\n",
            "Requirement already satisfied: importlib-metadata<6.0.0,>=5.1.0 in /usr/local/lib/python3.8/dist-packages (from cmudict>=0.4.0->pronouncing) (5.2.0)\n",
            "Requirement already satisfied: zipp>=0.5 in /usr/local/lib/python3.8/dist-packages (from importlib-metadata<6.0.0,>=5.1.0->cmudict>=0.4.0->pronouncing) (3.14.0)\n",
            "Looking in indexes: https://pypi.org/simple, https://us-python.pkg.dev/colab-wheels/public/simple/\n",
            "Requirement already satisfied: markovify in /usr/local/lib/python3.8/dist-packages (0.9.4)\n",
            "Requirement already satisfied: unidecode in /usr/local/lib/python3.8/dist-packages (from markovify) (1.3.6)\n",
            "Looking in indexes: https://pypi.org/simple, https://us-python.pkg.dev/colab-wheels/public/simple/\n",
            "Requirement already satisfied: numpy in /usr/local/lib/python3.8/dist-packages (1.22.4)\n",
            "Looking in indexes: https://pypi.org/simple, https://us-python.pkg.dev/colab-wheels/public/simple/\n",
            "Requirement already satisfied: scipy in /usr/local/lib/python3.8/dist-packages (1.7.3)\n",
            "Requirement already satisfied: numpy<1.23.0,>=1.16.5 in /usr/local/lib/python3.8/dist-packages (from scipy) (1.22.4)\n"
          ]
        }
      ]
    },
    {
      "cell_type": "markdown",
      "source": [
        "## Import"
      ],
      "metadata": {
        "id": "FCgmwPZeKFr5"
      }
    },
    {
      "cell_type": "code",
      "execution_count": null,
      "metadata": {
        "id": "Y8QXX6xV99ky"
      },
      "outputs": [],
      "source": [
        "# import stuff\n",
        "import sys, pandas as pd, numpy as np, json, random, re, gzip, textwrap\n",
        "from collections import Counter, defaultdict"
      ]
    },
    {
      "cell_type": "markdown",
      "source": [
        "# All The Allison Parrish Things"
      ],
      "metadata": {
        "id": "cG7XfDvALqe5"
      }
    },
    {
      "cell_type": "markdown",
      "source": [
        "## Overview"
      ],
      "metadata": {
        "id": "FBbML32uLr0_"
      }
    },
    {
      "cell_type": "markdown",
      "source": [
        "### Project Gutenberg\n",
        "- [Gutenberg, dammit](https://github.com/aparrish/gutenberg-dammit/) (full corpus)\n",
        "- [Gutenberg corpus](https://github.com/aparrish/gutenberg-poetry-corpus) (poetry corpus)\n",
        "  - [\"Quick Experiments\" Jupyter Notebook](https://github.com/aparrish/gutenberg-poetry-corpus/blob/master/quick-experiments.ipynb)\n",
        "  - [\"Plot to Poem\" 2017 NoPaGenMo Jupyter Notebook](https://github.com/aparrish/plot-to-poem/blob/master/plot-to-poem.ipynb)\n",
        "- [Gutenberg Poetry Autocomplete](http://gutenberg-poetry.decontextualize.com/)"
      ],
      "metadata": {
        "id": "YcULD92pLsxK"
      }
    },
    {
      "cell_type": "markdown",
      "source": [
        "## Shallow Dives"
      ],
      "metadata": {
        "id": "7ObQUFD4Moga"
      }
    },
    {
      "cell_type": "markdown",
      "source": [
        "### Project Gutenberg Poetry Corpus\n",
        "\n",
        "- [GitHub](https://github.com/aparrish/gutenberg-poetry-corpus)\n",
        "- [Jupyter Notebook](https://github.com/aparrish/gutenberg-poetry-corpus/blob/master/quick-experiments.ipynb)"
      ],
      "metadata": {
        "id": "XfGL2zEnMuDv"
      }
    },
    {
      "cell_type": "markdown",
      "source": [
        "#### Build & Load"
      ],
      "metadata": {
        "id": "_8sYPIA9_3Kq"
      }
    },
    {
      "cell_type": "code",
      "source": [
        "# build\n",
        "!curl -O http://static.decontextualize.com/gutenberg-poetry-v001.ndjson.gz"
      ],
      "metadata": {
        "id": "mX89neQWAy4h",
        "colab": {
          "base_uri": "https://localhost:8080/"
        },
        "outputId": "fb399025-e730-4ca6-ea33-2a39a4b13757"
      },
      "execution_count": null,
      "outputs": [
        {
          "output_type": "stream",
          "name": "stdout",
          "text": [
            "  % Total    % Received % Xferd  Average Speed   Time    Time     Time  Current\n",
            "                                 Dload  Upload   Total   Spent    Left  Speed\n",
            "100 52.2M  100 52.2M    0     0  67.1M      0 --:--:-- --:--:-- --:--:-- 67.0M\n"
          ]
        }
      ]
    },
    {
      "cell_type": "code",
      "source": [
        "# load data\n",
        "# import gzip, json\n",
        "all_lines = []\n",
        "for line in gzip.open(\"gutenberg-poetry-v001.ndjson.gz\"):\n",
        "    all_lines.append(json.loads(line.strip()))"
      ],
      "metadata": {
        "id": "jBQWjqfwA81k"
      },
      "execution_count": null,
      "outputs": []
    },
    {
      "cell_type": "code",
      "source": [
        "# show random sample\n",
        "# import random\n",
        "random.sample(all_lines, 8)"
      ],
      "metadata": {
        "id": "vWoz1gRBA_eu",
        "colab": {
          "base_uri": "https://localhost:8080/"
        },
        "outputId": "063408fa-9a78-4163-d60e-6e64fa01d493"
      },
      "execution_count": null,
      "outputs": [
        {
          "output_type": "execute_result",
          "data": {
            "text/plain": [
              "[{'s': 'The lady, ever watchful, penetrant,', 'gid': '2490'},\n",
              " {'s': '\"Some are labelled \\'Knots to tie men--', 'gid': '8187'},\n",
              " {'s': \"Milton! thou should'st be living at this hour:\", 'gid': '41016'},\n",
              " {'s': 'The stranger smiled: \"Since to your home', 'gid': '28287'},\n",
              " {'s': '\"Gee up, my little horse!\" he cried,', 'gid': '16686'},\n",
              " {'s': 'On an Easter-lily stalk.', 'gid': '1664'},\n",
              " {'s': 'Give half the world to sunshine, half to shade,', 'gid': '232'},\n",
              " {'s': 'When Roland saw that life had fled,', 'gid': '14019'}]"
            ]
          },
          "metadata": {},
          "execution_count": 5
        }
      ]
    },
    {
      "cell_type": "markdown",
      "source": [
        "#### Markov Text Chains"
      ],
      "metadata": {
        "id": "k3tXneyaDwts"
      }
    },
    {
      "cell_type": "code",
      "source": [
        "# markov text chains\n",
        "# import markovify\n",
        "big_poem = \"\\n\".join([line['s'] for line in random.sample(all_lines, 250000)])\n",
        "model = markovify.NewlineText(big_poem)\n",
        "for i in range(14):\n",
        "    print(model.make_sentence())"
      ],
      "metadata": {
        "id": "8NHKv7PiD1J9"
      },
      "execution_count": null,
      "outputs": []
    },
    {
      "cell_type": "code",
      "source": [
        "# another sentence\n",
        "model.make_short_sentence(60)"
      ],
      "metadata": {
        "id": "nhCoyyHmD-Ma"
      },
      "execution_count": null,
      "outputs": []
    },
    {
      "cell_type": "code",
      "source": [
        "# randomly-generated poem\n",
        "for i in range(6):\n",
        "    print()\n",
        "    for i in range(random.randrange(1, 5)):\n",
        "        print(model.make_short_sentence(40))\n",
        "    # ensure last line has a period at the end, for closure\n",
        "    print(re.sub(r\"(\\w)[^\\w.]?$\", r\"\\1.\", model.make_short_sentence(40)))\n",
        "    print()\n",
        "    print(\"～ ❀ ～\")"
      ],
      "metadata": {
        "id": "JPlMjfYRD_30"
      },
      "execution_count": null,
      "outputs": []
    },
    {
      "cell_type": "markdown",
      "source": [
        "# Katie's Explorations"
      ],
      "metadata": {
        "id": "neNwrbgjRRwv"
      }
    },
    {
      "cell_type": "markdown",
      "source": [
        "## Clean poem text, merge with metadata"
      ],
      "metadata": {
        "id": "fwtQLcGwgAWO"
      }
    },
    {
      "cell_type": "code",
      "source": [
        "# show random sample\n",
        "# import random\n",
        "random.sample(all_lines, 8)"
      ],
      "metadata": {
        "colab": {
          "base_uri": "https://localhost:8080/"
        },
        "id": "ewNILo0RRT9H",
        "outputId": "25923342-7003-4272-a9bb-6467eafed4b1"
      },
      "execution_count": null,
      "outputs": [
        {
          "output_type": "execute_result",
          "data": {
            "text/plain": [
              "[{'s': 'With flaming torch, withstood the arms of France,', 'gid': '42422'},\n",
              " {'s': 'That searched the mysteries of leafy shade,', 'gid': '38135'},\n",
              " {'s': 'Here in this old neglected church,', 'gid': '1365'},\n",
              " {'s': \"(The port once gain'd) uncabled ride secure.\", 'gid': '24269'},\n",
              " {'s': '_Faust_. Thee, flame-born creature, shall I fear?', 'gid': '14460'},\n",
              " {'s': 'On her ensnared in Káma’s net', 'gid': '24869'},\n",
              " {'s': 'If no better feast is ready,', 'gid': '33089'},\n",
              " {'s': 'What were thy lips the worse for one poor kiss?', 'gid': '1045'}]"
            ]
          },
          "metadata": {},
          "execution_count": 6
        }
      ]
    },
    {
      "cell_type": "code",
      "source": [
        "# all lines df\n",
        "allLines = pd.DataFrame.from_dict(all_lines)\n",
        "allLines.head()"
      ],
      "metadata": {
        "id": "KpuE1IyFYa4z"
      },
      "execution_count": null,
      "outputs": []
    },
    {
      "cell_type": "markdown",
      "source": [
        "Allison P published to Kaggle: https://www.kaggle.com/datasets/terminate9298/gutenberg-poetry-dataset"
      ],
      "metadata": {
        "id": "jnnrzjQpyqPN"
      }
    },
    {
      "cell_type": "code",
      "source": [
        "# group df by gid\n",
        "allLines['poem'] = allLines.groupby(['gid'])['s'].transform(lambda x : ' \\n '.join(x))\n",
        "allLines = allLines.drop_duplicates(subset=\"poem\", keep=\"first\")\n",
        "allLines['gid'] = allLines['gid'].astype(int)\n",
        "allLines.to_csv(\"/content/drive/Shareddrives/Kaneb Center Course Design Academy/Notebooks/gutenberg_output.csv\", index=False)\n",
        "allLines.head()"
      ],
      "metadata": {
        "id": "ZZ2-emrxY3Ym"
      },
      "execution_count": null,
      "outputs": []
    },
    {
      "cell_type": "code",
      "source": [
        "# get metadata\n",
        "metadata = pd.read_csv(\"https://www.gutenberg.org/cache/epub/feeds/pg_catalog.csv\")\n",
        "columns = ['gid', 'type', 'issued', 'title', 'language', 'authors', 'subjects', 'locc', 'bookshelves']\n",
        "metadata.columns = columns\n",
        "metadata.to_csv(\"/content/drive/Shareddrives/Kaneb Center Course Design Academy/Notebooks/gutenberg_metadata.csv\", index=False)\n",
        "metadata.head()"
      ],
      "metadata": {
        "id": "MZ67H6v_hREy"
      },
      "execution_count": null,
      "outputs": []
    },
    {
      "cell_type": "code",
      "source": [
        "# merge dfs\n",
        "combined = pd.merge(allLines, metadata, how=\"left\", on=\"gid\")\n",
        "combined.to_csv(\"/content/drive/Shareddrives/Kaneb Center Course Design Academy/Notebooks/gutenberg_combined.csv\", index=False)\n",
        "combined"
      ],
      "metadata": {
        "id": "IZE3JShca3dL"
      },
      "execution_count": null,
      "outputs": []
    },
    {
      "cell_type": "markdown",
      "source": [
        "## Keyword Return\n",
        "\n",
        "User enters a keyword and program returns single poem that includes that keyword."
      ],
      "metadata": {
        "id": "KeC4FYkLh9cK"
      }
    },
    {
      "cell_type": "code",
      "source": [
        "keyword = input(\"Enter a search term: \")\n",
        "\n",
        "result = combined[combined['poem'].str.contains(keyword)].sample()\n",
        "\n",
        "poem = result.to_dict('records')\n",
        "\n",
        "print(poem[0]['poem'])"
      ],
      "metadata": {
        "id": "YmsbZt_8VvGD"
      },
      "execution_count": null,
      "outputs": []
    },
    {
      "cell_type": "markdown",
      "source": [
        "## Old code"
      ],
      "metadata": {
        "id": "tRpAsAp7hY0C"
      }
    },
    {
      "cell_type": "code",
      "source": [
        "# testing on a subset\n",
        "subset = allLines.iloc[:30000,:] # subset all lines\n",
        "subset['poem'] = subset.groupby(['gid'])['s'].transform(lambda x : ' \\n '.join(x)) # lambda function to group by id and combine individual lines in new columns\n",
        "subset2 = subset.drop_duplicates(subset='poem', keep='first') # remove duplicates\n",
        "subset2 # show updated df"
      ],
      "metadata": {
        "id": "s8w0Jq9Mdyrh"
      },
      "execution_count": null,
      "outputs": []
    },
    {
      "cell_type": "code",
      "source": [
        "# isolate single poem\n",
        "poem = subset2.loc[subset['gid'] == \"20\"]\n",
        "poemDict = poem.to_dict('records')\n",
        "poemStr = str(poemDict[0]['poem'])\n",
        "print(poemStr)"
      ],
      "metadata": {
        "id": "8rXAUwh8e9dt"
      },
      "execution_count": null,
      "outputs": []
    },
    {
      "cell_type": "code",
      "source": [
        "# get unique list of ids\n",
        "ids = list(set([line['gid'] for line in all_lines]))\n",
        "len(ids)"
      ],
      "metadata": {
        "id": "6aTqXvfjWiVW"
      },
      "execution_count": null,
      "outputs": []
    },
    {
      "cell_type": "markdown",
      "source": [
        "Not having any luck with the gutenberg libraries:\n",
        "- `gutenberg`\n",
        "- `gutenbergpy`"
      ],
      "metadata": {
        "id": "38FEPaeoSRIw"
      }
    },
    {
      "cell_type": "markdown",
      "source": [
        "Trying the machine readable data files Gutenberg makes available https://www.gutenberg.org/ebooks/offline_catalogs.html#the-project-gutenberg-catalog-metadata-in-machine-readable-format"
      ],
      "metadata": {
        "id": "zimHODS_T_RM"
      }
    },
    {
      "cell_type": "code",
      "source": [
        "metadata = df.loc[df[\"Text#\"] == 42422] \n",
        "metadata"
      ],
      "metadata": {
        "id": "24Tq9l8YVmvO"
      },
      "execution_count": null,
      "outputs": []
    },
    {
      "cell_type": "code",
      "source": [
        "metadata = df.loc[df[\"Text#\"] == 42422] \n",
        "\n",
        "dtest = metadata.to_dict('records')\n",
        "\n",
        "dtest"
      ],
      "metadata": {
        "id": "yvCZ_5diUiRM"
      },
      "execution_count": null,
      "outputs": []
    },
    {
      "cell_type": "code",
      "source": [
        "# fighting my way through dynamic page stuff\n",
        "import bs4 as bs\n",
        "import requests, re\n",
        "\n",
        "page = requests.get(poemUrls[5])\n",
        "soup = bs.BeautifulSoup(page.text, 'html.parser')\n",
        "\n",
        "data = soup.find_all('script')[2].contents[0]\n",
        "data2 = json.loads(data)\n",
        "data3=data2['@graph'][0]\n",
        "data3.keys()\n",
        "\n",
        "soup.find(attrs={\"itemprop\" : \"author\"}).contents[0].strip()\n",
        "attribution = re.sub('<.*?>', '', str(soup.find(class_=\"card--poem__attribution text-muted-dark font-sans p-3\")))\n",
        "\n",
        "string = str(data3['description'])\n",
        "text = re.sub('<.*?>', '', string)"
      ],
      "metadata": {
        "id": "Fww_jMret5Kx"
      },
      "execution_count": null,
      "outputs": []
    },
    {
      "cell_type": "code",
      "source": [
        "# random hunting for poetryDB\n",
        "page = requests.get(urls[3])\n",
        "info = page.json()\n",
        "poem = info[0]\n",
        "poem.keys()\n",
        "\n",
        "lines = []\n",
        "\n",
        "for line in poem['lines']:\n",
        "  lines.append(line)\n",
        "  lines.append(\"\\n\")\n",
        "\n",
        "for line in lines:\n",
        "  print(line)"
      ],
      "metadata": {
        "colab": {
          "base_uri": "https://localhost:8080/"
        },
        "id": "COXmsG68_A3Z",
        "outputId": "c3650064-698e-4782-b596-eaae611878d4"
      },
      "execution_count": null,
      "outputs": [
        {
          "output_type": "execute_result",
          "data": {
            "text/plain": [
              "dict_keys(['title', 'author', 'lines', 'linecount'])"
            ]
          },
          "metadata": {},
          "execution_count": 188
        }
      ]
    }
  ]
}