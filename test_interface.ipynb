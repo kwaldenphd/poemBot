{
  "nbformat": 4,
  "nbformat_minor": 0,
  "metadata": {
    "colab": {
      "provenance": [],
      "authorship_tag": "ABX9TyNFEBTxXKj1axJtOHHHOr+4",
      "include_colab_link": true
    },
    "kernelspec": {
      "name": "python3",
      "display_name": "Python 3"
    },
    "language_info": {
      "name": "python"
    }
  },
  "cells": [
    {
      "cell_type": "markdown",
      "metadata": {
        "id": "view-in-github",
        "colab_type": "text"
      },
      "source": [
        "<a href=\"https://colab.research.google.com/github/kwaldenphd/poemBot/blob/master/test_interface.ipynb\" target=\"_parent\"><img src=\"https://colab.research.google.com/assets/colab-badge.svg\" alt=\"Open In Colab\"/></a>"
      ]
    },
    {
      "cell_type": "markdown",
      "source": [
        "# Setup (aka run this first)"
      ],
      "metadata": {
        "id": "FQ83ak_Q1U70"
      }
    },
    {
      "cell_type": "code",
      "execution_count": null,
      "metadata": {
        "id": "cFEo-p9M078B"
      },
      "outputs": [],
      "source": [
        "# import all the things\n",
        "import sys, pandas as pd, numpy as np, json, random, re, gzip, textwrap\n",
        "\n",
        "# load data\n",
        "subset = pd.read_csv(\"https://raw.githubusercontent.com/kwaldenphd/interactive-visualization-python/main/data/filtered_subset.csv\")"
      ]
    },
    {
      "cell_type": "markdown",
      "source": [
        "# Output Random Poem"
      ],
      "metadata": {
        "id": "oJw3VVDx1YXU"
      }
    },
    {
      "cell_type": "code",
      "source": [
        "# function to output random poem\n",
        "def randPoem(poems):\n",
        "  randPoem = subset.sample().values.tolist()\n",
        "  wrappedTitle = textwrap.fill(randPoem[0][0], width=32)\n",
        "  wrappedAuthor = textwrap.fill(randPoem[0][2], width=32)\n",
        "  wrappedPoem = \"\"\n",
        "  for line in randPoem[0][1].splitlines():\n",
        "    wrappedLine = textwrap.fill(line, width=32, subsequent_indent=\"    \")\n",
        "    wrappedPoem += wrappedLine +\"\\n\"\n",
        "  print(wrappedTitle, \"\\n\", \"\\n\", wrappedPoem, \"\\n\", \"\\n\", wrappedAuthor)\n",
        "\n",
        "# for centering in a Jupyter Notebook\n",
        "from IPython.display import display, HTML\n",
        "\n",
        "html_src = \"<div style='text-align:left'>\"\n",
        "html_src += str(randPoem(subset))\n",
        "html_src += \"<div>\"\n",
        "display(HTML(html_src))"
      ],
      "metadata": {
        "id": "OcDWTHDG1ZZE"
      },
      "execution_count": null,
      "outputs": []
    },
    {
      "cell_type": "markdown",
      "source": [
        "# Output Random Poem Based on Keyword Input"
      ],
      "metadata": {
        "id": "_Dxynihs1dKM"
      }
    },
    {
      "cell_type": "code",
      "source": [
        "# function to have user input keyword & output random poem\n",
        "def keyPoem(poems):\n",
        "  keyword = input(\"Enter a search term: \")\n",
        "  randPoem = poems[poems['text'].str.contains(keyword)].sample().values.tolist()\n",
        "  wrappedTitle = textwrap.fill(randPoem[0][0], width=32)\n",
        "  wrappedAuthor = textwrap.fill(randPoem[0][2], width=32)\n",
        "  wrappedPoem = \"\"\n",
        "  for line in randPoem[0][1].splitlines():\n",
        "    wrappedLine = textwrap.fill(line, width=32, subsequent_indent=\"    \")\n",
        "    wrappedPoem += wrappedLine +\"\\n\"\n",
        "  print(wrappedTitle, \"\\n\", \"\\n\", wrappedPoem, \"\\n\", \"\\n\", wrappedAuthor)\n",
        "\n",
        "# for centering in a Jupyter Notebook\n",
        "from IPython.display import display, HTML\n",
        "\n",
        "html_src = \"<div style='text-align:left'>\"\n",
        "html_src += str(keyPoem(subset))\n",
        "html_src += \"<div>\"\n",
        "display(HTML(html_src))"
      ],
      "metadata": {
        "colab": {
          "base_uri": "https://localhost:8080/",
          "height": 393
        },
        "id": "I6EDo-BY1hIX",
        "outputId": "915b574b-3aaa-49c7-f777-a96af395d888"
      },
      "execution_count": null,
      "outputs": [
        {
          "output_type": "stream",
          "name": "stdout",
          "text": [
            "Enter a search term: flower\n",
            "As if some little Arctic flower \n",
            " \n",
            " As if some little Arctic flower\n",
            " Upon the polar hem --\n",
            " Went wandering down the\n",
            "    Latitudes\n",
            " Until it puzzled came\n",
            " To continents of summer --\n",
            " To firmaments of sun --\n",
            " To strange, bright crowds of\n",
            "    flowers --\n",
            " And birds, of foreign tongue!\n",
            " I say, As if this little flower\n",
            " To Eden, wandered in --\n",
            " What then? Why nothing,\n",
            " Only, your inference therefrom!\n",
            " \n",
            " \n",
            " Emily Dickinson\n"
          ]
        },
        {
          "output_type": "display_data",
          "data": {
            "text/plain": [
              "<IPython.core.display.HTML object>"
            ],
            "text/html": [
              "<div style='text-align:left'>None<div>"
            ]
          },
          "metadata": {}
        }
      ]
    }
  ]
}