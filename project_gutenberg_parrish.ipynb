{
  "nbformat": 4,
  "nbformat_minor": 0,
  "metadata": {
    "colab": {
      "provenance": [],
      "toc_visible": true,
      "authorship_tag": "ABX9TyOWR2+lY6BuOPD1WXQW9kiw",
      "include_colab_link": true
    },
    "kernelspec": {
      "name": "python3",
      "display_name": "Python 3"
    },
    "language_info": {
      "name": "python"
    }
  },
  "cells": [
    {
      "cell_type": "markdown",
      "metadata": {
        "id": "view-in-github",
        "colab_type": "text"
      },
      "source": [
        "<a href=\"https://colab.research.google.com/github/kwaldenphd/poemBot/blob/master/project_gutenberg_parrish.ipynb\" target=\"_parent\"><img src=\"https://colab.research.google.com/assets/colab-badge.svg\" alt=\"Open In Colab\"/></a>"
      ]
    },
    {
      "cell_type": "markdown",
      "source": [
        "# Setup & Environment\n",
        "\n"
      ],
      "metadata": {
        "id": "p4w-qpXW-Ap9"
      }
    },
    {
      "cell_type": "markdown",
      "source": [
        "## Install"
      ],
      "metadata": {
        "id": "wqw_WSXJKE9w"
      }
    },
    {
      "cell_type": "code",
      "source": [
        "!pip install pronouncing # https://pronouncing.readthedocs.io/en/latest/\n",
        "!pip install markovify # https://pypi.org/project/markovify/\n",
        "!pip install numpy # https://pypi.org/project/numpy/\n",
        "! pip install scipy # https://pypi.org/project/scipy/"
      ],
      "metadata": {
        "id": "4N2i1prnKGva"
      },
      "execution_count": null,
      "outputs": []
    },
    {
      "cell_type": "markdown",
      "source": [
        "Dependency issues with `tensorflow` & `keras` for `Pincelate` (https://pincelate.readthedocs.io/en/latest/)"
      ],
      "metadata": {
        "id": "lBaubaUevnY5"
      }
    },
    {
      "cell_type": "code",
      "source": [
        "# !pip install tensorflow==1.15.0 # https://pypi.org/project/tensorflow/\n",
        "# !pip install keras==2.2.5 \"h5py<3.0.0\" # https://pypi.org/project/keras/\n",
        "# !pip install pincelate # https://pypi.org/project/pincelate/"
      ],
      "metadata": {
        "id": "HMGc8annvg9O"
      },
      "execution_count": null,
      "outputs": []
    },
    {
      "cell_type": "markdown",
      "source": [
        "## Import"
      ],
      "metadata": {
        "id": "FCgmwPZeKFr5"
      }
    },
    {
      "cell_type": "code",
      "execution_count": null,
      "metadata": {
        "id": "Y8QXX6xV99ky"
      },
      "outputs": [],
      "source": [
        "# import stuff\n",
        "import sys, pandas as pd, numpy as np, json, random, re, gzip, textwrap\n",
        "from collections import Counter, defaultdict\n",
        "import markovify, codecs, random\n",
        "# from pincelate import Pincelate"
      ]
    },
    {
      "cell_type": "markdown",
      "source": [
        "# All The Allison Parrish Things"
      ],
      "metadata": {
        "id": "cG7XfDvALqe5"
      }
    },
    {
      "cell_type": "markdown",
      "source": [
        "## Overview"
      ],
      "metadata": {
        "id": "FBbML32uLr0_"
      }
    },
    {
      "cell_type": "markdown",
      "source": [
        "### Project Gutenberg\n",
        "- [Gutenberg, dammit](https://github.com/aparrish/gutenberg-dammit/) (full corpus)\n",
        "- [Gutenberg corpus](https://github.com/aparrish/gutenberg-poetry-corpus) (poetry corpus)\n",
        "  - [\"Quick Experiments\" Jupyter Notebook](https://github.com/aparrish/gutenberg-poetry-corpus/blob/master/quick-experiments.ipynb)\n",
        "  - [\"Plot to Poem\" 2017 NoPaGenMo Jupyter Notebook](https://github.com/aparrish/plot-to-poem/blob/master/plot-to-poem.ipynb)\n",
        "- [Gutenberg Poetry Autocomplete](http://gutenberg-poetry.decontextualize.com/)"
      ],
      "metadata": {
        "id": "YcULD92pLsxK"
      }
    },
    {
      "cell_type": "markdown",
      "source": [
        "## Shallow Dives"
      ],
      "metadata": {
        "id": "7ObQUFD4Moga"
      }
    },
    {
      "cell_type": "markdown",
      "source": [
        "### Project Gutenberg Poetry Corpus\n",
        "\n",
        "- [GitHub](https://github.com/aparrish/gutenberg-poetry-corpus)\n",
        "- [Jupyter Notebook](https://github.com/aparrish/gutenberg-poetry-corpus/blob/master/quick-experiments.ipynb)"
      ],
      "metadata": {
        "id": "XfGL2zEnMuDv"
      }
    },
    {
      "cell_type": "markdown",
      "source": [
        "#### Build & Load"
      ],
      "metadata": {
        "id": "_8sYPIA9_3Kq"
      }
    },
    {
      "cell_type": "code",
      "source": [
        "# build\n",
        "!curl -O http://static.decontextualize.com/gutenberg-poetry-v001.ndjson.gz"
      ],
      "metadata": {
        "id": "mX89neQWAy4h"
      },
      "execution_count": null,
      "outputs": []
    },
    {
      "cell_type": "code",
      "source": [
        "# load data\n",
        "# import gzip, json\n",
        "all_lines = []\n",
        "for line in gzip.open(\"gutenberg-poetry-v001.ndjson.gz\"):\n",
        "    all_lines.append(json.loads(line.strip()))"
      ],
      "metadata": {
        "id": "jBQWjqfwA81k"
      },
      "execution_count": null,
      "outputs": []
    },
    {
      "cell_type": "code",
      "source": [
        "# show random sample\n",
        "# import random\n",
        "random.sample(all_lines, 8)"
      ],
      "metadata": {
        "id": "vWoz1gRBA_eu"
      },
      "execution_count": null,
      "outputs": []
    },
    {
      "cell_type": "markdown",
      "source": [
        "#### Concordances & Counts"
      ],
      "metadata": {
        "id": "xwI1Gz4xPGgt"
      }
    },
    {
      "cell_type": "code",
      "source": [
        "# create concordance for \"flower\"\n",
        "# import re\n",
        "flower_lines = [line['s'] for line in all_lines if re.search(r'\\bflower\\b', line['s'], re.I)]\n",
        "random.sample(flower_lines, 8)"
      ],
      "metadata": {
        "id": "0xRjrVyaBDEl"
      },
      "execution_count": null,
      "outputs": []
    },
    {
      "cell_type": "code",
      "source": [
        "# longest lines, align on \"flower\"\n",
        "longest = max([len(x) for x in flower_lines]) # find the length of the longest line\n",
        "center = longest - len(\"flower\") # and use it to create a \"center\" offset that will work for all lines\n",
        "\n",
        "sorted_flower_lines = sorted(\n",
        "    [line for line in flower_lines if re.search(r\"\\bflower\\b\\s\\w\", line)], # only lines with word following\n",
        "    key=lambda line: line[re.search(r\"\\bflower\\b\\s\", line).end():]) # sort on the substring following the match\n",
        "\n",
        "for line in sorted_flower_lines[350:400]: # change these numbers to see a different slice\n",
        "    offset = center - re.search(r'\\bflower\\b', line, re.I).start()\n",
        "    print((\" \"*offset)+line) # left-pad the string with spaces to align on \"flower\""
      ],
      "metadata": {
        "id": "irjlRgZpBOek"
      },
      "execution_count": null,
      "outputs": []
    },
    {
      "cell_type": "code",
      "source": [
        "# adjective concordance \n",
        "found_adj = []\n",
        "for line in flower_lines:\n",
        "    matches = re.findall(r\"(the|a)\\s(\\b\\w+\\b)\\s(\\bflower\\b)\", line, re.I)\n",
        "    for match in matches: \n",
        "        found_adj.append(match[1])\n",
        "random.sample(found_adj, 12)"
      ],
      "metadata": {
        "id": "8bN_WElNBSU1"
      },
      "execution_count": null,
      "outputs": []
    },
    {
      "cell_type": "code",
      "source": [
        "# counting most common adjectives\n",
        "# from collections import Counter\n",
        "Counter(found_adj).most_common(12)"
      ],
      "metadata": {
        "id": "1STS0lc-BWjr"
      },
      "execution_count": null,
      "outputs": []
    },
    {
      "cell_type": "markdown",
      "source": [
        "#### Rhymes & Phones"
      ],
      "metadata": {
        "id": "zG02TqC6PJa4"
      }
    },
    {
      "cell_type": "code",
      "source": [
        "# rhymes\n",
        "# import pronouncing as pr\n",
        "source_word = \"flowering\"\n",
        "source_word_rhymes = pr.rhymes(source_word)\n",
        "for line in all_lines:\n",
        "    text = line['s']\n",
        "    match = re.search(r'(\\b\\w+\\b)\\W*$', text)\n",
        "    if match:\n",
        "        last_word = match.group()\n",
        "        if last_word in source_word_rhymes:\n",
        "            print(text)"
      ],
      "metadata": {
        "id": "luApJpcJBb7u"
      },
      "execution_count": null,
      "outputs": []
    },
    {
      "cell_type": "code",
      "source": [
        "# create list of phones\n",
        "phones = pr.phones_for_word(source_word)[0] # words may have multiple pronunciations, so this returns a list\n",
        "pr.rhyming_part(phones)"
      ],
      "metadata": {
        "id": "FUkhpUHIBm9c"
      },
      "execution_count": null,
      "outputs": []
    },
    {
      "cell_type": "code",
      "source": [
        "# random rhymes\n",
        "# from collections import defaultdict\n",
        "by_rhyming_part = defaultdict(lambda: defaultdict(list))\n",
        "for line in all_lines:\n",
        "    text = line['s']\n",
        "    if not(32 < len(text) < 48): # only use lines of uniform lengths\n",
        "        continue\n",
        "    match = re.search(r'(\\b\\w+\\b)\\W*$', text)\n",
        "    if match:\n",
        "        last_word = match.group()\n",
        "        pronunciations = pr.phones_for_word(last_word)\n",
        "        if len(pronunciations) > 0:\n",
        "            rhyming_part = pr.rhyming_part(pronunciations[0])\n",
        "            # group by rhyming phones (for rhymes) and words (to avoid duplicate words)\n",
        "            by_rhyming_part[rhyming_part][last_word.lower()].append(text)\n",
        "\n",
        "random_rhyming_part = random.choice(list(by_rhyming_part.keys()))\n",
        "random_rhyming_part, by_rhyming_part[random_rhyming_part]"
      ],
      "metadata": {
        "id": "F1lY1wpwBtRA"
      },
      "execution_count": null,
      "outputs": []
    },
    {
      "cell_type": "code",
      "source": [
        "# rhyming groups\n",
        "rhyme_groups = [group for group in by_rhyming_part.values() if len(group) >= 2]\n",
        "for i in range(7):\n",
        "    group = random.choice(rhyme_groups)\n",
        "    words = random.sample(list(group.keys()), 2)\n",
        "    print(random.choice(group[words[0]]))\n",
        "    print(random.choice(group[words[1]]))"
      ],
      "metadata": {
        "id": "Z8-jpuRFB1x0"
      },
      "execution_count": null,
      "outputs": []
    },
    {
      "cell_type": "markdown",
      "source": [
        "#### Markov Text Chains"
      ],
      "metadata": {
        "id": "k3tXneyaDwts"
      }
    },
    {
      "cell_type": "code",
      "source": [
        "# markov text chains\n",
        "# import markovify\n",
        "big_poem = \"\\n\".join([line['s'] for line in random.sample(all_lines, 250000)])\n",
        "model = markovify.NewlineText(big_poem)\n",
        "for i in range(14):\n",
        "    print(model.make_sentence())"
      ],
      "metadata": {
        "id": "8NHKv7PiD1J9"
      },
      "execution_count": null,
      "outputs": []
    },
    {
      "cell_type": "code",
      "source": [
        "# another sentence\n",
        "model.make_short_sentence(60)"
      ],
      "metadata": {
        "id": "nhCoyyHmD-Ma"
      },
      "execution_count": null,
      "outputs": []
    },
    {
      "cell_type": "code",
      "source": [
        "# randomly-generated poem\n",
        "for i in range(6):\n",
        "    print()\n",
        "    for i in range(random.randrange(1, 5)):\n",
        "        print(model.make_short_sentence(40))\n",
        "    # ensure last line has a period at the end, for closure\n",
        "    print(re.sub(r\"(\\w)[^\\w.]?$\", r\"\\1.\", model.make_short_sentence(40)))\n",
        "    print()\n",
        "    print(\"～ ❀ ～\")"
      ],
      "metadata": {
        "id": "JPlMjfYRD_30"
      },
      "execution_count": null,
      "outputs": []
    }
  ]
}