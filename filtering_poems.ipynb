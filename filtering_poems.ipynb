{
  "nbformat": 4,
  "nbformat_minor": 0,
  "metadata": {
    "colab": {
      "provenance": [],
      "mount_file_id": "1iFEAXZu58O22BLPva5xBJWEI8EFVMlU0",
      "authorship_tag": "ABX9TyPsi9VRo2CY8ISGMEVd888F",
      "include_colab_link": true
    },
    "kernelspec": {
      "name": "python3",
      "display_name": "Python 3"
    },
    "language_info": {
      "name": "python"
    }
  },
  "cells": [
    {
      "cell_type": "markdown",
      "metadata": {
        "id": "view-in-github",
        "colab_type": "text"
      },
      "source": [
        "<a href=\"https://colab.research.google.com/github/kwaldenphd/poemBot/blob/master/filtering_poems.ipynb\" target=\"_parent\"><img src=\"https://colab.research.google.com/assets/colab-badge.svg\" alt=\"Open In Colab\"/></a>"
      ]
    },
    {
      "cell_type": "markdown",
      "source": [
        "# Setup & Environment"
      ],
      "metadata": {
        "id": "MAdNrrmJD4No"
      }
    },
    {
      "cell_type": "code",
      "execution_count": null,
      "metadata": {
        "id": "KvWWIATm7Xu4"
      },
      "outputs": [],
      "source": [
        "# import all the things\n",
        "import sys, pandas as pd, numpy as np, json, random, re, gzip, textwrap"
      ]
    },
    {
      "cell_type": "markdown",
      "source": [
        "# Data"
      ],
      "metadata": {
        "id": "Z-8guIZlq9kD"
      }
    },
    {
      "cell_type": "code",
      "source": [
        "combined = pd.read_csv(\"/content/drive/Shareddrives/Kaneb Center Course Design Academy/Corpus_Adventures/Data/combined_subset.csv\")\n",
        "\n",
        "combined"
      ],
      "metadata": {
        "id": "plm8CXraq-Oc"
      },
      "execution_count": null,
      "outputs": []
    },
    {
      "cell_type": "markdown",
      "source": [
        "# Filter\n",
        "\n",
        "Filter poems that have more than 20 lines and more than 40 characters per line (criteria based on Evan Will's [Golden Treasury Corpus](https://github.com/evanwill/poemBot/blob/master/goldenTreasuryPoems.csv))"
      ],
      "metadata": {
        "id": "69DrDvi-rThL"
      }
    },
    {
      "cell_type": "code",
      "source": [
        "subset = combined[combined.lineCount.notnull()] # filter poems with no characters\n",
        "subset = subset[subset['lineCount'] <= 20] # filter out poems with more than 20 lines\n",
        "subset = subset[subset['avgChar'] < 40] # filter out poems that average more than 40 characters per line\n",
        "subset.to_csv(\"/content/drive/Shareddrives/Kaneb Center Course Design Academy/Corpus_Adventures/Data/filtered_subset.csv\", index=False) # write to csv\n",
        "\n",
        "subset.info()"
      ],
      "metadata": {
        "colab": {
          "base_uri": "https://localhost:8080/"
        },
        "id": "igLsddW8rjfb",
        "outputId": "28a3d049-71e3-4add-cff7-60fac2a048fb"
      },
      "execution_count": null,
      "outputs": [
        {
          "output_type": "stream",
          "name": "stdout",
          "text": [
            "<class 'pandas.core.frame.DataFrame'>\n",
            "Int64Index: 4238 entries, 0 to 24344\n",
            "Data columns (total 7 columns):\n",
            " #   Column       Non-Null Count  Dtype  \n",
            "---  ------       --------------  -----  \n",
            " 0   title        4207 non-null   object \n",
            " 1   text         4238 non-null   object \n",
            " 2   author       4238 non-null   object \n",
            " 3   source       4238 non-null   object \n",
            " 4   lineCount    4238 non-null   float64\n",
            " 5   avgChar      4238 non-null   float64\n",
            " 6   attribution  1270 non-null   object \n",
            "dtypes: float64(2), object(5)\n",
            "memory usage: 264.9+ KB\n"
          ]
        }
      ]
    },
    {
      "cell_type": "markdown",
      "source": [
        "# Output Random Poem"
      ],
      "metadata": {
        "id": "z4e-sW_2s2ML"
      }
    },
    {
      "cell_type": "code",
      "source": [
        "# function that prints poem\n",
        "import textwrap\n",
        "\n",
        "def printPoem(poems):\n",
        "  randPoem = subset.sample().values.tolist()\n",
        "  wrappedTitle = textwrap.fill(randPoem[0][0], width=32)\n",
        "  wrappedAuthor = textwrap.fill(randPoem[0][2], width=32)\n",
        "  wrappedPoem = \"\"\n",
        "  for line in randPoem[0][1].splitlines():\n",
        "    wrappedLine = textwrap.fill(line, width=32, subsequent_indent=\"    \")\n",
        "    wrappedPoem += wrappedLine +\"\\n\"\n",
        "  print(wrappedTitle, \"\\n\", \"\\n\", wrappedPoem, \"\\n\", \"\\n\", wrappedAuthor)"
      ],
      "metadata": {
        "id": "UvX1ibXqufiV"
      },
      "execution_count": null,
      "outputs": []
    },
    {
      "cell_type": "code",
      "source": [
        "# for centering in a Jupyter Notebook\n",
        "from IPython.display import display, HTML\n",
        "\n",
        "html_src = \"<div style='text-align:left'>\"\n",
        "html_src += str(printPoem(subset))\n",
        "html_src += \"<div>\"\n",
        "display(HTML(html_src))"
      ],
      "metadata": {
        "id": "t04ybE_twws9"
      },
      "execution_count": null,
      "outputs": []
    },
    {
      "cell_type": "markdown",
      "source": [
        "# Output Random Poem From Keyword Input"
      ],
      "metadata": {
        "id": "S0CWXhSZ0tE-"
      }
    }
  ]
}